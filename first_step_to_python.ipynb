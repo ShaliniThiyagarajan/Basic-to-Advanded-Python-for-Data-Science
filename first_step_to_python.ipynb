{
 "cells": [
  {
   "cell_type": "markdown",
   "id": "e8ed107f",
   "metadata": {},
   "source": [
    "# First Assignment on Python\n",
    "\n"
   ]
  },
  {
   "cell_type": "markdown",
   "id": "de4f744a",
   "metadata": {},
   "source": [
    "### Perform the Arthimatic operation"
   ]
  },
  {
   "cell_type": "markdown",
   "id": "bbe143b5",
   "metadata": {},
   "source": [
    "Working with cell\n",
    "\n",
    "1. Shift +Enter shortcut to run. Otherwise click on the run. If want to get the data from the above cells. Need to run the cell first and then run the current cell.Otherwise it will not take the content.\n",
    "2. To create new cell Shift+enter will run and create new cell. Other way insert-->Insert cell above to create cell above.\n",
    "Insert-> insert cell below to  create cell below.\n",
    "3. Here the cell canbe modify as code,markdown and heading\n",
    "4. Code to write python code.\n",
    "5. Markdown and heading to give description about code.\n",
    "\n",
    "Let us jump into code\n"
   ]
  },
  {
   "cell_type": "code",
   "execution_count": 1,
   "id": "b42808ed",
   "metadata": {},
   "outputs": [
    {
     "data": {
      "text/plain": [
       "10"
      ]
     },
     "execution_count": 1,
     "metadata": {},
     "output_type": "execute_result"
    }
   ],
   "source": [
    "2+3+5"
   ]
  },
  {
   "cell_type": "code",
   "execution_count": 2,
   "id": "e4a5cbc2",
   "metadata": {},
   "outputs": [
    {
     "data": {
      "text/plain": [
       "7.5"
      ]
     },
     "execution_count": 2,
     "metadata": {},
     "output_type": "execute_result"
    }
   ],
   "source": [
    "2.5*3"
   ]
  },
  {
   "cell_type": "code",
   "execution_count": 3,
   "id": "6cceade3",
   "metadata": {},
   "outputs": [
    {
     "data": {
      "text/plain": [
       "-12"
      ]
     },
     "execution_count": 3,
     "metadata": {},
     "output_type": "execute_result"
    }
   ],
   "source": [
    "-3*4\n"
   ]
  },
  {
   "cell_type": "markdown",
   "id": "666e4e3e",
   "metadata": {},
   "source": [
    "#### Let us slove some mathematical problem"
   ]
  },
  {
   "cell_type": "markdown",
   "id": "8f730cdf",
   "metadata": {},
   "source": [
    "1. The population of a town is 198568. Out of them 45312 are men and 35678 are women. Find the number of children in the town.\n",
    "\n",
    "2. A shopkeeper has 2425 boxes of 24 pencils each. How many pencils do all the boxes have in all?\n",
    "\n",
    "3. Linda bought a coat for $2265 and a saree for $2150. She gave $5000 to the shopkeeper. How much money did the shopkeeper return to her?\n",
    "\n",
    "4. The cost of 21 TV sets is $95844. Find the cost of one TV set."
   ]
  },
  {
   "cell_type": "markdown",
   "id": "f7219821",
   "metadata": {},
   "source": [
    "Before jump to slove the above  problem. Let us have look into operator action."
   ]
  },
  {
   "cell_type": "markdown",
   "id": "c72aa8e0",
   "metadata": {},
   "source": [
    "\n",
    "\n",
    "| Operator   | Purpose           | Example     | Result    |\n",
    "|------------|-------------------|-------------|-----------|\n",
    "| `+`        | Addition          | `2 + 3`     | `5`       |\n",
    "| `-`        | Subtraction       | `3 - 2`     | `1`       |\n",
    "| `*`        | Multiplication    | `8 * 12`    | `96`      |\n",
    "| `/`        | Division          | `100 / 7`   | `14.28..` |\n",
    "| `//`       | Floor Division    | `100 // 7`  | `14`      |    \n",
    "| `%`        | Modulus/Remainder | `100 % 7`   | `2`       |\n",
    "| `**`       | Exponent          | `5 ** 3`    | `125`     |\n",
    "\n"
   ]
  },
  {
   "cell_type": "markdown",
   "id": "4ce0de76",
   "metadata": {},
   "source": [
    "##### Problem 1"
   ]
  },
  {
   "cell_type": "code",
   "execution_count": 5,
   "id": "572aedf0",
   "metadata": {},
   "outputs": [
    {
     "ename": "SyntaxError",
     "evalue": "invalid syntax (<ipython-input-5-f762b6cf4858>, line 1)",
     "output_type": "error",
     "traceback": [
      "\u001b[1;36m  File \u001b[1;32m\"<ipython-input-5-f762b6cf4858>\"\u001b[1;36m, line \u001b[1;32m1\u001b[0m\n\u001b[1;33m    population of a town= 198568\u001b[0m\n\u001b[1;37m               ^\u001b[0m\n\u001b[1;31mSyntaxError\u001b[0m\u001b[1;31m:\u001b[0m invalid syntax\n"
     ]
    }
   ],
   "source": [
    " population of a town= 198568"
   ]
  },
  {
   "attachments": {
    "image-2.png": {
     "image/png": "[encoded data removed]"
    }
   },
   "cell_type": "markdown",
   "id": "d80acbf1",
   "metadata": {},
   "source": [
    " ![image-2.png](attachment:image-2.png)"
   ]
  },
  {
   "cell_type": "markdown",
   "id": "a9746561",
   "metadata": {},
   "source": [
    "space in between variable name is not allowed. Only the special character _is allowed"
   ]
  },
  {
   "cell_type": "code",
   "execution_count": 11,
   "id": "85de71cb",
   "metadata": {},
   "outputs": [],
   "source": [
    " population_of_a_town = 198568\n",
    "    \n",
    "   "
   ]
  },
  {
   "cell_type": "code",
   "execution_count": 9,
   "id": "a23f4fc0",
   "metadata": {},
   "outputs": [],
   "source": [
    "men_population = 45312"
   ]
  },
  {
   "cell_type": "code",
   "execution_count": 12,
   "id": "b094d901",
   "metadata": {},
   "outputs": [],
   "source": [
    " women_population = 35678"
   ]
  },
  {
   "cell_type": "code",
   "execution_count": 15,
   "id": "568b87da",
   "metadata": {},
   "outputs": [],
   "source": [
    "children_population= population_of_a_town -(men_population+women_population)"
   ]
  },
  {
   "cell_type": "code",
   "execution_count": 16,
   "id": "c3101d60",
   "metadata": {},
   "outputs": [
    {
     "data": {
      "text/plain": [
       "117578"
      ]
     },
     "execution_count": 16,
     "metadata": {},
     "output_type": "execute_result"
    }
   ],
   "source": [
    "children_population"
   ]
  },
  {
   "cell_type": "markdown",
   "id": "5e0f2c78",
   "metadata": {},
   "source": [
    "##### Problem 2\n"
   ]
  },
  {
   "cell_type": "code",
   "execution_count": 17,
   "id": "1dfe4dd2",
   "metadata": {},
   "outputs": [],
   "source": [
    "number_of_box=2425"
   ]
  },
  {
   "cell_type": "code",
   "execution_count": 18,
   "id": "de768bae",
   "metadata": {},
   "outputs": [],
   "source": [
    "pencil_per_box=24"
   ]
  },
  {
   "cell_type": "code",
   "execution_count": 19,
   "id": "35a0c4b0",
   "metadata": {},
   "outputs": [],
   "source": [
    "total_number_of_pencil=number_of_box*pencil_per_box"
   ]
  },
  {
   "cell_type": "code",
   "execution_count": 20,
   "id": "be3d6ac1",
   "metadata": {},
   "outputs": [
    {
     "data": {
      "text/plain": [
       "58200"
      ]
     },
     "execution_count": 20,
     "metadata": {},
     "output_type": "execute_result"
    }
   ],
   "source": [
    "total_number_of_pencil"
   ]
  },
  {
   "cell_type": "markdown",
   "id": "f79ece8e",
   "metadata": {},
   "source": [
    "Two way to print the output \n",
    "1. Just give the variable name.\n",
    "2. Print(variable name)"
   ]
  },
  {
   "cell_type": "code",
   "execution_count": 21,
   "id": "a0ad34ea",
   "metadata": {},
   "outputs": [
    {
     "name": "stdout",
     "output_type": "stream",
     "text": [
      "58200\n"
     ]
    }
   ],
   "source": [
    "print(total_number_of_pencil)"
   ]
  },
  {
   "cell_type": "markdown",
   "id": "12b9ec61",
   "metadata": {},
   "source": [
    "##### Problem 3"
   ]
  },
  {
   "cell_type": "code",
   "execution_count": 22,
   "id": "c66d44f6",
   "metadata": {},
   "outputs": [],
   "source": [
    "coat_price=2265 "
   ]
  },
  {
   "cell_type": "code",
   "execution_count": 23,
   "id": "9a46f15f",
   "metadata": {},
   "outputs": [],
   "source": [
    "saree_price=2150"
   ]
  },
  {
   "cell_type": "code",
   "execution_count": 26,
   "id": "bfa9cb78",
   "metadata": {},
   "outputs": [],
   "source": [
    "amount_gave=5000"
   ]
  },
  {
   "cell_type": "code",
   "execution_count": 27,
   "id": "a5c4da69",
   "metadata": {},
   "outputs": [],
   "source": [
    "amount_received=amount_gave-(coat_price+saree_price)"
   ]
  },
  {
   "cell_type": "code",
   "execution_count": 28,
   "id": "f0dcfbfb",
   "metadata": {},
   "outputs": [
    {
     "name": "stdout",
     "output_type": "stream",
     "text": [
      "585\n"
     ]
    }
   ],
   "source": [
    "print(amount_received)"
   ]
  },
  {
   "cell_type": "markdown",
   "id": "fcad8eb8",
   "metadata": {},
   "source": [
    "##### problem 4"
   ]
  },
  {
   "cell_type": "code",
   "execution_count": 29,
   "id": "d507d7b1",
   "metadata": {},
   "outputs": [],
   "source": [
    "cost_of_21_sets=95844."
   ]
  },
  {
   "cell_type": "code",
   "execution_count": 30,
   "id": "b9fa7b31",
   "metadata": {},
   "outputs": [],
   "source": [
    "cost_of_1_set=cost_of_21_sets/21"
   ]
  },
  {
   "cell_type": "code",
   "execution_count": 33,
   "id": "8f096cfd",
   "metadata": {},
   "outputs": [
    {
     "name": "stdout",
     "output_type": "stream",
     "text": [
      "cost of one TV is   4564.0\n"
     ]
    }
   ],
   "source": [
    "print(\"cost of one TV is  \", cost_of_1_set)"
   ]
  },
  {
   "cell_type": "markdown",
   "id": "63672303",
   "metadata": {},
   "source": [
    "##### Multiple steps in one cell.\n",
    "A grocery store sells a bag of ice for $1.25 and makes a 20% profit. If it sells 500 bags of ice, how much total profit does it make?"
   ]
  },
  {
   "cell_type": "code",
   "execution_count": 34,
   "id": "33f3bc15",
   "metadata": {},
   "outputs": [
    {
     "name": "stdout",
     "output_type": "stream",
     "text": [
      "The grocery store makes a total profit of $ 125.0\n"
     ]
    }
   ],
   "source": [
    "# Store input data in variables\n",
    "cost_of_ice_bag = 1.25\n",
    "profit_margin = .2\n",
    "number_of_bags = 500\n",
    "\n",
    "# Perform the required calculations\n",
    "profit_per_bag = cost_of_ice_bag * profit_margin\n",
    "total_profit = number_of_bags * profit_per_bag\n",
    "\n",
    "# Display the result\n",
    "print(\"The grocery store makes a total profit of $\", total_profit)"
   ]
  },
  {
   "cell_type": "markdown",
   "id": "0a13e7d8",
   "metadata": {},
   "source": [
    "###### Variable:\n",
    "It is store place of values.\n",
    "\n",
    "You can use **Tab** key to autocomplete the line of the code."
   ]
  },
  {
   "cell_type": "markdown",
   "id": "1935ae9e",
   "metadata": {},
   "source": [
    "## Logical  conditions using Python\n",
    "Moving  from arithmetic operations, Python also provides several operations like logical for comparing numbers & variables.\n",
    "\n",
    "\n",
    "| Operator    | Description                                                     |\n",
    "|-------------|-----------------------------------------------------------------|\n",
    "| `==`        | Check if operands are equal                                     |\n",
    "| `!=`        | Check if operands are not equal                                 |\n",
    "| `>`         | Check if left operand is greater than right operand             |\n",
    "| `<`         | Check if left operand is less than right operand                |\n",
    "| `>=`        | Check if left operand is greater than or equal to right operand |\n",
    "| `<=`        | Check if left operand is less than or equal to right operand    |\n",
    "\n",
    "\n",
    "\n",
    "The result of a comparison operation is either True or False (note the uppercase T and F). These are special keywords in Python.\n",
    "\n",
    "Let us start with some examples"
   ]
  },
  {
   "cell_type": "code",
   "execution_count": 40,
   "id": "b7b68d36",
   "metadata": {},
   "outputs": [],
   "source": [
    "#Let us assign value to some of variables\n",
    "sita_height=89\n",
    "durga_height=90\n",
    "ravi_height=89"
   ]
  },
  {
   "cell_type": "code",
   "execution_count": 36,
   "id": "92841cca",
   "metadata": {},
   "outputs": [
    {
     "data": {
      "text/plain": [
       "True"
      ]
     },
     "execution_count": 36,
     "metadata": {},
     "output_type": "execute_result"
    }
   ],
   "source": [
    "sita_height<durga_height"
   ]
  },
  {
   "cell_type": "code",
   "execution_count": 37,
   "id": "cd000d4e",
   "metadata": {},
   "outputs": [
    {
     "data": {
      "text/plain": [
       "False"
      ]
     },
     "execution_count": 37,
     "metadata": {},
     "output_type": "execute_result"
    }
   ],
   "source": [
    "sita_height>durga_height"
   ]
  },
  {
   "cell_type": "code",
   "execution_count": 41,
   "id": "11d2031d",
   "metadata": {},
   "outputs": [
    {
     "data": {
      "text/plain": [
       "True"
      ]
     },
     "execution_count": 41,
     "metadata": {},
     "output_type": "execute_result"
    }
   ],
   "source": [
    "sita_height == ravi_height\n"
   ]
  },
  {
   "cell_type": "markdown",
   "id": "34df4539",
   "metadata": {},
   "source": [
    "Here , we can see the ==(equalto) which is different from =(Assignment)\n",
    "\n",
    "equalto -- is to compare to two values are equal.\n",
    "\n",
    "Assignment --> assign a value that is a=10, b=13 etc...\n"
   ]
  },
  {
   "cell_type": "code",
   "execution_count": 42,
   "id": "daa4da68",
   "metadata": {},
   "outputs": [
    {
     "data": {
      "text/plain": [
       "True"
      ]
     },
     "execution_count": 42,
     "metadata": {},
     "output_type": "execute_result"
    }
   ],
   "source": [
    "sita_height<durga_height  and sita_height == ravi_height"
   ]
  },
  {
   "cell_type": "markdown",
   "id": "0bbd9c8a",
   "metadata": {},
   "source": [
    "See here: we already seen sita_height == ravi_height is  **True**\n",
    "sita_height < ravi_height is  **True**\n",
    "\n",
    "Now True and True is True\n",
    "\n",
    "\n",
    "The logical operators `and`, `or` and `not` operate upon conditions and `True` & `False` values (also known as *booleans*). `and` and `or` operate on two conditions, whereas `not` operates on a single condition.\n",
    "\n",
    "The `and` operator returns `True` when both the conditions evaluate to `True`. Otherwise, it returns `False`.\n",
    "\n",
    "| `a`     | `b`    | `a and b` |\n",
    "|---------|--------|-----------|\n",
    "|  `True` | `True` | `True`    |\n",
    "|  `True` | `False`| `False`   |\n",
    "|  `False`| `True` | `False`   |\n",
    "|  `False`| `False`| `False`   |"
   ]
  },
  {
   "cell_type": "code",
   "execution_count": 43,
   "id": "027a6b6a",
   "metadata": {},
   "outputs": [
    {
     "data": {
      "text/plain": [
       "False"
      ]
     },
     "execution_count": 43,
     "metadata": {},
     "output_type": "execute_result"
    }
   ],
   "source": [
    "sita_height>durga_height  and sita_height == ravi_height"
   ]
  },
  {
   "cell_type": "code",
   "execution_count": 44,
   "id": "38e0ff75",
   "metadata": {},
   "outputs": [
    {
     "data": {
      "text/plain": [
       "True"
      ]
     },
     "execution_count": 44,
     "metadata": {},
     "output_type": "execute_result"
    }
   ],
   "source": [
    "sita_height>durga_height  or sita_height == ravi_height"
   ]
  },
  {
   "cell_type": "code",
   "execution_count": 45,
   "id": "303eac25",
   "metadata": {},
   "outputs": [
    {
     "data": {
      "text/plain": [
       "False"
      ]
     },
     "execution_count": 45,
     "metadata": {},
     "output_type": "execute_result"
    }
   ],
   "source": [
    "# let check greater than or equal to\n",
    "5-6 >=1"
   ]
  },
  {
   "cell_type": "code",
   "execution_count": 46,
   "id": "c6c598d9",
   "metadata": {},
   "outputs": [
    {
     "data": {
      "text/plain": [
       "True"
      ]
     },
     "execution_count": 46,
     "metadata": {},
     "output_type": "execute_result"
    }
   ],
   "source": [
    "# let check less than or equal to\n",
    "5-6 <=2"
   ]
  },
  {
   "cell_type": "code",
   "execution_count": 47,
   "id": "846bef3e",
   "metadata": {},
   "outputs": [
    {
     "data": {
      "text/plain": [
       "True"
      ]
     },
     "execution_count": 47,
     "metadata": {},
     "output_type": "execute_result"
    }
   ],
   "source": [
    "not sita_height>durga_height "
   ]
  },
  {
   "cell_type": "markdown",
   "id": "ccae65d7",
   "metadata": {},
   "source": [
    "see here: sita_height>durga_height  is **False**\n",
    "\n",
    "due to not added. Now the result is **True**"
   ]
  },
  {
   "cell_type": "markdown",
   "id": "568d3f6c",
   "metadata": {},
   "source": [
    "## Adding text styles using Markdown\n",
    "\n",
    "Adding explanations using text cells (like this one) is a great way to make your notebook informative for other readers. It is also useful if you need to refer back to it in the future. You can double click on a text cell within Jupyter to edit it. In the edit mode, you'll notice that the text looks slightly different (for instance, the heading has a `##` prefix. This text is written using Markdown, a simple way to add styles to your text. Execute this cell to see the output without the special characters. You can switch back and forth between the source and the output to apply a specific style.\n",
    "\n",
    "For instance, you can use one or more `#` characters at the start of a line to create headers of different sizes:\n",
    "\n",
    "# Header 1\n",
    "\n",
    "## Header 2\n",
    "\n",
    "### Header 3\n",
    "\n",
    "#### Header 4\n",
    "\n",
    "To create a bulleted or numbered list, simply start a line with `*` or `1.`.\n",
    "\n",
    "A bulleted list:\n",
    "\n",
    "* Item 1\n",
    "* Item 2\n",
    "* Item 3\n",
    "\n",
    "A numbered list:\n",
    "\n",
    "1. Apple\n",
    "2. Banana\n",
    "3. Pineapple\n",
    "\n",
    "You can make some text bold using `**`, e.g., **some bold text**, or make it italic using `*`, e.g., *some italic text.* You can also create links, e.g., [a link](https://shalini.ece). Images are easily embedded too:\n",
    "\n",
    "\n",
    "\n",
    "Another really nice feature of Markdown is the ability to include blocks of code. Note that code blocks inside Markdown cells cannot be executed.\n",
    "\n",
    "```\n",
    "# Perform the required calculations\n",
    "profit_per_bag = cost_of_ice_bag * profit_margin\n",
    "total_profit = number_of_bags * profit_per_bag\n",
    "\n",
    "# Display the result\n",
    "print(\"The grocery store makes a total profit of $\", total_profit)\n",
    "\n",
    "```\n",
    "\n",
    "You can learn the full syntax of Markdown here: https://learnxinyminutes.com/docs/markdown/"
   ]
  },
  {
   "cell_type": "markdown",
   "id": "78ffca5f",
   "metadata": {},
   "source": [
    "### How to download and save the Notebook\n",
    "\n",
    "1. Go to the file--> dowload as \n",
    "2. click the Notebook(.ipnyb)\n",
    "3. it will be downloaded.\n"
   ]
  }
 ],
 "metadata": {
  "kernelspec": {
   "display_name": "Python 3",
   "language": "python",
   "name": "python3"
  },
  "language_info": {
   "codemirror_mode": {
    "name": "ipython",
    "version": 3
   },
   "file_extension": ".py",
   "mimetype": "text/x-python",
   "name": "python",
   "nbconvert_exporter": "python",
   "pygments_lexer": "ipython3",
   "version": "3.8.8"
  }
 },
 "nbformat": 4,
 "nbformat_minor": 5
}
