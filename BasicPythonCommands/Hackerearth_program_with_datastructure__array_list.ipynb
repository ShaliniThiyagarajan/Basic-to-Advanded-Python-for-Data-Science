{
 "cells": [
  {
   "cell_type": "markdown",
   "id": "dcbc3d8b",
   "metadata": {},
   "source": [
    "# Programs hacker earth with Array and List"
   ]
  },
  {
   "cell_type": "markdown",
   "id": "d3b0fc3b",
   "metadata": {},
   "source": [
    "## Monk and rotation program\n",
    "\n",
    "###### Input : \n",
    "\n",
    "Input:\n",
    "The first line will consists of one integer T denoting the number of test cases.\n",
    "For each test case:\n",
    "1) The first line consists of two integers N and K, N being the number of elements in the array and K denotes the number of steps of rotation.\n",
    "2) The next line consists of N space separated integers , denoting the elements of the array A.\n",
    "Output:\n",
    "Print the required array.\n",
    "\n",
    "Constraints:\n",
    "1<=T <=20\n",
    "\n",
    "\n",
    "\n",
    "\n"
   ]
  },
  {
   "cell_type": "code",
   "execution_count": 10,
   "id": "ac3224a9",
   "metadata": {},
   "outputs": [
    {
     "name": "stdout",
     "output_type": "stream",
     "text": [
      "1\n",
      "5 2\n",
      "1 2 3 4 5\n",
      "4 5 1 2 3 \n",
      "\n"
     ]
    }
   ],
   "source": [
    "from array import *\n",
    "def rotation(A,K,N) :\n",
    "    mid= N-(K%N)\n",
    "    for i in range(mid, N) :\n",
    "        print(A[i] , end=\" \")\n",
    "    for j in range(0, mid) :\n",
    "        print(A[j] , end=\" \")\n",
    "    print(\"\\n\")\n",
    "\n",
    "T=int(input())\n",
    "\n",
    "for i in range(0, T) :\n",
    "    N, K= map(int, input().split()) \n",
    "    A=list(map(int, input().split()))\n",
    "    rotation(A,K,N)"
   ]
  },
  {
   "cell_type": "markdown",
   "id": "7281e12a",
   "metadata": {},
   "source": [
    "##### Monk and Inversions\n",
    "\n",
    "Input:\n",
    "First line consists of a single integer T denoting the number of test cases.\n",
    "First line of each test case consists of one integer denoting N. Following N lines consists of N space separated integers denoting the matrix M.\n",
    "\n",
    "Output:\n",
    "Print the answer to each test case in a new line."
   ]
  },
  {
   "cell_type": "code",
   "execution_count": 14,
   "id": "6417f01a",
   "metadata": {},
   "outputs": [
    {
     "name": "stdout",
     "output_type": "stream",
     "text": [
      "1\n",
      "3\n",
      "1 2 3\n",
      "3 4 5\n",
      "3 2 5\n",
      "[[3, 2, 5]]\n"
     ]
    }
   ],
   "source": [
    "T = int(input())\n",
    "\n",
    "for i in range(0,T) :\n",
    "    N= int(input())\n",
    "    matrix=[]\n",
    "    for j in range(0,N) :\n",
    "        a=[]\n",
    "        a.append(list(map(int, input().split())))\n",
    "        matrix.append(a)\n",
    "    \n",
    "print(matrix)"
   ]
  },
  {
   "cell_type": "code",
   "execution_count": 15,
   "id": "e19b0122",
   "metadata": {},
   "outputs": [
    {
     "name": "stdout",
     "output_type": "stream",
     "text": [
      "[[[1, 2, 3]], [[3, 4, 5]], [[3, 2, 5]]]\n"
     ]
    }
   ],
   "source": [
    "print(matrix)"
   ]
  },
  {
   "cell_type": "markdown",
   "id": "c0cd3ab4",
   "metadata": {},
   "source": [
    "\n",
    "### calculate Average temperate and find how many day high temp is above average\n",
    "\n"
   ]
  },
  {
   "cell_type": "code",
   "execution_count": 10,
   "id": "4bca1c5b",
   "metadata": {},
   "outputs": [
    {
     "name": "stdout",
     "output_type": "stream",
     "text": [
      "Number of days:4\n",
      "Days 1 high temperature is 34\n",
      "Days 2 high temperature is 56\n",
      "Days 3 high temperature is 45\n",
      "Days 4 high temperature is 34\n",
      "2  number of days is above average temperature\n"
     ]
    }
   ],
   "source": [
    "numofdays=int(input(\"Number of days:\"))\n",
    "total=0\n",
    "arr=[]\n",
    "for i in range(numofdays):\n",
    "    nextday=int(input(\"Days \" +str(i+1)+ \" high temperature is \"))\n",
    "    arr.append(nextday)\n",
    "    total +=nextday\n",
    "average=total/numofdays\n",
    "\n",
    "# find how many day high temp is above average\n",
    "count=0\n",
    "for i in arr :\n",
    "    if i > average :\n",
    "        count =count+1\n",
    "print(count , \" number of days is above average temperature\")"
   ]
  },
  {
   "cell_type": "markdown",
   "id": "2016610c",
   "metadata": {},
   "source": [
    "### Missing Number from 1 to 100\n",
    "\n"
   ]
  },
  {
   "cell_type": "code",
   "execution_count": 17,
   "id": "46159b52",
   "metadata": {},
   "outputs": [
    {
     "name": "stdout",
     "output_type": "stream",
     "text": [
      "1 2 3 4 5 6 7 8 9 10 11 12 14 15 16 17 18 19 20 21 22 23 24 25 26 27 28 29 30 31 32 33 34 35\n",
      "Missing number is  13\n"
     ]
    }
   ],
   "source": [
    "\n",
    "\n",
    "def findmissignumber(a,n) :\n",
    "    sum1=(n+1)*(n+2)/2\n",
    "    sum2=sum(a)\n",
    "    print(\"Missing number is \", int(sum1-sum2))\n",
    "\n",
    "A=list(map(int, input().split()))\n",
    "n= len(A)\n",
    "findmissignumber(A, n)"
   ]
  },
  {
   "cell_type": "markdown",
   "id": "00c78314",
   "metadata": {},
   "source": [
    "### Pair of sum which is equal to target number"
   ]
  },
  {
   "cell_type": "code",
   "execution_count": 25,
   "id": "c2172090",
   "metadata": {},
   "outputs": [
    {
     "name": "stdout",
     "output_type": "stream",
     "text": [
      "6 5\n",
      "1 2 3 4 5\n",
      "1 5\n",
      "2 4\n"
     ]
    }
   ],
   "source": [
    "def pairSum(arr, s):\n",
    "    for i in range(len(arr)):\n",
    "        for j in range(i+1, len(arr)):\n",
    "            if arr[i]== arr[j] :\n",
    "                continue\n",
    "            if arr[i]+arr[j] == s :\n",
    "                print( arr[i],arr[j])\n",
    "Target ,N =map(int, input().split())\n",
    "l=list(map(int, input().split()))\n",
    "pairSum(l,Target)"
   ]
  },
  {
   "cell_type": "markdown",
   "id": "e560cfed",
   "metadata": {},
   "source": [
    "### Finding a number in a array"
   ]
  },
  {
   "cell_type": "code",
   "execution_count": 29,
   "id": "74be2ab4",
   "metadata": {},
   "outputs": [
    {
     "name": "stdout",
     "output_type": "stream",
     "text": [
      "6 5\n",
      "1 2 4 6 7 4\n",
      "True\n"
     ]
    }
   ],
   "source": [
    "def finding_a_number(l, s) :\n",
    "    flag=\"False\"\n",
    "    for i in l :\n",
    "        if i==s :\n",
    "            flag=\"True\"\n",
    "            break\n",
    "    return flag\n",
    "Target ,N =map(int, input().split())\n",
    "l=list(map(int, input().split()))\n",
    "print(finding_a_number(l, Target))\n",
    "\n",
    "\n",
    "    "
   ]
  },
  {
   "cell_type": "markdown",
   "id": "d1ee28ed",
   "metadata": {},
   "source": [
    "### Maximum product two integer in a array"
   ]
  },
  {
   "cell_type": "code",
   "execution_count": 34,
   "id": "47a12640",
   "metadata": {},
   "outputs": [
    {
     "name": "stdout",
     "output_type": "stream",
     "text": [
      "1 2 3 55 67 45 78\n",
      "maximum product is  5226  for pairs is 67, 78\n"
     ]
    }
   ],
   "source": [
    "def max_product(arr) :\n",
    "    maxproduct =0\n",
    "    for i in range(len(arr)) :\n",
    "        for j in range(i+1, len(arr)) :\n",
    "            if arr[i]*arr[j]> maxproduct :\n",
    "                maxproduct = arr[i]*arr[j]\n",
    "                paris=str(arr[i])+', '+str(arr[j])\n",
    "    return maxproduct, paris\n",
    "\n",
    "l=list(map(int, input().split()))\n",
    "max_prod ,pairs=max_product(l)\n",
    "print(\"maximum product is \", max_prod , \" for pairs is \" + pairs)"
   ]
  },
  {
   "cell_type": "markdown",
   "id": "1b2b9228",
   "metadata": {},
   "source": [
    "### is the array is unique"
   ]
  },
  {
   "cell_type": "code",
   "execution_count": 47,
   "id": "8f11073a",
   "metadata": {},
   "outputs": [
    {
     "name": "stdout",
     "output_type": "stream",
     "text": [
      "1 2 3 12 12 1 2 3\n",
      "12\n",
      "Array is not  Unique and has duplicate element\n"
     ]
    }
   ],
   "source": [
    "def uniquearrayornot(l):\n",
    "    temp=[]\n",
    "    for i in l :\n",
    "        if i in temp :\n",
    "            print(i)\n",
    "            return False            \n",
    "        else :\n",
    "            temp.append(i)            \n",
    "    return True\n",
    "            \n",
    "            \n",
    "l=list(map(int, input().split()))\n",
    "\n",
    "if uniquearrayornot(l) == True :\n",
    "    print(\"Array is  Unique and not  has duplicate element\")\n",
    "else :\n",
    "    print(\"Array is not  Unique and has duplicate element\")\n",
    "    \n",
    "\n"
   ]
  },
  {
   "cell_type": "markdown",
   "id": "539f4aee",
   "metadata": {},
   "source": [
    "### is two list is permutation to each other"
   ]
  },
  {
   "cell_type": "code",
   "execution_count": 3,
   "id": "c917ee51",
   "metadata": {},
   "outputs": [
    {
     "name": "stdout",
     "output_type": "stream",
     "text": [
      "s h a l i n i\n",
      "s a n t h o s h\n",
      "False\n"
     ]
    }
   ],
   "source": [
    "def permutation_of_twolist(l1,l2) :\n",
    "    if len(l1) != len(l2) :\n",
    "        return False\n",
    "    l1.sort()\n",
    "    l2.sort()\n",
    "    if l1==l2 :\n",
    "        return True\n",
    "    else :\n",
    "        return False\n",
    "    \n",
    "l1=list(map(str, input().split()))\n",
    "l2=list(map(str, input().split()))\n",
    "print(permutation_of_twolist(l1,l2))\n"
   ]
  },
  {
   "cell_type": "markdown",
   "id": "4214ae65",
   "metadata": {},
   "source": [
    "### Rotate the 2d matrix "
   ]
  },
  {
   "cell_type": "code",
   "execution_count": 17,
   "id": "6636a774",
   "metadata": {},
   "outputs": [
    {
     "name": "stdout",
     "output_type": "stream",
     "text": [
      "1\n",
      "3\n",
      "1 2 3\n",
      "4 5 6\n",
      "7 8 9\n",
      "[[1 2 3]\n",
      " [4 5 6]\n",
      " [7 8 9]]\n",
      "[[7 4 1]\n",
      " [8 5 2]\n",
      " [9 6 3]]\n"
     ]
    }
   ],
   "source": [
    "def rotate(matrix, N) :\n",
    "    N=len(matrix)\n",
    "    for layer in range(N//2) :\n",
    "        first=layer\n",
    "        last=N-layer-1\n",
    "        for i in range(first, last) :\n",
    "            # on top\n",
    "            top=matrix[layer][i]\n",
    "            # on bottom left to top left\n",
    "            matrix[layer][i]=matrix[-i-1][-layer]\n",
    "            # on right bottom to left bottom\n",
    "            matrix[-i-1][-layer]=matrix[-layer-1][-i-1]\n",
    "            # on top right to bottom right\n",
    "            matrix[-layer-1][-i-1]=matrix[i][-layer-1]\n",
    "            # on top left to top right\n",
    "            matrix[i][-layer-1]= top\n",
    "    return matrix\n",
    "    \n",
    "    \n",
    "import numpy as np\n",
    "T = int(input())\n",
    "\n",
    "for i in range(0,T) :\n",
    "    N= int(input())\n",
    "    matrix=[]\n",
    "    a=[]\n",
    "    for j in range(0,N) :\n",
    "      \n",
    "        a.append(list(map(int, input().split())))\n",
    "        \n",
    "    matrix=np.array(a)\n",
    "    print(matrix)\n",
    "    print(rotate(matrix, N))"
   ]
  },
  {
   "cell_type": "markdown",
   "id": "eb105212",
   "metadata": {},
   "source": [
    "### middle function , print all element except first and last element"
   ]
  },
  {
   "cell_type": "code",
   "execution_count": 23,
   "id": "e078eadd",
   "metadata": {},
   "outputs": [
    {
     "name": "stdout",
     "output_type": "stream",
     "text": [
      "12 3 4 5 67 8 9\n"
     ]
    },
    {
     "data": {
      "text/plain": [
       "[3, 4, 5, 67, 8]"
      ]
     },
     "execution_count": 23,
     "metadata": {},
     "output_type": "execute_result"
    }
   ],
   "source": [
    "def middle(lst):\n",
    "    # TODO\n",
    "    middle=lst[1:-1]\n",
    "    return middle\n",
    "myList=list(map(int, input().split()))\n",
    "middle(myList)"
   ]
  },
  {
   "cell_type": "markdown",
   "id": "2c865c79",
   "metadata": {},
   "source": [
    "### calculate sum of 2 D array"
   ]
  },
  {
   "cell_type": "code",
   "execution_count": 27,
   "id": "49759fb4",
   "metadata": {},
   "outputs": [
    {
     "name": "stdout",
     "output_type": "stream",
     "text": [
      "3\n",
      "1 2 3\n",
      "4 5 6\n",
      "7 8 9\n",
      "45\n"
     ]
    }
   ],
   "source": [
    "def sum_of_2d_array(matrix) :\n",
    "    return sum(sum(matrix))\n",
    "import numpy as np\n",
    "N= int(input())\n",
    "matrix=[]\n",
    "a=[]\n",
    "for j in range(0,N) :\n",
    "    a.append(list(map(int, input().split())))\n",
    "matrix=np.array(a)\n",
    "print(sum_of_2d_array(matrix))"
   ]
  },
  {
   "cell_type": "markdown",
   "id": "8400b0e2",
   "metadata": {},
   "source": [
    "### first and second best score in a list\n"
   ]
  },
  {
   "cell_type": "code",
   "execution_count": 31,
   "id": "7a0f738b",
   "metadata": {},
   "outputs": [
    {
     "name": "stdout",
     "output_type": "stream",
     "text": [
      "12 34 56 78 90 98 97 65 43\n",
      "The best scores are  98 97\n"
     ]
    }
   ],
   "source": [
    "def bestscore(myList) :\n",
    "    myList.sort()\n",
    "    return myList[-1],myList[-2]\n",
    "myList=list(map(int, input().split()))\n",
    "first,second=bestscore(myList)\n",
    "print(\"The best scores are \", first , second)"
   ]
  },
  {
   "cell_type": "markdown",
   "id": "ae3bc001",
   "metadata": {},
   "source": [
    "#### Remove the duplicate from the list"
   ]
  },
  {
   "cell_type": "code",
   "execution_count": 33,
   "id": "9d85c476",
   "metadata": {},
   "outputs": [
    {
     "name": "stdout",
     "output_type": "stream",
     "text": [
      "12 34 56 78 90 98 97 65 43 98\n",
      "[12, 34, 56, 78, 90, 98, 97, 65, 43]\n"
     ]
    }
   ],
   "source": [
    "def remove_duplicate(myList):\n",
    "    temp=[]\n",
    "    for i in myList :\n",
    "        if i not in temp :           \n",
    "            temp.append(i)            \n",
    "    return temp\n",
    "myList=list(map(int, input().split()))\n",
    "print(remove_duplicate(myList))"
   ]
  },
  {
   "cell_type": "code",
   "execution_count": null,
   "id": "87f90274",
   "metadata": {},
   "outputs": [],
   "source": []
  },
  {
   "cell_type": "code",
   "execution_count": null,
   "id": "d181ac2e",
   "metadata": {},
   "outputs": [],
   "source": []
  }
 ],
 "metadata": {
  "kernelspec": {
   "display_name": "Python 3",
   "language": "python",
   "name": "python3"
  },
  "language_info": {
   "codemirror_mode": {
    "name": "ipython",
    "version": 3
   },
   "file_extension": ".py",
   "mimetype": "text/x-python",
   "name": "python",
   "nbconvert_exporter": "python",
   "pygments_lexer": "ipython3",
   "version": "3.8.8"
  }
 },
 "nbformat": 4,
 "nbformat_minor": 5
}
