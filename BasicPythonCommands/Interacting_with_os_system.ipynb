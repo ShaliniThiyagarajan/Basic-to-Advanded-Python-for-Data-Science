{
 "cells": [
  {
   "cell_type": "markdown",
   "id": "e0aa21e0",
   "metadata": {},
   "source": [
    "## Interacting with the OS and filesystem\n",
    "\n",
    "The `os` module in Python provides many functions for interacting with the OS and the filesystem. Let's import it and try out some examples."
   ]
  },
  {
   "cell_type": "code",
   "execution_count": 1,
   "id": "fb72f0a4",
   "metadata": {},
   "outputs": [],
   "source": [
    "import os"
   ]
  },
  {
   "cell_type": "code",
   "execution_count": 2,
   "id": "d5a58205",
   "metadata": {},
   "outputs": [
    {
     "data": {
      "text/plain": [
       "'C:\\\\Users\\\\shalini'"
      ]
     },
     "execution_count": 2,
     "metadata": {},
     "output_type": "execute_result"
    }
   ],
   "source": [
    "os.getcwd()"
   ]
  },
  {
   "cell_type": "code",
   "execution_count": 3,
   "id": "87327be1",
   "metadata": {},
   "outputs": [
    {
     "data": {
      "text/plain": [
       "['.bash_history',\n",
       " '.conda',\n",
       " '.condarc',\n",
       " '.continuum',\n",
       " '.gitconfig',\n",
       " '.idlerc',\n",
       " '.ipynb_checkpoints',\n",
       " '.ipython',\n",
       " '.jupyter',\n",
       " '.lesshst',\n",
       " '.matplotlib',\n",
       " '.ssh',\n",
       " '3D Objects',\n",
       " 'anaconda3',\n",
       " 'AppData',\n",
       " 'Application Data',\n",
       " 'Contacts',\n",
       " 'Cookies',\n",
       " 'Desktop',\n",
       " 'Documents',\n",
       " 'Downloads',\n",
       " 'Favorites',\n",
       " 'IntelGraphicsProfiles',\n",
       " 'Links',\n",
       " 'Local Settings',\n",
       " 'movies2.csv',\n",
       " 'movies3.csv',\n",
       " 'Music',\n",
       " 'My Documents',\n",
       " 'NetHood',\n",
       " 'NTUSER.DAT',\n",
       " 'ntuser.dat.LOG1',\n",
       " 'ntuser.dat.LOG2',\n",
       " 'NTUSER.DAT{8dfbc6f5-d4a3-11ea-a8e5-fc4596a70159}.TM.blf',\n",
       " 'NTUSER.DAT{8dfbc6f5-d4a3-11ea-a8e5-fc4596a70159}.TMContainer00000000000000000001.regtrans-ms',\n",
       " 'NTUSER.DAT{8dfbc6f5-d4a3-11ea-a8e5-fc4596a70159}.TMContainer00000000000000000002.regtrans-ms',\n",
       " 'ntuser.ini',\n",
       " 'numpy',\n",
       " 'OneDrive',\n",
       " 'Pictures',\n",
       " 'PrintHood',\n",
       " 'PycharmProjects',\n",
       " 'Recent',\n",
       " 'Saved Games',\n",
       " 'Searches',\n",
       " 'SendTo',\n",
       " 'Sources',\n",
       " 'Start Menu',\n",
       " 'Templates',\n",
       " 'test',\n",
       " 'Untitled.ipynb',\n",
       " 'Untitled1.ipynb',\n",
       " 'Untitled10.ipynb',\n",
       " 'Untitled11.ipynb',\n",
       " 'Untitled12.ipynb',\n",
       " 'Untitled13.ipynb',\n",
       " 'Untitled2.ipynb',\n",
       " 'Untitled3.ipynb',\n",
       " 'Untitled4.ipynb',\n",
       " 'Untitled5.ipynb',\n",
       " 'Untitled6.ipynb',\n",
       " 'Untitled7.ipynb',\n",
       " 'Untitled8.ipynb',\n",
       " 'Untitled9.ipynb',\n",
       " 'Videos']"
      ]
     },
     "execution_count": 3,
     "metadata": {},
     "output_type": "execute_result"
    }
   ],
   "source": [
    "os.listdir()"
   ]
  },
  {
   "cell_type": "code",
   "execution_count": 4,
   "id": "84f12906",
   "metadata": {},
   "outputs": [
    {
     "data": {
      "text/plain": [
       "['.bash_history',\n",
       " '.conda',\n",
       " '.condarc',\n",
       " '.continuum',\n",
       " '.gitconfig',\n",
       " '.idlerc',\n",
       " '.ipynb_checkpoints',\n",
       " '.ipython',\n",
       " '.jupyter',\n",
       " '.lesshst',\n",
       " '.matplotlib',\n",
       " '.ssh',\n",
       " '3D Objects',\n",
       " 'anaconda3',\n",
       " 'AppData',\n",
       " 'Application Data',\n",
       " 'Contacts',\n",
       " 'Cookies',\n",
       " 'Desktop',\n",
       " 'Documents',\n",
       " 'Downloads',\n",
       " 'Favorites',\n",
       " 'IntelGraphicsProfiles',\n",
       " 'Links',\n",
       " 'Local Settings',\n",
       " 'movies2.csv',\n",
       " 'movies3.csv',\n",
       " 'Music',\n",
       " 'My Documents',\n",
       " 'NetHood',\n",
       " 'NTUSER.DAT',\n",
       " 'ntuser.dat.LOG1',\n",
       " 'ntuser.dat.LOG2',\n",
       " 'NTUSER.DAT{8dfbc6f5-d4a3-11ea-a8e5-fc4596a70159}.TM.blf',\n",
       " 'NTUSER.DAT{8dfbc6f5-d4a3-11ea-a8e5-fc4596a70159}.TMContainer00000000000000000001.regtrans-ms',\n",
       " 'NTUSER.DAT{8dfbc6f5-d4a3-11ea-a8e5-fc4596a70159}.TMContainer00000000000000000002.regtrans-ms',\n",
       " 'ntuser.ini',\n",
       " 'numpy',\n",
       " 'OneDrive',\n",
       " 'Pictures',\n",
       " 'PrintHood',\n",
       " 'PycharmProjects',\n",
       " 'Recent',\n",
       " 'Saved Games',\n",
       " 'Searches',\n",
       " 'SendTo',\n",
       " 'Sources',\n",
       " 'Start Menu',\n",
       " 'Templates',\n",
       " 'test',\n",
       " 'Untitled.ipynb',\n",
       " 'Untitled1.ipynb',\n",
       " 'Untitled10.ipynb',\n",
       " 'Untitled11.ipynb',\n",
       " 'Untitled12.ipynb',\n",
       " 'Untitled13.ipynb',\n",
       " 'Untitled2.ipynb',\n",
       " 'Untitled3.ipynb',\n",
       " 'Untitled4.ipynb',\n",
       " 'Untitled5.ipynb',\n",
       " 'Untitled6.ipynb',\n",
       " 'Untitled7.ipynb',\n",
       " 'Untitled8.ipynb',\n",
       " 'Untitled9.ipynb',\n",
       " 'Videos']"
      ]
     },
     "execution_count": 4,
     "metadata": {},
     "output_type": "execute_result"
    }
   ],
   "source": [
    "os.listdir('.') # relative path"
   ]
  },
  {
   "cell_type": "code",
   "execution_count": 5,
   "id": "87e5308e",
   "metadata": {},
   "outputs": [
    {
     "data": {
      "text/plain": [
       "['All Users',\n",
       " 'Default',\n",
       " 'Default User',\n",
       " 'defaultuser0',\n",
       " 'desktop.ini',\n",
       " 'Public',\n",
       " 'shalini']"
      ]
     },
     "execution_count": 5,
     "metadata": {},
     "output_type": "execute_result"
    }
   ],
   "source": [
    "os.listdir('/Users') # absolute path"
   ]
  },
  {
   "cell_type": "markdown",
   "id": "c1a377f5",
   "metadata": {},
   "source": [
    "You can create a new directory using `os.makedirs`. Let's create a new directory called `numpy`, where we'll later download some files."
   ]
  },
  {
   "cell_type": "code",
   "execution_count": 6,
   "id": "715b6d2c",
   "metadata": {},
   "outputs": [],
   "source": [
    "os.makedirs('./numpy', exist_ok=True)"
   ]
  },
  {
   "cell_type": "code",
   "execution_count": 7,
   "id": "bd1c984f",
   "metadata": {},
   "outputs": [
    {
     "data": {
      "text/plain": [
       "True"
      ]
     },
     "execution_count": 7,
     "metadata": {},
     "output_type": "execute_result"
    }
   ],
   "source": [
    "'numpy' in os.listdir('.')"
   ]
  },
  {
   "cell_type": "code",
   "execution_count": 8,
   "id": "3832304d",
   "metadata": {},
   "outputs": [
    {
     "name": "stdout",
     "output_type": "stream",
     "text": [
      "Help on function makedirs in module os:\n",
      "\n",
      "makedirs(name, mode=511, exist_ok=False)\n",
      "    makedirs(name [, mode=0o777][, exist_ok=False])\n",
      "    \n",
      "    Super-mkdir; create a leaf directory and all intermediate ones.  Works like\n",
      "    mkdir, except that any intermediate path segment (not just the rightmost)\n",
      "    will be created if it does not exist. If the target directory already\n",
      "    exists, raise an OSError if exist_ok is False. Otherwise no exception is\n",
      "    raised.  This is recursive.\n",
      "\n"
     ]
    }
   ],
   "source": [
    "help(os.makedirs)"
   ]
  },
  {
   "cell_type": "code",
   "execution_count": 9,
   "id": "dae4c7c6",
   "metadata": {},
   "outputs": [
    {
     "data": {
      "text/plain": [
       "['loans1',\n",
       " 'loans1.csv',\n",
       " 'loans1.txt',\n",
       " 'loans2.txt',\n",
       " 'loans3.txt',\n",
       " 'loansnew1.txt',\n",
       " 'loansnew2.txt',\n",
       " 'loansnew3.txt',\n",
       " 'movie.csv']"
      ]
     },
     "execution_count": 9,
     "metadata": {},
     "output_type": "execute_result"
    }
   ],
   "source": [
    "os.listdir('./numpy')"
   ]
  },
  {
   "cell_type": "code",
   "execution_count": 10,
   "id": "0d971e94",
   "metadata": {},
   "outputs": [],
   "source": [
    "# download file into numpy\n",
    "url1 = 'https://gist.githubusercontent.com/aakashns/257f6e6c8719c17d0e498ea287d1a386/raw/7def9ef4234ddf0bc82f855ad67dac8b971852ef/loans1.txt'\n",
    "url2 = 'https://gist.githubusercontent.com/aakashns/257f6e6c8719c17d0e498ea287d1a386/raw/7def9ef4234ddf0bc82f855ad67dac8b971852ef/loans2.txt'\n",
    "url3 = 'https://gist.githubusercontent.com/aakashns/257f6e6c8719c17d0e498ea287d1a386/raw/7def9ef4234ddf0bc82f855ad67dac8b971852ef/loans3.txt'"
   ]
  },
  {
   "cell_type": "code",
   "execution_count": 11,
   "id": "cc49e9e2",
   "metadata": {},
   "outputs": [],
   "source": [
    "from urllib.request import urlretrieve"
   ]
  },
  {
   "cell_type": "code",
   "execution_count": 12,
   "id": "91df19a8",
   "metadata": {},
   "outputs": [
    {
     "data": {
      "text/plain": [
       "('./numpy/loans3.txt', <http.client.HTTPMessage at 0x253491a5880>)"
      ]
     },
     "execution_count": 12,
     "metadata": {},
     "output_type": "execute_result"
    }
   ],
   "source": [
    "urlretrieve(url1, './numpy/loans1.txt')\n",
    "urlretrieve(url2, './numpy/loans2.txt')\n",
    "urlretrieve(url3, './numpy/loans3.txt')"
   ]
  },
  {
   "cell_type": "code",
   "execution_count": 13,
   "id": "492d57b4",
   "metadata": {},
   "outputs": [
    {
     "data": {
      "text/plain": [
       "['loans1',\n",
       " 'loans1.csv',\n",
       " 'loans1.txt',\n",
       " 'loans2.txt',\n",
       " 'loans3.txt',\n",
       " 'loansnew1.txt',\n",
       " 'loansnew2.txt',\n",
       " 'loansnew3.txt',\n",
       " 'movie.csv']"
      ]
     },
     "execution_count": 13,
     "metadata": {},
     "output_type": "execute_result"
    }
   ],
   "source": [
    "os.listdir('./numpy')"
   ]
  },
  {
   "cell_type": "code",
   "execution_count": 14,
   "id": "993b0aa7",
   "metadata": {},
   "outputs": [],
   "source": [
    "file1=open('./numpy/loans1.txt' , mode='r')"
   ]
  },
  {
   "cell_type": "markdown",
   "id": "152d1fe1",
   "metadata": {},
   "source": [
    "The `open` function also accepts a `mode` argument to specifies how we can interact with the file. The following options are supported:\n",
    "\n",
    "```\n",
    "    ========= ===============================================================\n",
    "    Character Meaning\n",
    "    --------- ---------------------------------------------------------------\n",
    "    'r'       open for reading (default)\n",
    "    'w'       open for writing, truncating the file first\n",
    "    'x'       create a new file and open it for writing\n",
    "    'a'       open for writing, appending to the end of the file if it exists\n",
    "    'b'       binary mode\n",
    "    't'       text mode (default)\n",
    "    '+'       open a disk file for updating (reading and writing)\n",
    "    'U'       universal newline mode (deprecated)\n",
    "    ========= ===============================================================\n",
    "```\n",
    "\n",
    "To view the contents of the file, we can use the `read` method of the file object."
   ]
  },
  {
   "cell_type": "code",
   "execution_count": 15,
   "id": "4729bc36",
   "metadata": {},
   "outputs": [],
   "source": [
    "file1_content=file1.read()"
   ]
  },
  {
   "cell_type": "code",
   "execution_count": 16,
   "id": "599edd89",
   "metadata": {},
   "outputs": [
    {
     "data": {
      "text/plain": [
       "'amount,duration,rate,down_payment\\n100000,36,0.08,20000\\n200000,12,0.1,\\n628400,120,0.12,100000\\n4637400,240,0.06,\\n42900,90,0.07,8900\\n916000,16,0.13,\\n45230,48,0.08,4300\\n991360,99,0.08,\\n423000,27,0.09,47200'"
      ]
     },
     "execution_count": 16,
     "metadata": {},
     "output_type": "execute_result"
    }
   ],
   "source": [
    "file1_content"
   ]
  },
  {
   "cell_type": "code",
   "execution_count": 17,
   "id": "c73e50d3",
   "metadata": {},
   "outputs": [
    {
     "name": "stdout",
     "output_type": "stream",
     "text": [
      "amount,duration,rate,down_payment\n",
      "100000,36,0.08,20000\n",
      "200000,12,0.1,\n",
      "628400,120,0.12,100000\n",
      "4637400,240,0.06,\n",
      "42900,90,0.07,8900\n",
      "916000,16,0.13,\n",
      "45230,48,0.08,4300\n",
      "991360,99,0.08,\n",
      "423000,27,0.09,47200\n"
     ]
    }
   ],
   "source": [
    "print(file1_content)"
   ]
  },
  {
   "cell_type": "code",
   "execution_count": 18,
   "id": "69239a2e",
   "metadata": {},
   "outputs": [],
   "source": [
    "# let us close file otherwise, python will hold fie in ram\n",
    "file1.close()\n"
   ]
  },
  {
   "cell_type": "code",
   "execution_count": 19,
   "id": "ad230d3f",
   "metadata": {},
   "outputs": [
    {
     "ename": "ValueError",
     "evalue": "I/O operation on closed file.",
     "output_type": "error",
     "traceback": [
      "\u001b[1;31m---------------------------------------------------------------------------\u001b[0m",
      "\u001b[1;31mValueError\u001b[0m                                Traceback (most recent call last)",
      "\u001b[1;32m<ipython-input-19-2fcf3b5e742f>\u001b[0m in \u001b[0;36m<module>\u001b[1;34m\u001b[0m\n\u001b[1;32m----> 1\u001b[1;33m \u001b[0mfile1\u001b[0m\u001b[1;33m.\u001b[0m\u001b[0mread\u001b[0m\u001b[1;33m(\u001b[0m\u001b[1;33m)\u001b[0m\u001b[1;33m\u001b[0m\u001b[1;33m\u001b[0m\u001b[0m\n\u001b[0m",
      "\u001b[1;31mValueError\u001b[0m: I/O operation on closed file."
     ]
    }
   ],
   "source": [
    "file1.read()"
   ]
  },
  {
   "attachments": {
    "image.png": {
     "image/png": "[encoded data removed]"
    }
   },
   "cell_type": "markdown",
   "id": "64052700",
   "metadata": {},
   "source": [
    "![image.png](attachment:image.png)"
   ]
  },
  {
   "cell_type": "markdown",
   "id": "fc8b5223",
   "metadata": {},
   "source": [
    "## Closing files automatically using `with`\n",
    "\n",
    "To close a file automatically after you've processed it, you can open it using the `with` statement."
   ]
  },
  {
   "cell_type": "code",
   "execution_count": null,
   "id": "91dd730c",
   "metadata": {},
   "outputs": [],
   "source": [
    "with open('./numpy/loans2.txt' , mode='r') as file2 :\n",
    "     file2_content=file2.read() \n",
    "     print(file2_content)"
   ]
  },
  {
   "cell_type": "code",
   "execution_count": null,
   "id": "2669a5e5",
   "metadata": {},
   "outputs": [],
   "source": [
    "file2.read()"
   ]
  },
  {
   "attachments": {
    "image.png": {
     "image/png": "[encoded data removed]"
    }
   },
   "cell_type": "markdown",
   "id": "63c5eeff",
   "metadata": {},
   "source": [
    "![image.png](attachment:image.png)"
   ]
  },
  {
   "cell_type": "markdown",
   "id": "ce4a7ce8",
   "metadata": {},
   "source": [
    "## Reading a file line by line\n",
    "\n",
    "\n",
    "File objects provide a `readlines` method to read a file line-by-line. "
   ]
  },
  {
   "cell_type": "code",
   "execution_count": 20,
   "id": "faf012a0",
   "metadata": {},
   "outputs": [
    {
     "name": "stdout",
     "output_type": "stream",
     "text": [
      "['amount,duration,rate,down_payment\\n', '45230,48,0.07,4300\\n', '883000,16,0.14,\\n', '100000,12,0.1,\\n', '728400,120,0.12,100000\\n', '3637400,240,0.06,\\n', '82900,90,0.07,8900\\n', '316000,16,0.13,\\n', '15230,48,0.08,4300\\n', '991360,99,0.08,\\n', '323000,27,0.09,4720010000,36,0.08,20000\\n', '528400,120,0.11,100000\\n', '8633400,240,0.06,\\n', '12900,90,0.08,8900']\n"
     ]
    }
   ],
   "source": [
    "with open('./numpy/loans3.txt' , mode='r') as file3 :\n",
    "     file3_content=file3.readlines()\n",
    "     print(file3_content)"
   ]
  },
  {
   "cell_type": "markdown",
   "id": "5eaa4269",
   "metadata": {},
   "source": [
    "## Processing data from files\n",
    "\n",
    "Before performing any operations on the data stored in a file, we need to convert the file's contents from one large string into Python data types. For the file `loans1.txt` containing information about loans in a CSV format, we can do the following:\n",
    "\n",
    "* Read the file line by line\n",
    "* Parse the first line to get a list of the column names or headers\n",
    "* Split each remaining line and convert each value into a float\n",
    "* Create a dictionary for each loan using the headers as keys\n",
    "* Create a list of dictionaries to keep track of all the loans\n",
    "\n",
    "Since we will perform the same operations for multiple files, it would be useful to define a function `read_csv`. We'll also define some helper functions to build up the functionality step by step. \n",
    "\n",
    "Let's start by defining a function `parse_header` that takes a line as input and returns a list of column headers."
   ]
  },
  {
   "cell_type": "code",
   "execution_count": 21,
   "id": "68864fdb",
   "metadata": {},
   "outputs": [],
   "source": [
    "def parse_header(header_line):\n",
    "    return header_line.strip().split(',')"
   ]
  },
  {
   "cell_type": "markdown",
   "id": "a87a9403",
   "metadata": {},
   "source": [
    "The `strip` method removes any extra spaces and the newline character `\\n`. The `split` method breaks a string into a list using the given separator (`,` in this case)."
   ]
  },
  {
   "cell_type": "code",
   "execution_count": 22,
   "id": "8f0e4899",
   "metadata": {},
   "outputs": [
    {
     "data": {
      "text/plain": [
       "'amount,duration,rate,down_payment\\n'"
      ]
     },
     "execution_count": 22,
     "metadata": {},
     "output_type": "execute_result"
    }
   ],
   "source": [
    "file3_content[0]"
   ]
  },
  {
   "cell_type": "code",
   "execution_count": 23,
   "id": "b9ec857d",
   "metadata": {},
   "outputs": [],
   "source": [
    "header=parse_header(file3_content[0])"
   ]
  },
  {
   "cell_type": "code",
   "execution_count": 24,
   "id": "70ddf0cb",
   "metadata": {},
   "outputs": [
    {
     "data": {
      "text/plain": [
       "['amount', 'duration', 'rate', 'down_payment']"
      ]
     },
     "execution_count": 24,
     "metadata": {},
     "output_type": "execute_result"
    }
   ],
   "source": [
    "header\n"
   ]
  },
  {
   "cell_type": "markdown",
   "id": "64dc67bd",
   "metadata": {},
   "source": [
    "Next, let's define a function `parse_values` that takes a line containing some data and returns a list of floating-point numbers."
   ]
  },
  {
   "cell_type": "code",
   "execution_count": 25,
   "id": "caea2808",
   "metadata": {},
   "outputs": [],
   "source": [
    "def pharse_line(data_line) :\n",
    "    value= []\n",
    "    for items in data_line.strip().split(',') :\n",
    "        value.append(float(items))\n",
    "        \n",
    "    return value\n",
    "    "
   ]
  },
  {
   "cell_type": "code",
   "execution_count": 26,
   "id": "c90c8d3f",
   "metadata": {},
   "outputs": [
    {
     "name": "stdout",
     "output_type": "stream",
     "text": [
      "[45230.0, 48.0, 0.07, 4300.0]\n"
     ]
    }
   ],
   "source": [
    "print (pharse_line(file3_content[1]))"
   ]
  },
  {
   "cell_type": "code",
   "execution_count": 27,
   "id": "626f442e",
   "metadata": {},
   "outputs": [
    {
     "data": {
      "text/plain": [
       "'883000,16,0.14,\\n'"
      ]
     },
     "execution_count": 27,
     "metadata": {},
     "output_type": "execute_result"
    }
   ],
   "source": [
    "file3_content[2]"
   ]
  },
  {
   "cell_type": "code",
   "execution_count": 28,
   "id": "4a96c860",
   "metadata": {},
   "outputs": [
    {
     "ename": "ValueError",
     "evalue": "could not convert string to float: ''",
     "output_type": "error",
     "traceback": [
      "\u001b[1;31m---------------------------------------------------------------------------\u001b[0m",
      "\u001b[1;31mValueError\u001b[0m                                Traceback (most recent call last)",
      "\u001b[1;32m<ipython-input-28-bfb075b929e5>\u001b[0m in \u001b[0;36m<module>\u001b[1;34m\u001b[0m\n\u001b[1;32m----> 1\u001b[1;33m \u001b[0mprint\u001b[0m \u001b[1;33m(\u001b[0m\u001b[0mpharse_line\u001b[0m\u001b[1;33m(\u001b[0m\u001b[0mfile3_content\u001b[0m\u001b[1;33m[\u001b[0m\u001b[1;36m2\u001b[0m\u001b[1;33m]\u001b[0m\u001b[1;33m)\u001b[0m\u001b[1;33m)\u001b[0m\u001b[1;33m\u001b[0m\u001b[1;33m\u001b[0m\u001b[0m\n\u001b[0m",
      "\u001b[1;32m<ipython-input-25-03ed179e05f1>\u001b[0m in \u001b[0;36mpharse_line\u001b[1;34m(data_line)\u001b[0m\n\u001b[0;32m      2\u001b[0m     \u001b[0mvalue\u001b[0m\u001b[1;33m=\u001b[0m \u001b[1;33m[\u001b[0m\u001b[1;33m]\u001b[0m\u001b[1;33m\u001b[0m\u001b[1;33m\u001b[0m\u001b[0m\n\u001b[0;32m      3\u001b[0m     \u001b[1;32mfor\u001b[0m \u001b[0mitems\u001b[0m \u001b[1;32min\u001b[0m \u001b[0mdata_line\u001b[0m\u001b[1;33m.\u001b[0m\u001b[0mstrip\u001b[0m\u001b[1;33m(\u001b[0m\u001b[1;33m)\u001b[0m\u001b[1;33m.\u001b[0m\u001b[0msplit\u001b[0m\u001b[1;33m(\u001b[0m\u001b[1;34m','\u001b[0m\u001b[1;33m)\u001b[0m \u001b[1;33m:\u001b[0m\u001b[1;33m\u001b[0m\u001b[1;33m\u001b[0m\u001b[0m\n\u001b[1;32m----> 4\u001b[1;33m         \u001b[0mvalue\u001b[0m\u001b[1;33m.\u001b[0m\u001b[0mappend\u001b[0m\u001b[1;33m(\u001b[0m\u001b[0mfloat\u001b[0m\u001b[1;33m(\u001b[0m\u001b[0mitems\u001b[0m\u001b[1;33m)\u001b[0m\u001b[1;33m)\u001b[0m\u001b[1;33m\u001b[0m\u001b[1;33m\u001b[0m\u001b[0m\n\u001b[0m\u001b[0;32m      5\u001b[0m \u001b[1;33m\u001b[0m\u001b[0m\n\u001b[0;32m      6\u001b[0m     \u001b[1;32mreturn\u001b[0m \u001b[0mvalue\u001b[0m\u001b[1;33m\u001b[0m\u001b[1;33m\u001b[0m\u001b[0m\n",
      "\u001b[1;31mValueError\u001b[0m: could not convert string to float: ''"
     ]
    }
   ],
   "source": [
    "print (pharse_line(file3_content[2]))"
   ]
  },
  {
   "attachments": {
    "image.png": {
     "image/png": "[encoded data removed]"
    }
   },
   "cell_type": "markdown",
   "id": "bd48bd14",
   "metadata": {},
   "source": [
    "![image.png](attachment:image.png)\n",
    "\n",
    "\n",
    "Empty string cannot convert to float"
   ]
  },
  {
   "cell_type": "code",
   "execution_count": 229,
   "id": "8721b6f5",
   "metadata": {},
   "outputs": [],
   "source": [
    "def pharse_line(data_line) :\n",
    "    value= []\n",
    "    for items in data_line.strip().split(',') :\n",
    "        if items== ' ' :\n",
    "             value.append(0.0)\n",
    "        else :\n",
    "            try :\n",
    "                value.append(float(items))\n",
    "            except ValueError :\n",
    "                value.append(items)   \n",
    "    return value"
   ]
  },
  {
   "cell_type": "code",
   "execution_count": 230,
   "id": "2910cf96",
   "metadata": {},
   "outputs": [
    {
     "name": "stdout",
     "output_type": "stream",
     "text": [
      "[883000.0, 16.0, 0.14, '']\n"
     ]
    }
   ],
   "source": [
    "print (pharse_line(file3_content[2]))"
   ]
  },
  {
   "cell_type": "markdown",
   "id": "48984a58",
   "metadata": {},
   "source": [
    "Next, let's define a function `create_item_dict` that takes a list of values and a list of headers as inputs and returns a dictionary with the values associated with their respective headers as keys."
   ]
  },
  {
   "cell_type": "code",
   "execution_count": 231,
   "id": "4ab16932",
   "metadata": {},
   "outputs": [],
   "source": [
    "def create_item_dict(values, headers) :\n",
    "    result={}\n",
    "    for values ,header in zip( values, headers ) :\n",
    "        result[header] =  values\n",
    "    return result"
   ]
  },
  {
   "cell_type": "markdown",
   "id": "da2d0b01",
   "metadata": {},
   "source": [
    "Can you figure out what the Python built-in function `zip` does? Try out an example, or [read the documentation](https://docs.python.org/3.3/library/functions.html#zip)."
   ]
  },
  {
   "cell_type": "code",
   "execution_count": 232,
   "id": "c9b1f0c4",
   "metadata": {},
   "outputs": [
    {
     "name": "stdout",
     "output_type": "stream",
     "text": [
      "(1, 'a', 'e')\n",
      "(2, 'b', 'f')\n",
      "(3, 'c', 'g')\n"
     ]
    }
   ],
   "source": [
    "for item in zip([1,2,3], ['a', 'b', 'c'], ['e','f','g']):\n",
    "    print(item)"
   ]
  },
  {
   "cell_type": "code",
   "execution_count": 233,
   "id": "e155eedf",
   "metadata": {},
   "outputs": [
    {
     "data": {
      "text/plain": [
       "'45230,48,0.07,4300\\n'"
      ]
     },
     "execution_count": 233,
     "metadata": {},
     "output_type": "execute_result"
    }
   ],
   "source": [
    "file3_content[1]"
   ]
  },
  {
   "cell_type": "code",
   "execution_count": 234,
   "id": "e497f16a",
   "metadata": {},
   "outputs": [
    {
     "data": {
      "text/plain": [
       "{'amount': 45230.0, 'duration': 48.0, 'rate': 0.07, 'down_payment': 4300.0}"
      ]
     },
     "execution_count": 234,
     "metadata": {},
     "output_type": "execute_result"
    }
   ],
   "source": [
    "values1=pharse_line(file3_content[1])\n",
    "header=parse_header(file3_content[0])\n",
    "create_item_dict(values1, header)"
   ]
  },
  {
   "cell_type": "markdown",
   "id": "12ff66af",
   "metadata": {},
   "source": [
    "As expected, the values & header are combined to create a dictionary with the appropriate key-value pairs.\n",
    "\n",
    "We are now ready to put it all together and define the `read_csv` function."
   ]
  },
  {
   "cell_type": "code",
   "execution_count": 235,
   "id": "9a734d0a",
   "metadata": {},
   "outputs": [],
   "source": [
    "def read_csv(path) :\n",
    "    result= []\n",
    "    with open(path, 'r') as fileread :\n",
    "        fileread_content=fileread.readlines()\n",
    "        header= header=parse_header(file3_content[0])\n",
    "        for data_line in fileread_content[1:] :\n",
    "            values1=pharse_line(data_line)\n",
    "            item_dict = create_item_dict(values1, header)\n",
    "            result.append(item_dict)\n",
    "            \n",
    "    return result\n",
    "        "
   ]
  },
  {
   "cell_type": "code",
   "execution_count": 236,
   "id": "a56d85b2",
   "metadata": {},
   "outputs": [
    {
     "data": {
      "text/plain": [
       "[{'amount': 100000.0, 'duration': 36.0, 'rate': 0.08, 'down_payment': 20000.0},\n",
       " {'amount': 200000.0, 'duration': 12.0, 'rate': 0.1, 'down_payment': ''},\n",
       " {'amount': 628400.0,\n",
       "  'duration': 120.0,\n",
       "  'rate': 0.12,\n",
       "  'down_payment': 100000.0},\n",
       " {'amount': 4637400.0, 'duration': 240.0, 'rate': 0.06, 'down_payment': ''},\n",
       " {'amount': 42900.0, 'duration': 90.0, 'rate': 0.07, 'down_payment': 8900.0},\n",
       " {'amount': 916000.0, 'duration': 16.0, 'rate': 0.13, 'down_payment': ''},\n",
       " {'amount': 45230.0, 'duration': 48.0, 'rate': 0.08, 'down_payment': 4300.0},\n",
       " {'amount': 991360.0, 'duration': 99.0, 'rate': 0.08, 'down_payment': ''},\n",
       " {'amount': 423000.0, 'duration': 27.0, 'rate': 0.09, 'down_payment': 47200.0}]"
      ]
     },
     "execution_count": 236,
     "metadata": {},
     "output_type": "execute_result"
    }
   ],
   "source": [
    "read_csv('./numpy/loans1.csv')"
   ]
  },
  {
   "cell_type": "markdown",
   "id": "9dedbbf0",
   "metadata": {},
   "source": [
    "### let see the full code"
   ]
  },
  {
   "cell_type": "code",
   "execution_count": 237,
   "id": "3d9609b8",
   "metadata": {},
   "outputs": [
    {
     "data": {
      "text/plain": [
       "[{'amount': 100000.0, 'duration': 36.0, 'rate': 0.08, 'down_payment': 20000.0},\n",
       " {'amount': 200000.0, 'duration': 12.0, 'rate': 0.1, 'down_payment': 0.0},\n",
       " {'amount': 628400.0,\n",
       "  'duration': 120.0,\n",
       "  'rate': 0.12,\n",
       "  'down_payment': 100000.0},\n",
       " {'amount': 4637400.0, 'duration': 240.0, 'rate': 0.06, 'down_payment': 0.0},\n",
       " {'amount': 42900.0, 'duration': 90.0, 'rate': 0.07, 'down_payment': 8900.0},\n",
       " {'amount': 916000.0, 'duration': 16.0, 'rate': 0.13, 'down_payment': 0.0},\n",
       " {'amount': 45230.0, 'duration': 48.0, 'rate': 0.08, 'down_payment': 4300.0},\n",
       " {'amount': 991360.0, 'duration': 99.0, 'rate': 0.08, 'down_payment': 0.0},\n",
       " {'amount': 423000.0, 'duration': 27.0, 'rate': 0.09, 'down_payment': 47200.0}]"
      ]
     },
     "execution_count": 237,
     "metadata": {},
     "output_type": "execute_result"
    }
   ],
   "source": [
    "def parse_header(headers) :\n",
    "    return headers.strip().split(',')\n",
    "\n",
    "def pharse_line(content) :\n",
    "    values= []\n",
    "    for value in content.strip().split(',') :\n",
    "        if value == '' :\n",
    "            values.append(0.0)\n",
    "        else :\n",
    "            try :\n",
    "                values.append(float(value))\n",
    "            except  ValueError :\n",
    "                values.append(value)\n",
    "    return values\n",
    "\n",
    "def create_item_dict(value, header) :\n",
    "    result = {}\n",
    "    for values , header in zip(value , header) :\n",
    "        result[header] = values\n",
    "    return result\n",
    "\n",
    "def read_csv(path) :\n",
    "    result = []\n",
    "    with open(path, 'r') as fileread :\n",
    "        fileread_content=fileread.readlines()\n",
    "        header = parse_header(file3_content[0])\n",
    "        for data_line in fileread_content[1:] :\n",
    "            values1=pharse_line(data_line)\n",
    "            item_dict = create_item_dict(values1, header)\n",
    "            result.append(item_dict)\n",
    "            \n",
    "    return result\n",
    "\n",
    "read_csv('./numpy/loansnew1.txt')"
   ]
  },
  {
   "cell_type": "code",
   "execution_count": 238,
   "id": "68d925e3",
   "metadata": {},
   "outputs": [],
   "source": [
    "import math\n",
    "\n",
    "def loan_emi(amount, duration, rate, down_payment=0):\n",
    "    \"\"\"Calculates the equal montly installment (EMI) for a loan.\n",
    "    \n",
    "    Arguments:\n",
    "        amount - Total amount to be spent (loan + down payment)\n",
    "        duration - Duration of the loan (in months)\n",
    "        rate - Rate of interest (monthly)\n",
    "        down_payment (optional) - Optional intial payment (deducted from amount)\n",
    "    \"\"\"\n",
    "    loan_amount = amount - down_payment\n",
    "    try:\n",
    "        emi = loan_amount * rate * ((1+rate)**duration) / (((1+rate)**duration)-1)\n",
    "    except ZeroDivisionError :\n",
    "        if duration == 0.0 :\n",
    "            emi =0.0\n",
    "        else :\n",
    "            emi = loan_amount / duration\n",
    "  \n",
    "    emi = math.ceil(emi)\n",
    "    return emi\n"
   ]
  },
  {
   "cell_type": "code",
   "execution_count": 239,
   "id": "03638ee3",
   "metadata": {},
   "outputs": [
    {
     "name": "stdout",
     "output_type": "stream",
     "text": [
      "[{'amount': 100000.0, 'duration': 36.0, 'rate': 0.08, 'down_payment': 20000.0}, {'amount': 200000.0, 'duration': 12.0, 'rate': 0.1, 'down_payment': 0.0}, {'amount': 628400.0, 'duration': 120.0, 'rate': 0.12, 'down_payment': 100000.0}, {'amount': 4637400.0, 'duration': 240.0, 'rate': 0.06, 'down_payment': 0.0}, {'amount': 42900.0, 'duration': 90.0, 'rate': 0.07, 'down_payment': 8900.0}, {'amount': 916000.0, 'duration': 16.0, 'rate': 0.13, 'down_payment': 0.0}, {'amount': 45230.0, 'duration': 48.0, 'rate': 0.08, 'down_payment': 4300.0}, {'amount': 991360.0, 'duration': 99.0, 'rate': 0.08, 'down_payment': 0.0}, {'amount': 423000.0, 'duration': 27.0, 'rate': 0.09, 'down_payment': 47200.0}]\n"
     ]
    }
   ],
   "source": [
    "loans = read_csv('./numpy/loans1.csv')\n",
    "print(loans)\n",
    "\n",
    "    "
   ]
  },
  {
   "cell_type": "code",
   "execution_count": 240,
   "id": "722c8ca2",
   "metadata": {},
   "outputs": [
    {
     "name": "stdout",
     "output_type": "stream",
     "text": [
      "[{'amount': 100000.0, 'duration': 36.0, 'rate': 0.08, 'down_payment': 20000.0, 'emi': 2507}, {'amount': 200000.0, 'duration': 12.0, 'rate': 0.1, 'down_payment': 0.0, 'emi': 17584}, {'amount': 628400.0, 'duration': 120.0, 'rate': 0.12, 'down_payment': 100000.0, 'emi': 7582}, {'amount': 4637400.0, 'duration': 240.0, 'rate': 0.06, 'down_payment': 0.0, 'emi': 33224}, {'amount': 42900.0, 'duration': 90.0, 'rate': 0.07, 'down_payment': 8900.0, 'emi': 487}, {'amount': 916000.0, 'duration': 16.0, 'rate': 0.13, 'down_payment': 0.0, 'emi': 62664}, {'amount': 45230.0, 'duration': 48.0, 'rate': 0.08, 'down_payment': 4300.0, 'emi': 1000}, {'amount': 991360.0, 'duration': 99.0, 'rate': 0.08, 'down_payment': 0.0, 'emi': 13712}, {'amount': 423000.0, 'duration': 27.0, 'rate': 0.09, 'down_payment': 47200.0, 'emi': 15428}]\n"
     ]
    }
   ],
   "source": [
    "for loan in loans :\n",
    "    loan['emi'] = loan_emi(loan['amount'], loan['duration'], loan['rate']/12, loan['down_payment'])\n",
    "print(loans)"
   ]
  },
  {
   "cell_type": "code",
   "execution_count": 241,
   "id": "2402de3e",
   "metadata": {},
   "outputs": [],
   "source": [
    "def compute_emis(loans):\n",
    "    for loan in loans:\n",
    "        loan['emi'] = loan_emi(\n",
    "            loan['amount'], \n",
    "            loan['duration'], \n",
    "            loan['rate']/12, # the CSV contains yearly rates\n",
    "            loan['down_payment'])\n",
    "    \n",
    "        "
   ]
  },
  {
   "cell_type": "code",
   "execution_count": 242,
   "id": "dedf79b0",
   "metadata": {},
   "outputs": [],
   "source": [
    "with open('./numpy/loans1.txt' , 'w') as loan1 :\n",
    "   \n",
    "    for loan in loans :\n",
    "        loan1.write('{},{},{},{},{}\\n' .format(loan['amount'], \n",
    "            loan['duration'], \n",
    "            loan['rate']/12, # the CSV contains yearly rates\n",
    "            loan['down_payment'], loan['emi']))"
   ]
  },
  {
   "cell_type": "code",
   "execution_count": 243,
   "id": "3786d238",
   "metadata": {},
   "outputs": [
    {
     "data": {
      "text/plain": [
       "['loans1',\n",
       " 'loans1.csv',\n",
       " 'loans1.txt',\n",
       " 'loans2.txt',\n",
       " 'loans3.txt',\n",
       " 'loansnew1.txt',\n",
       " 'loansnew2.txt',\n",
       " 'loansnew3.txt',\n",
       " 'movie.csv']"
      ]
     },
     "execution_count": 243,
     "metadata": {},
     "output_type": "execute_result"
    }
   ],
   "source": [
    "import os\n",
    "\n",
    "os.listdir('numpy')"
   ]
  },
  {
   "cell_type": "code",
   "execution_count": 244,
   "id": "1c64bff9",
   "metadata": {},
   "outputs": [
    {
     "name": "stdout",
     "output_type": "stream",
     "text": [
      "1.0,0.0,0.0,0.0,0\n",
      "2.0,0.0,0.0,0.0,0\n",
      "6.0,2.0,0.6666666666666666,4.0,3\n",
      "4.0,6.0,0.25,7.0,-1\n",
      "4.0,2.0,0.75,0.0,5\n",
      "9.0,1.0,0.5,0.0,14\n",
      "4.0,5.0,0.16666666666666666,3.0,1\n",
      "9.0,9.0,0.08333333333333333,3.0,1\n",
      "4.0,2.0,0.25,0.0,3\n",
      "\n"
     ]
    }
   ],
   "source": [
    "with open('./numpy/loans1' , 'r') as  file :\n",
    "    file_con=file.read()\n",
    "    print(file_con)"
   ]
  },
  {
   "cell_type": "code",
   "execution_count": 245,
   "id": "bf0092ec",
   "metadata": {},
   "outputs": [],
   "source": [
    "def write_csv(items, path) :\n",
    "    with open(path , 'w') as  file :\n",
    "        if len(items) == 0:\n",
    "            return\n",
    "        headers=list(items[0].keys())\n",
    "        file.write(','.join(headers) + '\\n')\n",
    "        for item in items :\n",
    "            value = []\n",
    "            for header in headers :\n",
    "                value.append(str(item.get(header,\"\")))\n",
    "            file.write(', '.join(value) + '\\n')"
   ]
  },
  {
   "cell_type": "code",
   "execution_count": 246,
   "id": "9e62e2c7",
   "metadata": {},
   "outputs": [],
   "source": [
    "loans=read_csv('./numpy/loans2.txt')\n",
    "compute_emis(loans)\n",
    "write_csv(loans , './numpy/loans3.txt')"
   ]
  },
  {
   "cell_type": "markdown",
   "id": "5aeeac99",
   "metadata": {},
   "source": [
    "## Using Pandas to Read and Write CSVs\n",
    "\n",
    "There are some limitations to the `read_csv` and `write_csv` functions we've defined above:\n",
    "\n",
    "* The `read_csv` function fails to create a proper dictionary if any of the values in the CSV files contains commas\n",
    "* The `write_csv` function fails to create a proper CSV if any of the values to be written contains commas\n",
    "\n",
    "When a value in a CSV file contains a comma (`,`), the value is generally placed within double quotes. Double quotes (`\"`) in values are converted into two double quotes (`\"\"`). Here's an example:\n",
    "\n",
    "```\n",
    "title,description\n",
    "Fast & Furious,\"A movie, a race, a franchise\"\n",
    "The Dark Knight,\"Gotham, the \"\"Batman\"\", and the Joker\"\n",
    "Memento,A guy forgets everything every 15 minutes\n",
    "\n",
    "```\n",
    "\n",
    "Let's try it out."
   ]
  },
  {
   "cell_type": "code",
   "execution_count": 247,
   "id": "286b406b",
   "metadata": {},
   "outputs": [],
   "source": [
    "movies_url = \"https://gist.githubusercontent.com/aakashns/afee0a407d44bbc02321993548021af9/raw/6d7473f0ac4c54aca65fc4b06ed831b8a4840190/movies.csv\""
   ]
  },
  {
   "cell_type": "code",
   "execution_count": 248,
   "id": "8c1365d3",
   "metadata": {},
   "outputs": [
    {
     "data": {
      "text/plain": [
       "('./numpy/movie.csv', <http.client.HTTPMessage at 0x253481ca460>)"
      ]
     },
     "execution_count": 248,
     "metadata": {},
     "output_type": "execute_result"
    }
   ],
   "source": [
    "urlretrieve(movies_url , './numpy/movie.csv')"
   ]
  },
  {
   "cell_type": "code",
   "execution_count": 249,
   "id": "81bffd6c",
   "metadata": {},
   "outputs": [],
   "source": [
    "!pip install pandas --upgrade --quiet"
   ]
  },
  {
   "cell_type": "code",
   "execution_count": 250,
   "id": "451580e2",
   "metadata": {},
   "outputs": [],
   "source": [
    "import pandas as pd"
   ]
  },
  {
   "cell_type": "code",
   "execution_count": 251,
   "id": "e0da33d3",
   "metadata": {},
   "outputs": [],
   "source": [
    "movies_data_frames=pd.read_csv('./numpy/movie.csv')"
   ]
  },
  {
   "cell_type": "code",
   "execution_count": 252,
   "id": "8e04ba65",
   "metadata": {},
   "outputs": [
    {
     "data": {
      "text/html": [
       "<div>\n",
       "<style scoped>\n",
       "    .dataframe tbody tr th:only-of-type {\n",
       "        vertical-align: middle;\n",
       "    }\n",
       "\n",
       "    .dataframe tbody tr th {\n",
       "        vertical-align: top;\n",
       "    }\n",
       "\n",
       "    .dataframe thead th {\n",
       "        text-align: right;\n",
       "    }\n",
       "</style>\n",
       "<table border=\"1\" class=\"dataframe\">\n",
       "  <thead>\n",
       "    <tr style=\"text-align: right;\">\n",
       "      <th></th>\n",
       "      <th>title</th>\n",
       "      <th>description</th>\n",
       "    </tr>\n",
       "  </thead>\n",
       "  <tbody>\n",
       "    <tr>\n",
       "      <th>0</th>\n",
       "      <td>Fast &amp; Furious</td>\n",
       "      <td>A movie, a race, a franchise</td>\n",
       "    </tr>\n",
       "    <tr>\n",
       "      <th>1</th>\n",
       "      <td>The Dark Knight</td>\n",
       "      <td>Gotham, the \"Batman\", and the Joker</td>\n",
       "    </tr>\n",
       "    <tr>\n",
       "      <th>2</th>\n",
       "      <td>Memento</td>\n",
       "      <td>A guy forgets everything every 15 minutes</td>\n",
       "    </tr>\n",
       "  </tbody>\n",
       "</table>\n",
       "</div>"
      ],
      "text/plain": [
       "             title                                description\n",
       "0   Fast & Furious               A movie, a race, a franchise\n",
       "1  The Dark Knight        Gotham, the \"Batman\", and the Joker\n",
       "2          Memento  A guy forgets everything every 15 minutes"
      ]
     },
     "execution_count": 252,
     "metadata": {},
     "output_type": "execute_result"
    }
   ],
   "source": [
    "movies_data_frames"
   ]
  },
  {
   "cell_type": "code",
   "execution_count": 253,
   "id": "5cc2fa88",
   "metadata": {},
   "outputs": [],
   "source": [
    "movies=movies_data_frames.to_dict('records')"
   ]
  },
  {
   "cell_type": "code",
   "execution_count": 254,
   "id": "ca093d06",
   "metadata": {},
   "outputs": [
    {
     "data": {
      "text/plain": [
       "[{'title': 'Fast & Furious', 'description': 'A movie, a race, a franchise'},\n",
       " {'title': 'The Dark Knight',\n",
       "  'description': 'Gotham, the \"Batman\", and the Joker'},\n",
       " {'title': 'Memento',\n",
       "  'description': 'A guy forgets everything every 15 minutes'}]"
      ]
     },
     "execution_count": 254,
     "metadata": {},
     "output_type": "execute_result"
    }
   ],
   "source": [
    "movies"
   ]
  },
  {
   "cell_type": "code",
   "execution_count": 255,
   "id": "69d26ecd",
   "metadata": {},
   "outputs": [],
   "source": [
    "movies_dict = movies_data_frames.to_dict()"
   ]
  },
  {
   "cell_type": "code",
   "execution_count": 256,
   "id": "80d1fd89",
   "metadata": {},
   "outputs": [
    {
     "data": {
      "text/plain": [
       "{'title': {0: 'Fast & Furious', 1: 'The Dark Knight', 2: 'Memento'},\n",
       " 'description': {0: 'A movie, a race, a franchise',\n",
       "  1: 'Gotham, the \"Batman\", and the Joker',\n",
       "  2: 'A guy forgets everything every 15 minutes'}}"
      ]
     },
     "execution_count": 256,
     "metadata": {},
     "output_type": "execute_result"
    }
   ],
   "source": [
    "movies_dict"
   ]
  },
  {
   "cell_type": "code",
   "execution_count": 257,
   "id": "69f91d4e",
   "metadata": {},
   "outputs": [],
   "source": [
    "write_csv(movies, 'movies2.csv')"
   ]
  },
  {
   "cell_type": "code",
   "execution_count": 258,
   "id": "326e1c6f",
   "metadata": {},
   "outputs": [
    {
     "data": {
      "text/plain": [
       "['loans1',\n",
       " 'loans1.csv',\n",
       " 'loans1.txt',\n",
       " 'loans2.txt',\n",
       " 'loans3.txt',\n",
       " 'loansnew1.txt',\n",
       " 'loansnew2.txt',\n",
       " 'loansnew3.txt',\n",
       " 'movie.csv']"
      ]
     },
     "execution_count": 258,
     "metadata": {},
     "output_type": "execute_result"
    }
   ],
   "source": [
    "os.listdir('./numpy')"
   ]
  },
  {
   "cell_type": "code",
   "execution_count": 259,
   "id": "a68b99bc",
   "metadata": {},
   "outputs": [
    {
     "name": "stderr",
     "output_type": "stream",
     "text": [
      "'head' is not recognized as an internal or external command,\n",
      "operable program or batch file.\n"
     ]
    }
   ],
   "source": [
    "!head movies2.csv"
   ]
  },
  {
   "cell_type": "code",
   "execution_count": 260,
   "id": "4c928ab4",
   "metadata": {},
   "outputs": [
    {
     "data": {
      "text/html": [
       "<div>\n",
       "<style scoped>\n",
       "    .dataframe tbody tr th:only-of-type {\n",
       "        vertical-align: middle;\n",
       "    }\n",
       "\n",
       "    .dataframe tbody tr th {\n",
       "        vertical-align: top;\n",
       "    }\n",
       "\n",
       "    .dataframe thead th {\n",
       "        text-align: right;\n",
       "    }\n",
       "</style>\n",
       "<table border=\"1\" class=\"dataframe\">\n",
       "  <thead>\n",
       "    <tr style=\"text-align: right;\">\n",
       "      <th></th>\n",
       "      <th></th>\n",
       "      <th>title</th>\n",
       "      <th>description</th>\n",
       "    </tr>\n",
       "  </thead>\n",
       "  <tbody>\n",
       "    <tr>\n",
       "      <th>Fast &amp; Furious</th>\n",
       "      <th>A movie</th>\n",
       "      <td>a race</td>\n",
       "      <td>a franchise</td>\n",
       "    </tr>\n",
       "    <tr>\n",
       "      <th>The Dark Knight</th>\n",
       "      <th>Gotham</th>\n",
       "      <td>the \"Batman\"</td>\n",
       "      <td>and the Joker</td>\n",
       "    </tr>\n",
       "    <tr>\n",
       "      <th>Memento</th>\n",
       "      <th>A guy forgets everything every 15 minutes</th>\n",
       "      <td>NaN</td>\n",
       "      <td>NaN</td>\n",
       "    </tr>\n",
       "  </tbody>\n",
       "</table>\n",
       "</div>"
      ],
      "text/plain": [
       "                                                                    title  \\\n",
       "Fast & Furious   A movie                                           a race   \n",
       "The Dark Knight  Gotham                                      the \"Batman\"   \n",
       "Memento          A guy forgets everything every 15 minutes            NaN   \n",
       "\n",
       "                                                               description  \n",
       "Fast & Furious   A movie                                       a franchise  \n",
       "The Dark Knight  Gotham                                      and the Joker  \n",
       "Memento          A guy forgets everything every 15 minutes             NaN  "
      ]
     },
     "execution_count": 260,
     "metadata": {},
     "output_type": "execute_result"
    }
   ],
   "source": [
    "pd.read_csv('movies2.csv')"
   ]
  },
  {
   "cell_type": "code",
   "execution_count": 261,
   "id": "cf45dfb3",
   "metadata": {},
   "outputs": [],
   "source": [
    "df2= pd.DataFrame(movies)"
   ]
  },
  {
   "cell_type": "code",
   "execution_count": 262,
   "id": "98c9b784",
   "metadata": {},
   "outputs": [
    {
     "name": "stderr",
     "output_type": "stream",
     "text": [
      "'head' is not recognized as an internal or external command,\n",
      "operable program or batch file.\n"
     ]
    }
   ],
   "source": [
    "!head movies2.csv"
   ]
  },
  {
   "cell_type": "code",
   "execution_count": 263,
   "id": "b809e59b",
   "metadata": {},
   "outputs": [],
   "source": [
    "df2.to_csv('movies3.csv', index=None) "
   ]
  },
  {
   "cell_type": "code",
   "execution_count": 264,
   "id": "1ffa7d6f",
   "metadata": {},
   "outputs": [
    {
     "data": {
      "text/html": [
       "<div>\n",
       "<style scoped>\n",
       "    .dataframe tbody tr th:only-of-type {\n",
       "        vertical-align: middle;\n",
       "    }\n",
       "\n",
       "    .dataframe tbody tr th {\n",
       "        vertical-align: top;\n",
       "    }\n",
       "\n",
       "    .dataframe thead th {\n",
       "        text-align: right;\n",
       "    }\n",
       "</style>\n",
       "<table border=\"1\" class=\"dataframe\">\n",
       "  <thead>\n",
       "    <tr style=\"text-align: right;\">\n",
       "      <th></th>\n",
       "      <th>title</th>\n",
       "      <th>description</th>\n",
       "    </tr>\n",
       "  </thead>\n",
       "  <tbody>\n",
       "    <tr>\n",
       "      <th>0</th>\n",
       "      <td>Fast &amp; Furious</td>\n",
       "      <td>A movie, a race, a franchise</td>\n",
       "    </tr>\n",
       "    <tr>\n",
       "      <th>1</th>\n",
       "      <td>The Dark Knight</td>\n",
       "      <td>Gotham, the \"Batman\", and the Joker</td>\n",
       "    </tr>\n",
       "    <tr>\n",
       "      <th>2</th>\n",
       "      <td>Memento</td>\n",
       "      <td>A guy forgets everything every 15 minutes</td>\n",
       "    </tr>\n",
       "  </tbody>\n",
       "</table>\n",
       "</div>"
      ],
      "text/plain": [
       "             title                                description\n",
       "0   Fast & Furious               A movie, a race, a franchise\n",
       "1  The Dark Knight        Gotham, the \"Batman\", and the Joker\n",
       "2          Memento  A guy forgets everything every 15 minutes"
      ]
     },
     "execution_count": 264,
     "metadata": {},
     "output_type": "execute_result"
    }
   ],
   "source": [
    "pd.read_csv('movies3.csv')"
   ]
  },
  {
   "cell_type": "markdown",
   "id": "9c2ddb96",
   "metadata": {},
   "source": [
    "## Exercise - Processing CSV files using a dictionary of lists\n",
    "\n",
    "We defined the functions `read_csv` and `write_csv` above to convert a CSV file into a list of dictionaries and vice versa. In this exercise, you'll transform the CSV data into a dictionary of lists instead, with one list for each column in the file.\n",
    "\n",
    "For example, consider the following CSV file:\n",
    "\n",
    "```\n",
    "amount,duration,rate,down_payment\n",
    "828400,120,0.11,100000\n",
    "4633400,240,0.06,\n",
    "42900,90,0.08,8900\n",
    "983000,16,0.14,\n",
    "15230,48,0.07,4300\n",
    "```\n",
    "\n",
    "We'll convert it into the following dictionary of lists:\n",
    "\n",
    "```\n",
    "{\n",
    "  amount: [828400, 4633400, 42900, 983000, 15230],\n",
    "  duration: []120, 240, 90, 16, 48],\n",
    "  rate: [0.11, 0.06, 0.08, 0.14, 0.07],\n",
    "  down_payment: [100000, 0, 8900, 0, 4300]\n",
    "}\n",
    "```\n",
    "\n",
    "Complete the following tasks using the empty cells below:\n",
    "\n",
    "1. Download three CSV files to the folder `data2` using the URLs listed in the code cell below, and verify the downloaded files.\n",
    "2. Define a function `read_csv_columnar` that reads a CSV file and returns a dictionary of lists in the format shown above. \n",
    "3. Define a function `compute_emis` that adds another key `emi` into the dictionary with a list of EMIs computed for each row of data.\n",
    "4. Define a function `write_csv_columnar` that writes the data from the dictionary of lists into a correctly formatted CSV file.\n",
    "5. Process all three downloaded files and write the results by creating new files in the directory `data2`.\n",
    "\n",
    "Define helper functions wherever required."
   ]
  },
  {
   "cell_type": "code",
   "execution_count": 477,
   "id": "a56045db",
   "metadata": {},
   "outputs": [],
   "source": [
    "url1 = 'https://gist.githubusercontent.com/aakashns/257f6e6c8719c17d0e498ea287d1a386/raw/7def9ef4234ddf0bc82f855ad67dac8b971852ef/loans1.txt'\n",
    "url2 = 'https://gist.githubusercontent.com/aakashns/257f6e6c8719c17d0e498ea287d1a386/raw/7def9ef4234ddf0bc82f855ad67dac8b971852ef/loans2.txt'\n",
    "url3 = 'https://gist.githubusercontent.com/aakashns/257f6e6c8719c17d0e498ea287d1a386/raw/7def9ef4234ddf0bc82f855ad67dac8b971852ef/loans3.txt'"
   ]
  },
  {
   "cell_type": "code",
   "execution_count": 478,
   "id": "433c40ca",
   "metadata": {},
   "outputs": [],
   "source": [
    "from urllib.request import urlretrieve"
   ]
  },
  {
   "cell_type": "code",
   "execution_count": 479,
   "id": "914537ac",
   "metadata": {},
   "outputs": [],
   "source": [
    "import os\n",
    "os.makedirs('./data2' , exist_ok=True )"
   ]
  },
  {
   "cell_type": "code",
   "execution_count": 480,
   "id": "5def903a",
   "metadata": {},
   "outputs": [
    {
     "data": {
      "text/plain": [
       "('./data2/loansnew3.txt', <http.client.HTTPMessage at 0x2534d369610>)"
      ]
     },
     "execution_count": 480,
     "metadata": {},
     "output_type": "execute_result"
    }
   ],
   "source": [
    "urlretrieve(url1, './data2/loansnew1.txt')\n",
    "urlretrieve(url2, './data2/loansnew2.txt')\n",
    "urlretrieve(url3, './data2/loansnew3.txt')"
   ]
  },
  {
   "cell_type": "code",
   "execution_count": 481,
   "id": "4c5d6520",
   "metadata": {},
   "outputs": [
    {
     "name": "stdout",
     "output_type": "stream",
     "text": [
      "['amount,duration,rate,down_payment\\n', '100000,36,0.08,20000\\n', '200000,12,0.1,\\n', '628400,120,0.12,100000\\n', '4637400,240,0.06,\\n', '42900,90,0.07,8900\\n', '916000,16,0.13,\\n', '45230,48,0.08,4300\\n', '991360,99,0.08,\\n', '423000,27,0.09,47200']\n"
     ]
    }
   ],
   "source": [
    "with open('./data2/loansnew1.txt', 'r') as fileread :\n",
    "        fileread_content=fileread.readlines()\n",
    "        print(fileread_content)"
   ]
  },
  {
   "cell_type": "code",
   "execution_count": 498,
   "id": "7b20f5d3",
   "metadata": {},
   "outputs": [],
   "source": [
    "def pharse_header(items) :\n",
    "    return items.strip().split(',')\n",
    "\n",
    "def parse_values(data_line):\n",
    "    values = []\n",
    "    for item in data_line.strip().split(','):\n",
    "        if item == '':\n",
    "            values.append(0.0)\n",
    "        else:\n",
    "            try:\n",
    "                values.append(float(item))\n",
    "            except ValueError:\n",
    "                values.append(item)\n",
    "    return values\n",
    "\n",
    "def create_item_dict(value, header) :\n",
    "    result = {}\n",
    "    for  header , values in zip( header , value) :\n",
    "        result[header] = values\n",
    "    return result\n",
    "\n",
    "import math\n",
    "\n",
    "def loan_emi(amount, duration, rate, down_payment=0):\n",
    "    \"\"\"Calculates the equal montly installment (EMI) for a loan.\n",
    "    \n",
    "    Arguments:\n",
    "        amount - Total amount to be spent (loan + down payment)\n",
    "        duration - Duration of the loan (in months)\n",
    "        rate - Rate of interest (monthly)\n",
    "        down_payment (optional) - Optional intial payment (deducted from amount)\n",
    "    \"\"\"\n",
    "    loan_amount = amount - down_payment\n",
    "    try:\n",
    "        emi = loan_amount * rate * ((1+rate)**duration) / (((1+rate)**duration)-1)\n",
    "    except ZeroDivisionError :\n",
    "        if duration == 0.0 :\n",
    "            emi =0.0\n",
    "        else :\n",
    "            emi = loan_amount / duration\n",
    "  \n",
    "    emi = math.ceil(emi)\n",
    "    return emi\n",
    "\n",
    "def compute_emis(loans):\n",
    "        return loan_emi(\n",
    "            loans[0], \n",
    "            loans[1], \n",
    "            loans[2]/12, # the CSV contains yearly rates\n",
    "            loans[3])\n",
    "        \n",
    "def read_csv_columnar(path):\n",
    "    result = {}\n",
    "    item_dict = []\n",
    "    values_o = []\n",
    "    with open(path, 'r') as f: \n",
    "        lines = f.readlines()  \n",
    "        headers = parse_header(lines[0])\n",
    "        headers.append('emi')\n",
    "        for data_line in lines[1:]:  \n",
    "            values = parse_values(data_line)\n",
    "            values.append(compute_emis(values))\n",
    "            item_dict.append(values) \n",
    "            value_o=list(map(list, zip(*item_dict)))\n",
    "        result=create_item_dict(value_o, headers)      \n",
    "        \n",
    "    return  result\n",
    "\n",
    "def write_csv_columnar(items, path) :\n",
    "    with open(path , 'w') as  file :\n",
    "        if len(items) == 0:\n",
    "            return\n",
    "        headers=list(items.keys())\n",
    "        file.write('  ,  '.join(headers) + '\\n')\n",
    "        items1=list(items.values())\n",
    "        items1=list(map(list, zip(*items1)))       \n",
    "        for item in items1 :\n",
    "            value = []\n",
    "            for item_1 in item :\n",
    "                value.append(str( item_1))\n",
    "            file.write('  ,   '.join(value) + '\\n')"
   ]
  },
  {
   "cell_type": "code",
   "execution_count": 499,
   "id": "299072a6",
   "metadata": {},
   "outputs": [],
   "source": [
    "loans=read_csv_columnar('./data2/loansnew1.txt')\n"
   ]
  },
  {
   "cell_type": "code",
   "execution_count": 500,
   "id": "d00c7ba1",
   "metadata": {},
   "outputs": [],
   "source": [
    "write_csv(loans, './data2/emis1.csv')"
   ]
  },
  {
   "cell_type": "code",
   "execution_count": 501,
   "id": "2b11a64b",
   "metadata": {},
   "outputs": [],
   "source": [
    "loans=read_csv_columnar('./data2/loansnew2.txt')\n",
    "write_csv(loans, './data2/emis2.csv')"
   ]
  },
  {
   "cell_type": "code",
   "execution_count": 502,
   "id": "8a1d73e5",
   "metadata": {},
   "outputs": [],
   "source": [
    "loans=read_csv_columnar('./data2/loansnew3.txt')\n",
    "write_csv(loans, './data2/emis3.csv')"
   ]
  },
  {
   "cell_type": "code",
   "execution_count": 503,
   "id": "4800eb1e",
   "metadata": {
    "scrolled": true
   },
   "outputs": [
    {
     "data": {
      "text/html": [
       "<div>\n",
       "<style scoped>\n",
       "    .dataframe tbody tr th:only-of-type {\n",
       "        vertical-align: middle;\n",
       "    }\n",
       "\n",
       "    .dataframe tbody tr th {\n",
       "        vertical-align: top;\n",
       "    }\n",
       "\n",
       "    .dataframe thead th {\n",
       "        text-align: right;\n",
       "    }\n",
       "</style>\n",
       "<table border=\"1\" class=\"dataframe\">\n",
       "  <thead>\n",
       "    <tr style=\"text-align: right;\">\n",
       "      <th></th>\n",
       "      <th>amount</th>\n",
       "      <th>duration</th>\n",
       "      <th>rate</th>\n",
       "      <th>down_payment</th>\n",
       "      <th>emi</th>\n",
       "    </tr>\n",
       "  </thead>\n",
       "  <tbody>\n",
       "    <tr>\n",
       "      <th>0</th>\n",
       "      <td>45230.0</td>\n",
       "      <td>48.0</td>\n",
       "      <td>0.07</td>\n",
       "      <td>4.300000e+03</td>\n",
       "      <td>981.0</td>\n",
       "    </tr>\n",
       "    <tr>\n",
       "      <th>1</th>\n",
       "      <td>883000.0</td>\n",
       "      <td>16.0</td>\n",
       "      <td>0.14</td>\n",
       "      <td>0.000000e+00</td>\n",
       "      <td>60819.0</td>\n",
       "    </tr>\n",
       "    <tr>\n",
       "      <th>2</th>\n",
       "      <td>100000.0</td>\n",
       "      <td>12.0</td>\n",
       "      <td>0.10</td>\n",
       "      <td>0.000000e+00</td>\n",
       "      <td>8792.0</td>\n",
       "    </tr>\n",
       "    <tr>\n",
       "      <th>3</th>\n",
       "      <td>728400.0</td>\n",
       "      <td>120.0</td>\n",
       "      <td>0.12</td>\n",
       "      <td>1.000000e+05</td>\n",
       "      <td>9016.0</td>\n",
       "    </tr>\n",
       "    <tr>\n",
       "      <th>4</th>\n",
       "      <td>3637400.0</td>\n",
       "      <td>240.0</td>\n",
       "      <td>0.06</td>\n",
       "      <td>0.000000e+00</td>\n",
       "      <td>26060.0</td>\n",
       "    </tr>\n",
       "    <tr>\n",
       "      <th>5</th>\n",
       "      <td>82900.0</td>\n",
       "      <td>90.0</td>\n",
       "      <td>0.07</td>\n",
       "      <td>8.900000e+03</td>\n",
       "      <td>1060.0</td>\n",
       "    </tr>\n",
       "    <tr>\n",
       "      <th>6</th>\n",
       "      <td>316000.0</td>\n",
       "      <td>16.0</td>\n",
       "      <td>0.13</td>\n",
       "      <td>0.000000e+00</td>\n",
       "      <td>21618.0</td>\n",
       "    </tr>\n",
       "    <tr>\n",
       "      <th>7</th>\n",
       "      <td>15230.0</td>\n",
       "      <td>48.0</td>\n",
       "      <td>0.08</td>\n",
       "      <td>4.300000e+03</td>\n",
       "      <td>267.0</td>\n",
       "    </tr>\n",
       "    <tr>\n",
       "      <th>8</th>\n",
       "      <td>991360.0</td>\n",
       "      <td>99.0</td>\n",
       "      <td>0.08</td>\n",
       "      <td>0.000000e+00</td>\n",
       "      <td>13712.0</td>\n",
       "    </tr>\n",
       "    <tr>\n",
       "      <th>9</th>\n",
       "      <td>323000.0</td>\n",
       "      <td>27.0</td>\n",
       "      <td>0.09</td>\n",
       "      <td>4.720010e+09</td>\n",
       "      <td>36.0</td>\n",
       "    </tr>\n",
       "    <tr>\n",
       "      <th>10</th>\n",
       "      <td>528400.0</td>\n",
       "      <td>120.0</td>\n",
       "      <td>0.11</td>\n",
       "      <td>1.000000e+05</td>\n",
       "      <td>5902.0</td>\n",
       "    </tr>\n",
       "    <tr>\n",
       "      <th>11</th>\n",
       "      <td>8633400.0</td>\n",
       "      <td>240.0</td>\n",
       "      <td>0.06</td>\n",
       "      <td>0.000000e+00</td>\n",
       "      <td>61853.0</td>\n",
       "    </tr>\n",
       "    <tr>\n",
       "      <th>12</th>\n",
       "      <td>12900.0</td>\n",
       "      <td>90.0</td>\n",
       "      <td>0.08</td>\n",
       "      <td>8.900000e+03</td>\n",
       "      <td>60.0</td>\n",
       "    </tr>\n",
       "  </tbody>\n",
       "</table>\n",
       "</div>"
      ],
      "text/plain": [
       "       amount  duration  rate  down_payment      emi\n",
       "0     45230.0      48.0  0.07  4.300000e+03    981.0\n",
       "1    883000.0      16.0  0.14  0.000000e+00  60819.0\n",
       "2    100000.0      12.0  0.10  0.000000e+00   8792.0\n",
       "3    728400.0     120.0  0.12  1.000000e+05   9016.0\n",
       "4   3637400.0     240.0  0.06  0.000000e+00  26060.0\n",
       "5     82900.0      90.0  0.07  8.900000e+03   1060.0\n",
       "6    316000.0      16.0  0.13  0.000000e+00  21618.0\n",
       "7     15230.0      48.0  0.08  4.300000e+03    267.0\n",
       "8    991360.0      99.0  0.08  0.000000e+00  13712.0\n",
       "9    323000.0      27.0  0.09  4.720010e+09     36.0\n",
       "10   528400.0     120.0  0.11  1.000000e+05   5902.0\n",
       "11  8633400.0     240.0  0.06  0.000000e+00  61853.0\n",
       "12    12900.0      90.0  0.08  8.900000e+03     60.0"
      ]
     },
     "execution_count": 503,
     "metadata": {},
     "output_type": "execute_result"
    }
   ],
   "source": [
    "pd.read_csv('./data2/emis3.csv')"
   ]
  },
  {
   "cell_type": "code",
   "execution_count": 506,
   "id": "2df0629d",
   "metadata": {},
   "outputs": [
    {
     "name": "stderr",
     "output_type": "stream",
     "text": [
      "'head' is not recognized as an internal or external command,\n",
      "operable program or batch file.\n"
     ]
    }
   ],
   "source": [
    "\n",
    "df2= pd.DataFrame(loans)\n",
    "!head movies2.csv\n",
    "df2.to_csv('./data2/emis4.csv')"
   ]
  },
  {
   "cell_type": "code",
   "execution_count": 507,
   "id": "000d2230",
   "metadata": {},
   "outputs": [
    {
     "data": {
      "text/html": [
       "<div>\n",
       "<style scoped>\n",
       "    .dataframe tbody tr th:only-of-type {\n",
       "        vertical-align: middle;\n",
       "    }\n",
       "\n",
       "    .dataframe tbody tr th {\n",
       "        vertical-align: top;\n",
       "    }\n",
       "\n",
       "    .dataframe thead th {\n",
       "        text-align: right;\n",
       "    }\n",
       "</style>\n",
       "<table border=\"1\" class=\"dataframe\">\n",
       "  <thead>\n",
       "    <tr style=\"text-align: right;\">\n",
       "      <th></th>\n",
       "      <th>Unnamed: 0</th>\n",
       "      <th>amount</th>\n",
       "      <th>duration</th>\n",
       "      <th>rate</th>\n",
       "      <th>down_payment</th>\n",
       "      <th>emi</th>\n",
       "    </tr>\n",
       "  </thead>\n",
       "  <tbody>\n",
       "    <tr>\n",
       "      <th>0</th>\n",
       "      <td>0</td>\n",
       "      <td>45230.0</td>\n",
       "      <td>48.0</td>\n",
       "      <td>0.07</td>\n",
       "      <td>4.300000e+03</td>\n",
       "      <td>981.0</td>\n",
       "    </tr>\n",
       "    <tr>\n",
       "      <th>1</th>\n",
       "      <td>1</td>\n",
       "      <td>883000.0</td>\n",
       "      <td>16.0</td>\n",
       "      <td>0.14</td>\n",
       "      <td>0.000000e+00</td>\n",
       "      <td>60819.0</td>\n",
       "    </tr>\n",
       "    <tr>\n",
       "      <th>2</th>\n",
       "      <td>2</td>\n",
       "      <td>100000.0</td>\n",
       "      <td>12.0</td>\n",
       "      <td>0.10</td>\n",
       "      <td>0.000000e+00</td>\n",
       "      <td>8792.0</td>\n",
       "    </tr>\n",
       "    <tr>\n",
       "      <th>3</th>\n",
       "      <td>3</td>\n",
       "      <td>728400.0</td>\n",
       "      <td>120.0</td>\n",
       "      <td>0.12</td>\n",
       "      <td>1.000000e+05</td>\n",
       "      <td>9016.0</td>\n",
       "    </tr>\n",
       "    <tr>\n",
       "      <th>4</th>\n",
       "      <td>4</td>\n",
       "      <td>3637400.0</td>\n",
       "      <td>240.0</td>\n",
       "      <td>0.06</td>\n",
       "      <td>0.000000e+00</td>\n",
       "      <td>26060.0</td>\n",
       "    </tr>\n",
       "    <tr>\n",
       "      <th>5</th>\n",
       "      <td>5</td>\n",
       "      <td>82900.0</td>\n",
       "      <td>90.0</td>\n",
       "      <td>0.07</td>\n",
       "      <td>8.900000e+03</td>\n",
       "      <td>1060.0</td>\n",
       "    </tr>\n",
       "    <tr>\n",
       "      <th>6</th>\n",
       "      <td>6</td>\n",
       "      <td>316000.0</td>\n",
       "      <td>16.0</td>\n",
       "      <td>0.13</td>\n",
       "      <td>0.000000e+00</td>\n",
       "      <td>21618.0</td>\n",
       "    </tr>\n",
       "    <tr>\n",
       "      <th>7</th>\n",
       "      <td>7</td>\n",
       "      <td>15230.0</td>\n",
       "      <td>48.0</td>\n",
       "      <td>0.08</td>\n",
       "      <td>4.300000e+03</td>\n",
       "      <td>267.0</td>\n",
       "    </tr>\n",
       "    <tr>\n",
       "      <th>8</th>\n",
       "      <td>8</td>\n",
       "      <td>991360.0</td>\n",
       "      <td>99.0</td>\n",
       "      <td>0.08</td>\n",
       "      <td>0.000000e+00</td>\n",
       "      <td>13712.0</td>\n",
       "    </tr>\n",
       "    <tr>\n",
       "      <th>9</th>\n",
       "      <td>9</td>\n",
       "      <td>323000.0</td>\n",
       "      <td>27.0</td>\n",
       "      <td>0.09</td>\n",
       "      <td>4.720010e+09</td>\n",
       "      <td>36.0</td>\n",
       "    </tr>\n",
       "    <tr>\n",
       "      <th>10</th>\n",
       "      <td>10</td>\n",
       "      <td>528400.0</td>\n",
       "      <td>120.0</td>\n",
       "      <td>0.11</td>\n",
       "      <td>1.000000e+05</td>\n",
       "      <td>5902.0</td>\n",
       "    </tr>\n",
       "    <tr>\n",
       "      <th>11</th>\n",
       "      <td>11</td>\n",
       "      <td>8633400.0</td>\n",
       "      <td>240.0</td>\n",
       "      <td>0.06</td>\n",
       "      <td>0.000000e+00</td>\n",
       "      <td>61853.0</td>\n",
       "    </tr>\n",
       "    <tr>\n",
       "      <th>12</th>\n",
       "      <td>12</td>\n",
       "      <td>12900.0</td>\n",
       "      <td>90.0</td>\n",
       "      <td>0.08</td>\n",
       "      <td>8.900000e+03</td>\n",
       "      <td>60.0</td>\n",
       "    </tr>\n",
       "  </tbody>\n",
       "</table>\n",
       "</div>"
      ],
      "text/plain": [
       "    Unnamed: 0     amount  duration  rate  down_payment      emi\n",
       "0            0    45230.0      48.0  0.07  4.300000e+03    981.0\n",
       "1            1   883000.0      16.0  0.14  0.000000e+00  60819.0\n",
       "2            2   100000.0      12.0  0.10  0.000000e+00   8792.0\n",
       "3            3   728400.0     120.0  0.12  1.000000e+05   9016.0\n",
       "4            4  3637400.0     240.0  0.06  0.000000e+00  26060.0\n",
       "5            5    82900.0      90.0  0.07  8.900000e+03   1060.0\n",
       "6            6   316000.0      16.0  0.13  0.000000e+00  21618.0\n",
       "7            7    15230.0      48.0  0.08  4.300000e+03    267.0\n",
       "8            8   991360.0      99.0  0.08  0.000000e+00  13712.0\n",
       "9            9   323000.0      27.0  0.09  4.720010e+09     36.0\n",
       "10          10   528400.0     120.0  0.11  1.000000e+05   5902.0\n",
       "11          11  8633400.0     240.0  0.06  0.000000e+00  61853.0\n",
       "12          12    12900.0      90.0  0.08  8.900000e+03     60.0"
      ]
     },
     "execution_count": 507,
     "metadata": {},
     "output_type": "execute_result"
    }
   ],
   "source": [
    "pd.read_csv('./data2/emis4.csv')"
   ]
  },
  {
   "cell_type": "code",
   "execution_count": null,
   "id": "55f59baf",
   "metadata": {},
   "outputs": [],
   "source": []
  },
  {
   "cell_type": "code",
   "execution_count": null,
   "id": "00902588",
   "metadata": {},
   "outputs": [],
   "source": []
  }
 ],
 "metadata": {
  "kernelspec": {
   "display_name": "Python 3",
   "language": "python",
   "name": "python3"
  },
  "language_info": {
   "codemirror_mode": {
    "name": "ipython",
    "version": 3
   },
   "file_extension": ".py",
   "mimetype": "text/x-python",
   "name": "python",
   "nbconvert_exporter": "python",
   "pygments_lexer": "ipython3",
   "version": "3.8.8"
  }
 },
 "nbformat": 4,
 "nbformat_minor": 5
}
