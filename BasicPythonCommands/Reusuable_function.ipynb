{
 "cells": [
  {
   "cell_type": "markdown",
   "id": "bc52dd23",
   "metadata": {},
   "source": [
    "# Writing Reusable Code using Functions in Python"
   ]
  },
  {
   "cell_type": "code",
   "execution_count": 1,
   "id": "9e88069a",
   "metadata": {},
   "outputs": [],
   "source": [
    "def saytoday() :\n",
    "    print(\"Today is good\")"
   ]
  },
  {
   "cell_type": "code",
   "execution_count": 2,
   "id": "5dfbf363",
   "metadata": {},
   "outputs": [
    {
     "name": "stdout",
     "output_type": "stream",
     "text": [
      "Today is good\n"
     ]
    }
   ],
   "source": [
    "saytoday()"
   ]
  },
  {
   "cell_type": "code",
   "execution_count": 8,
   "id": "68c09bec",
   "metadata": {},
   "outputs": [],
   "source": [
    "def filter_even() :\n",
    "    result_list=[]\n",
    "    for i in range(100) :\n",
    "        if i%2 == 1 :\n",
    "            result_list.append(i)\n",
    "    return result_list\n"
   ]
  },
  {
   "cell_type": "code",
   "execution_count": 9,
   "id": "e70b6cc0",
   "metadata": {},
   "outputs": [
    {
     "name": "stdout",
     "output_type": "stream",
     "text": [
      "[1, 3, 5, 7, 9, 11, 13, 15, 17, 19, 21, 23, 25, 27, 29, 31, 33, 35, 37, 39, 41, 43, 45, 47, 49, 51, 53, 55, 57, 59, 61, 63, 65, 67, 69, 71, 73, 75, 77, 79, 81, 83, 85, 87, 89, 91, 93, 95, 97, 99]\n"
     ]
    }
   ],
   "source": [
    "print(filter_even())"
   ]
  },
  {
   "cell_type": "markdown",
   "id": "92934b7b",
   "metadata": {},
   "source": [
    "#### Local variables and scope"
   ]
  },
  {
   "cell_type": "code",
   "execution_count": 11,
   "id": "49efc451",
   "metadata": {},
   "outputs": [],
   "source": [
    "def emi_calculator(amount, duration\n",
    "                  ) :\n",
    "    emi=amount/duration\n",
    "    print(\"The emi for {} month is {}\" .format(duration,emi))"
   ]
  },
  {
   "cell_type": "code",
   "execution_count": 12,
   "id": "1b94ee17",
   "metadata": {},
   "outputs": [
    {
     "name": "stdout",
     "output_type": "stream",
     "text": [
      "The emi for 12 month is 750000.0\n"
     ]
    }
   ],
   "source": [
    "emi_calculator(9000000,12)"
   ]
  },
  {
   "cell_type": "code",
   "execution_count": 13,
   "id": "6922a5cb",
   "metadata": {},
   "outputs": [
    {
     "ename": "NameError",
     "evalue": "name 'emi' is not defined",
     "output_type": "error",
     "traceback": [
      "\u001b[1;31m---------------------------------------------------------------------------\u001b[0m",
      "\u001b[1;31mNameError\u001b[0m                                 Traceback (most recent call last)",
      "\u001b[1;32m<ipython-input-13-e5795bfcf3c1>\u001b[0m in \u001b[0;36m<module>\u001b[1;34m\u001b[0m\n\u001b[1;32m----> 1\u001b[1;33m \u001b[0memi\u001b[0m\u001b[1;33m\u001b[0m\u001b[1;33m\u001b[0m\u001b[0m\n\u001b[0m",
      "\u001b[1;31mNameError\u001b[0m: name 'emi' is not defined"
     ]
    }
   ],
   "source": [
    "emi"
   ]
  },
  {
   "attachments": {
    "image.png": {
     "image/png": "[encoded data removed]"
    }
   },
   "cell_type": "markdown",
   "id": "788f309b",
   "metadata": {},
   "source": [
    "![image.png](attachment:image.png)"
   ]
  },
  {
   "cell_type": "markdown",
   "id": "3500ba80",
   "metadata": {},
   "source": [
    "Here , **emi** is local to function . so outside the function . it is not accessable"
   ]
  },
  {
   "cell_type": "markdown",
   "id": "80e8a4f9",
   "metadata": {},
   "source": [
    "#### optional argument"
   ]
  },
  {
   "cell_type": "code",
   "execution_count": 19,
   "id": "fea0d275",
   "metadata": {},
   "outputs": [],
   "source": [
    "# down_payment is optional\n",
    "def emi_calculator(amount, duration, down_payment=0 ) :\n",
    "    loan_amount=amount-down_payment\n",
    "    emi=loan_amount/duration\n",
    "    print(\"The emi for {} month is {}\" .format(duration,emi))"
   ]
  },
  {
   "cell_type": "code",
   "execution_count": 20,
   "id": "cae55e19",
   "metadata": {},
   "outputs": [
    {
     "name": "stdout",
     "output_type": "stream",
     "text": [
      "The emi for 12 month is 250000.0\n"
     ]
    }
   ],
   "source": [
    "emi_calculator(3000000, 12 ) "
   ]
  },
  {
   "cell_type": "code",
   "execution_count": 21,
   "id": "73b08f27",
   "metadata": {},
   "outputs": [
    {
     "name": "stdout",
     "output_type": "stream",
     "text": [
      "The emi for 12 month is 245833.33333333334\n"
     ]
    }
   ],
   "source": [
    "emi_calculator(3000000, 12, 50000 ) "
   ]
  },
  {
   "cell_type": "code",
   "execution_count": 1,
   "id": "7e3bd796",
   "metadata": {},
   "outputs": [],
   "source": [
    "# working with in built module and libriray\n",
    "import math"
   ]
  },
  {
   "cell_type": "code",
   "execution_count": 2,
   "id": "4f7ac8aa",
   "metadata": {},
   "outputs": [
    {
     "data": {
      "text/plain": [
       "3"
      ]
     },
     "execution_count": 2,
     "metadata": {},
     "output_type": "execute_result"
    }
   ],
   "source": [
    "math.ceil(2.3456)"
   ]
  },
  {
   "cell_type": "code",
   "execution_count": 3,
   "id": "28c7b91b",
   "metadata": {},
   "outputs": [
    {
     "data": {
      "text/plain": [
       "1.4142135623730951"
      ]
     },
     "execution_count": 3,
     "metadata": {},
     "output_type": "execute_result"
    }
   ],
   "source": [
    "math.sqrt(2)"
   ]
  },
  {
   "cell_type": "code",
   "execution_count": 4,
   "id": "643e6149",
   "metadata": {},
   "outputs": [
    {
     "data": {
      "text/plain": [
       "1"
      ]
     },
     "execution_count": 4,
     "metadata": {},
     "output_type": "execute_result"
    }
   ],
   "source": [
    "math.isqrt(3)"
   ]
  },
  {
   "cell_type": "code",
   "execution_count": 5,
   "id": "3bb8dd72",
   "metadata": {},
   "outputs": [
    {
     "data": {
      "text/plain": [
       "1"
      ]
     },
     "execution_count": 5,
     "metadata": {},
     "output_type": "execute_result"
    }
   ],
   "source": [
    "math.isqrt(1)"
   ]
  },
  {
   "cell_type": "code",
   "execution_count": 6,
   "id": "a648f9bc",
   "metadata": {},
   "outputs": [
    {
     "data": {
      "text/plain": [
       "3"
      ]
     },
     "execution_count": 6,
     "metadata": {},
     "output_type": "execute_result"
    }
   ],
   "source": [
    "math.isqrt(9)"
   ]
  },
  {
   "cell_type": "code",
   "execution_count": 7,
   "id": "3d2c4f42",
   "metadata": {},
   "outputs": [
    {
     "ename": "TypeError",
     "evalue": "comb expected 2 arguments, got 1",
     "output_type": "error",
     "traceback": [
      "\u001b[1;31m---------------------------------------------------------------------------\u001b[0m",
      "\u001b[1;31mTypeError\u001b[0m                                 Traceback (most recent call last)",
      "\u001b[1;32m<ipython-input-7-fc7ace12362b>\u001b[0m in \u001b[0;36m<module>\u001b[1;34m\u001b[0m\n\u001b[1;32m----> 1\u001b[1;33m \u001b[0mmath\u001b[0m\u001b[1;33m.\u001b[0m\u001b[0mcomb\u001b[0m\u001b[1;33m(\u001b[0m\u001b[1;36m89\u001b[0m\u001b[1;33m)\u001b[0m\u001b[1;33m\u001b[0m\u001b[1;33m\u001b[0m\u001b[0m\n\u001b[0m",
      "\u001b[1;31mTypeError\u001b[0m: comb expected 2 arguments, got 1"
     ]
    }
   ],
   "source": [
    "math.comb(89)"
   ]
  },
  {
   "cell_type": "code",
   "execution_count": 1,
   "id": "bdbd9137",
   "metadata": {},
   "outputs": [],
   "source": [
    "# return statement\n",
    "def emi_calculator(amount, duration, down_payment=0 ) :\n",
    "    loan_amount=amount-down_payment\n",
    "    emi=loan_amount/duration\n",
    "    return emi"
   ]
  },
  {
   "cell_type": "code",
   "execution_count": 4,
   "id": "fd51a644",
   "metadata": {},
   "outputs": [
    {
     "name": "stdout",
     "output_type": "stream",
     "text": [
      "The emi for 245833.33333333334 \n"
     ]
    }
   ],
   "source": [
    "emi1=emi_calculator(3000000, 12, 50000 ) \n",
    "\n",
    "print(\"The emi for {} \" .format(emi1))"
   ]
  },
  {
   "cell_type": "code",
   "execution_count": 7,
   "id": "7b3ef238",
   "metadata": {},
   "outputs": [
    {
     "data": {
      "text/plain": [
       "1267"
      ]
     },
     "execution_count": 7,
     "metadata": {},
     "output_type": "execute_result"
    }
   ],
   "source": [
    "import math\n",
    "def loan_emi(amount, duration, rate, down_payment=0):\n",
    "    loan_amount = amount - down_payment\n",
    "    emi = loan_amount * rate * ((1+rate)**duration) / (((1+rate)**duration)-1)\n",
    "    emi = math.ceil(emi)\n",
    "    return emi\n",
    "emi_with_interest = loan_emi(amount=100000, duration=10*12, rate=0.09/12)\n",
    "emi_with_interest"
   ]
  },
  {
   "cell_type": "code",
   "execution_count": 8,
   "id": "e43b42c5",
   "metadata": {},
   "outputs": [
    {
     "ename": "ZeroDivisionError",
     "evalue": "float division by zero",
     "output_type": "error",
     "traceback": [
      "\u001b[1;31m---------------------------------------------------------------------------\u001b[0m",
      "\u001b[1;31mZeroDivisionError\u001b[0m                         Traceback (most recent call last)",
      "\u001b[1;32m<ipython-input-8-bd4f817a8642>\u001b[0m in \u001b[0;36m<module>\u001b[1;34m\u001b[0m\n\u001b[1;32m----> 1\u001b[1;33m \u001b[0memi_with_interest\u001b[0m \u001b[1;33m=\u001b[0m \u001b[0mloan_emi\u001b[0m\u001b[1;33m(\u001b[0m\u001b[0mamount\u001b[0m\u001b[1;33m=\u001b[0m\u001b[1;36m100000\u001b[0m\u001b[1;33m,\u001b[0m \u001b[0mduration\u001b[0m\u001b[1;33m=\u001b[0m\u001b[1;36m10\u001b[0m\u001b[1;33m*\u001b[0m\u001b[1;36m12\u001b[0m\u001b[1;33m,\u001b[0m \u001b[0mrate\u001b[0m\u001b[1;33m=\u001b[0m\u001b[1;36m0.0\u001b[0m\u001b[1;33m/\u001b[0m\u001b[1;36m12\u001b[0m\u001b[1;33m)\u001b[0m\u001b[1;33m\u001b[0m\u001b[1;33m\u001b[0m\u001b[0m\n\u001b[0m\u001b[0;32m      2\u001b[0m \u001b[0memi_with_interest\u001b[0m\u001b[1;33m\u001b[0m\u001b[1;33m\u001b[0m\u001b[0m\n",
      "\u001b[1;32m<ipython-input-7-68c922f8adb6>\u001b[0m in \u001b[0;36mloan_emi\u001b[1;34m(amount, duration, rate, down_payment)\u001b[0m\n\u001b[0;32m      2\u001b[0m \u001b[1;32mdef\u001b[0m \u001b[0mloan_emi\u001b[0m\u001b[1;33m(\u001b[0m\u001b[0mamount\u001b[0m\u001b[1;33m,\u001b[0m \u001b[0mduration\u001b[0m\u001b[1;33m,\u001b[0m \u001b[0mrate\u001b[0m\u001b[1;33m,\u001b[0m \u001b[0mdown_payment\u001b[0m\u001b[1;33m=\u001b[0m\u001b[1;36m0\u001b[0m\u001b[1;33m)\u001b[0m\u001b[1;33m:\u001b[0m\u001b[1;33m\u001b[0m\u001b[1;33m\u001b[0m\u001b[0m\n\u001b[0;32m      3\u001b[0m     \u001b[0mloan_amount\u001b[0m \u001b[1;33m=\u001b[0m \u001b[0mamount\u001b[0m \u001b[1;33m-\u001b[0m \u001b[0mdown_payment\u001b[0m\u001b[1;33m\u001b[0m\u001b[1;33m\u001b[0m\u001b[0m\n\u001b[1;32m----> 4\u001b[1;33m     \u001b[0memi\u001b[0m \u001b[1;33m=\u001b[0m \u001b[0mloan_amount\u001b[0m \u001b[1;33m*\u001b[0m \u001b[0mrate\u001b[0m \u001b[1;33m*\u001b[0m \u001b[1;33m(\u001b[0m\u001b[1;33m(\u001b[0m\u001b[1;36m1\u001b[0m\u001b[1;33m+\u001b[0m\u001b[0mrate\u001b[0m\u001b[1;33m)\u001b[0m\u001b[1;33m**\u001b[0m\u001b[0mduration\u001b[0m\u001b[1;33m)\u001b[0m \u001b[1;33m/\u001b[0m \u001b[1;33m(\u001b[0m\u001b[1;33m(\u001b[0m\u001b[1;33m(\u001b[0m\u001b[1;36m1\u001b[0m\u001b[1;33m+\u001b[0m\u001b[0mrate\u001b[0m\u001b[1;33m)\u001b[0m\u001b[1;33m**\u001b[0m\u001b[0mduration\u001b[0m\u001b[1;33m)\u001b[0m\u001b[1;33m-\u001b[0m\u001b[1;36m1\u001b[0m\u001b[1;33m)\u001b[0m\u001b[1;33m\u001b[0m\u001b[1;33m\u001b[0m\u001b[0m\n\u001b[0m\u001b[0;32m      5\u001b[0m     \u001b[0memi\u001b[0m \u001b[1;33m=\u001b[0m \u001b[0mmath\u001b[0m\u001b[1;33m.\u001b[0m\u001b[0mceil\u001b[0m\u001b[1;33m(\u001b[0m\u001b[0memi\u001b[0m\u001b[1;33m)\u001b[0m\u001b[1;33m\u001b[0m\u001b[1;33m\u001b[0m\u001b[0m\n\u001b[0;32m      6\u001b[0m     \u001b[1;32mreturn\u001b[0m \u001b[0memi\u001b[0m\u001b[1;33m\u001b[0m\u001b[1;33m\u001b[0m\u001b[0m\n",
      "\u001b[1;31mZeroDivisionError\u001b[0m: float division by zero"
     ]
    }
   ],
   "source": [
    "# Exception\n",
    "emi_with_interest = loan_emi(amount=100000, duration=10*12, rate=0.0/12)\n",
    "emi_with_interest"
   ]
  },
  {
   "cell_type": "code",
   "execution_count": 17,
   "id": "78d9ed11",
   "metadata": {},
   "outputs": [],
   "source": [
    "\n",
    "import math\n",
    "def loan_emi(amount, duration, rate, down_payment=0):\n",
    "    \"\"\"Calculates the equal montly installment (EMI) for a loan.\n",
    "    \n",
    "    Arguments:\n",
    "        amount - Total amount to be spent (loan + down payment)\n",
    "        duration - Duration of the loan (in months)\n",
    "        rate - Rate of interest (monthly)\n",
    "        down_payment (optional) - Optional intial payment (deducted from amount)\n",
    "    \"\"\"\n",
    "    loan_amount = amount - down_payment\n",
    "    try:\n",
    "        emi = loan_amount * rate * ((1+rate)**duration) / (((1+rate)**duration)-1)\n",
    "    except ZeroDivisionError:\n",
    "        emi= loan_amount/duration\n",
    "    emi = math.ceil(emi)\n",
    "    return emi\n"
   ]
  },
  {
   "cell_type": "code",
   "execution_count": 16,
   "id": "328263e8",
   "metadata": {},
   "outputs": [
    {
     "data": {
      "text/plain": [
       "834"
      ]
     },
     "execution_count": 16,
     "metadata": {},
     "output_type": "execute_result"
    }
   ],
   "source": [
    "\n",
    "    emi_with_interest= loan_emi(amount=100000, duration=10*12, rate=0.0/12)\n",
    "    emi_with_interest\n"
   ]
  },
  {
   "cell_type": "code",
   "execution_count": 18,
   "id": "86d72522",
   "metadata": {},
   "outputs": [
    {
     "name": "stdout",
     "output_type": "stream",
     "text": [
      "Help on function loan_emi in module __main__:\n",
      "\n",
      "loan_emi(amount, duration, rate, down_payment=0)\n",
      "    Calculates the equal montly installment (EMI) for a loan.\n",
      "    \n",
      "    Arguments:\n",
      "        amount - Total amount to be spent (loan + down payment)\n",
      "        duration - Duration of the loan (in months)\n",
      "        rate - Rate of interest (monthly)\n",
      "        down_payment (optional) - Optional intial payment (deducted from amount)\n",
      "\n"
     ]
    }
   ],
   "source": [
    "help(loan_emi)"
   ]
  },
  {
   "cell_type": "markdown",
   "id": "4cb0fdcf",
   "metadata": {},
   "source": [
    "## Exercise - Data Analysis for Vacation Planning\n",
    "\n",
    "You're planning a vacation, and you need to decide which city you want to visit. You have shortlisted four cities and identified the return flight cost, daily hotel cost, and weekly car rental cost. While renting a car, you need to pay for entire weeks, even if you return the car sooner.\n",
    "\n",
    "\n",
    "| City | Return Flight (`$`) | Hotel per day (`$`) | Weekly Car Rental  (`$`) | \n",
    "|------|--------------------------|------------------|------------------------|\n",
    "| Paris|       200                |       20         |          200           |\n",
    "| London|      250                |       30         |          120           |\n",
    "| Dubai|       370                |       15         |          80           |\n",
    "| Mumbai|      450                |       10         |          70           |         \n",
    "\n",
    "\n",
    "Answer the following questions using the data above:\n",
    "\n",
    "1. If you're planning a 1-week long trip, which city should you visit to spend the least amount of money?\n",
    "2. How does the answer to the previous question change if you change the trip's duration to four days, ten days or two weeks?\n",
    "3. If your total budget for the trip is `$1000`, which city should you visit to maximize the duration of your trip? Which city should you visit if you want to minimize the duration?\n",
    "4. How does the answer to the previous question change if your budget is `$600`, `$2000`, or `$1500`?\n",
    "\n",
    "*Hint: To answer these questions, it will help to define a function `cost_of_trip` with relevant inputs like flight cost, hotel rate, car rental rate, and duration of the trip. You may find the `math.ceil` function useful for calculating the total cost of car rental.*"
   ]
  },
  {
   "cell_type": "code",
   "execution_count": 53,
   "id": "78e21eac",
   "metadata": {},
   "outputs": [
    {
     "name": "stdout",
     "output_type": "stream",
     "text": [
      "Enter the number of days for trip : 10\n"
     ]
    }
   ],
   "source": [
    "paris_hotel_cost=20\n",
    "lodon_hotel_cost=30\n",
    "dubai_hotel_cost=15\n",
    "mumbai_hotel_cost=10\n",
    "\n",
    "paris_flight_cost=200\n",
    "lodon_flight_cost=250\n",
    "dubai_flight_cost=370\n",
    "mumbai_flight_cost=450\n",
    "\n",
    "paris_car_cost=200\n",
    "lodon_car_cost=120\n",
    "dubai_car_cost=80\n",
    "mumbai_car_cost=70\n",
    "\n",
    "number_of_days=0\n",
    "\n",
    "def trip_cost_by_flight(hotel,flight, number_of_days,car_rent) :\n",
    "    no_of_week=1+(number_of_days//7)\n",
    "    cost_of_hotel=hotel*number_of_days\n",
    "    cost_of_trip=flight+(car_rent*no_of_week)+cost_of_hotel\n",
    "    return cost_of_trip\n",
    "\n",
    "     \n",
    "     \n",
    "number_of_days=int(input(\"Enter the number of days for trip : \" )    )\n",
    "trip_to_paris_by_flight=trip_cost_by_flight(paris_hotel_cost,paris_flight_cost, number_of_days,paris_car_cost)\n",
    "trip_to_lodon_flight=trip_cost_by_flight(lodon_hotel_cost,lodon_flight_cost,number_of_days,lodon_car_cost)\n",
    "trip_to_dubai_flight=trip_cost_by_flight(dubai_hotel_cost,dubai_flight_cost,number_of_days,dubai_car_cost)\n",
    "trip_to_mumbai_flight=trip_cost_by_flight(mumbai_hotel_cost,mumbai_flight_cost,number_of_days,mumbai_car_cost)\n",
    "\n",
    "\n",
    "\n",
    "\n"
   ]
  },
  {
   "cell_type": "code",
   "execution_count": 54,
   "id": "3326aaac",
   "metadata": {},
   "outputs": [
    {
     "data": {
      "text/plain": [
       "[800, 790, 680, 690]"
      ]
     },
     "execution_count": 54,
     "metadata": {},
     "output_type": "execute_result"
    }
   ],
   "source": [
    "# 1st and 2nd question\n",
    "cost_of_the_trip=[trip_to_paris_by_flight,trip_to_lodon_flight,trip_to_dubai_flight,trip_to_mumbai_flight]\n",
    "city=['paris','london','dubai','mumbai']\n",
    "cost_of_the_trip\n",
    "\n"
   ]
  },
  {
   "cell_type": "code",
   "execution_count": 55,
   "id": "f7c6d75b",
   "metadata": {},
   "outputs": [
    {
     "name": "stdout",
     "output_type": "stream",
     "text": [
      "Least expense cost of trip is 680 and city is dubai\n"
     ]
    }
   ],
   "source": [
    "least_cost= min(cost_of_the_trip)\n",
    "index=cost_of_the_trip.index(min(cost_of_the_trip))\n",
    "print(\"Least expense cost of trip is {} and city is {}\".format(min(cost_of_the_trip),city[index]))"
   ]
  },
  {
   "cell_type": "code",
   "execution_count": 70,
   "id": "6149467b",
   "metadata": {},
   "outputs": [],
   "source": [
    "# 3rd and 4th question\n",
    "def cost_of_trip_atleast_budget(budget) :\n",
    "    min_budget=0\n",
    "    number_of_days=0\n",
    "    while min_budget<=budget :  \n",
    "        number_of_days = number_of_days+1\n",
    "        trip_to_paris_by_flight=trip_cost_by_flight(paris_hotel_cost,paris_flight_cost, number_of_days,paris_car_cost)\n",
    "        trip_to_lodon_flight=trip_cost_by_flight(lodon_hotel_cost,lodon_flight_cost,number_of_days,lodon_car_cost)\n",
    "        trip_to_dubai_flight=trip_cost_by_flight(dubai_hotel_cost,dubai_flight_cost,number_of_days,dubai_car_cost)\n",
    "        trip_to_mumbai_flight=trip_cost_by_flight(mumbai_hotel_cost,mumbai_flight_cost,number_of_days,mumbai_car_cost)\n",
    "        cost_of_the_trip=[trip_to_paris_by_flight,trip_to_lodon_flight,trip_to_dubai_flight,trip_to_mumbai_flight]\n",
    "        city=['paris','london','dubai','mumbai']\n",
    "        least_cost= min(cost_of_the_trip)\n",
    "        index=cost_of_the_trip.index(min(cost_of_the_trip))\n",
    "        min_budget==budget\n",
    "        if least_cost==budget :\n",
    "            print(\"The trip to {} for {} days in the budget of {}\".format(city[index],number_of_days,budget))"
   ]
  },
  {
   "cell_type": "code",
   "execution_count": null,
   "id": "ad24f733",
   "metadata": {},
   "outputs": [
    {
     "name": "stdout",
     "output_type": "stream",
     "text": [
      "enter the budget is : 1000\n",
      "The trip to mumbai for 27 days in the budget of 1000\n"
     ]
    }
   ],
   "source": [
    "budget=int(input(\"enter the budget is : \"))\n",
    "cost_of_trip_atleast_budget(budget)"
   ]
  },
  {
   "cell_type": "code",
   "execution_count": null,
   "id": "7da82100",
   "metadata": {},
   "outputs": [],
   "source": []
  }
 ],
 "metadata": {
  "kernelspec": {
   "display_name": "Python 3",
   "language": "python",
   "name": "python3"
  },
  "language_info": {
   "codemirror_mode": {
    "name": "ipython",
    "version": 3
   },
   "file_extension": ".py",
   "mimetype": "text/x-python",
   "name": "python",
   "nbconvert_exporter": "python",
   "pygments_lexer": "ipython3",
   "version": "3.8.8"
  }
 },
 "nbformat": 4,
 "nbformat_minor": 5
}
