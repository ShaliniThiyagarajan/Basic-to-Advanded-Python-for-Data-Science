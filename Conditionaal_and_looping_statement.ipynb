{
 "cells": [
  {
   "cell_type": "markdown",
   "id": "5fb0d9b9",
   "metadata": {},
   "source": [
    "# Working with conditional and loop Statement"
   ]
  },
  {
   "cell_type": "markdown",
   "id": "5a2d31eb",
   "metadata": {},
   "source": [
    "## conditional statement"
   ]
  },
  {
   "cell_type": "markdown",
   "id": "c38ae8ac",
   "metadata": {},
   "source": [
    "Rob and alice are thinking the given number is even or odd. let us help them"
   ]
  },
  {
   "cell_type": "code",
   "execution_count": 1,
   "id": "48f8339a",
   "metadata": {},
   "outputs": [
    {
     "name": "stdout",
     "output_type": "stream",
     "text": [
      "enter the number the rob and alice confused :34\n"
     ]
    }
   ],
   "source": [
    "## user input\n",
    "a=input(\"enter the number the rob and alice confused :\")"
   ]
  },
  {
   "cell_type": "code",
   "execution_count": 2,
   "id": "01f4fe38",
   "metadata": {},
   "outputs": [
    {
     "name": "stdout",
     "output_type": "stream",
     "text": [
      "34 is even \n"
     ]
    }
   ],
   "source": [
    "if int(a)%2==0 :\n",
    "    print(\"{} is even \".format(a))\n",
    "else :\n",
    "    print(\"{} is odd \".format(a))\n"
   ]
  },
  {
   "cell_type": "code",
   "execution_count": 3,
   "id": "f304c54e",
   "metadata": {},
   "outputs": [
    {
     "name": "stdout",
     "output_type": "stream",
     "text": [
      "D'Artagnan is not a musketeers\n"
     ]
    }
   ],
   "source": [
    "# check the candidate is musketeers\n",
    "\n",
    "the_3_musketeers = ('Athos', 'Porthos', 'Aramis')\n",
    "a_candidate = \"D'Artagnan\"\n",
    "if a_candidate in the_3_musketeers :\n",
    "    print(\"{} is a musketeers\".format(a_candidate))\n",
    "else :\n",
    "     print(\"{} is not a musketeers\".format(a_candidate))"
   ]
  },
  {
   "cell_type": "code",
   "execution_count": 4,
   "id": "f7a9bafc",
   "metadata": {},
   "outputs": [
    {
     "name": "stdout",
     "output_type": "stream",
     "text": [
      "Enter the day between sunday to saturday :sunday\n"
     ]
    }
   ],
   "source": [
    "today=(input(\"Enter the day between sunday to saturday :\")).capitalize()\n"
   ]
  },
  {
   "cell_type": "code",
   "execution_count": 5,
   "id": "7676c955",
   "metadata": {},
   "outputs": [
    {
     "name": "stdout",
     "output_type": "stream",
     "text": [
      "Today is the day of the sun.\n"
     ]
    }
   ],
   "source": [
    "if today == 'Sunday':\n",
    "    print(\"Today is the day of the sun.\")\n",
    "elif today == 'Monday':\n",
    "    print(\"Today is the day of the moon.\")\n",
    "elif today == 'Tuesday':\n",
    "    print(\"Today is the day of Tyr, the god of war.\")\n",
    "elif today == 'Wednesday':\n",
    "    print(\"Today is the day of Odin, the supreme diety.\")\n",
    "elif today == 'Thursday':\n",
    "    print(\"Today is the day of Thor, the god of thunder.\")\n",
    "elif today == 'Friday':\n",
    "    print(\"Today is the day of Frigga, the goddess of beauty.\")\n",
    "elif today == 'Saturday':\n",
    "    print(\"Today is the day of Saturn, the god of fun and feasting.\")"
   ]
  },
  {
   "cell_type": "code",
   "execution_count": 6,
   "id": "d832d68c",
   "metadata": {},
   "outputs": [
    {
     "name": "stdout",
     "output_type": "stream",
     "text": [
      "Enter the Number :56\n"
     ]
    }
   ],
   "source": [
    "a_number=int(input(\"Enter the Number :\"))"
   ]
  },
  {
   "cell_type": "code",
   "execution_count": 7,
   "id": "ffd6c8f3",
   "metadata": {},
   "outputs": [
    {
     "name": "stdout",
     "output_type": "stream",
     "text": [
      "56 is divisible by 2\n",
      "56 is divisible by 7\n"
     ]
    }
   ],
   "source": [
    "if a_number % 2 == 0:\n",
    "    print('{} is divisible by 2'.format(a_number))\n",
    "if a_number % 3 == 0:\n",
    "    print('{} is divisible by 3'.format(a_number))\n",
    "if a_number % 5 == 0:\n",
    "    print('{} is divisible by 5'.format(a_number))\n",
    "if a_number % 7 == 0:\n",
    "    print('{} is divisible by 7'.format(a_number))"
   ]
  },
  {
   "cell_type": "code",
   "execution_count": 8,
   "id": "90d188b6",
   "metadata": {},
   "outputs": [
    {
     "name": "stdout",
     "output_type": "stream",
     "text": [
      "The condition evaluted to True\n"
     ]
    }
   ],
   "source": [
    "if 'Hello':\n",
    "    print('The condition evaluted to True')\n",
    "else:\n",
    "    print('The condition evaluted to False')"
   ]
  },
  {
   "cell_type": "code",
   "execution_count": 9,
   "id": "c9f4eb2e",
   "metadata": {},
   "outputs": [
    {
     "name": "stdout",
     "output_type": "stream",
     "text": [
      "The condition evaluted to False\n"
     ]
    }
   ],
   "source": [
    "if '':\n",
    "    print('The condition evaluted to True')\n",
    "else:\n",
    "    print('The condition evaluted to False')"
   ]
  },
  {
   "cell_type": "code",
   "execution_count": 10,
   "id": "e0924e1c",
   "metadata": {},
   "outputs": [
    {
     "name": "stdout",
     "output_type": "stream",
     "text": [
      "The condition evaluted to True\n"
     ]
    }
   ],
   "source": [
    "if { 'a': 34 }:\n",
    "    print('The condition evaluted to True')\n",
    "else:\n",
    "    print('The condition evaluted to False')\n"
   ]
  },
  {
   "cell_type": "code",
   "execution_count": 11,
   "id": "510cd6ec",
   "metadata": {},
   "outputs": [
    {
     "name": "stdout",
     "output_type": "stream",
     "text": [
      "The condition evaluted to False\n"
     ]
    }
   ],
   "source": [
    "if {  }:\n",
    "    print('The condition evaluted to True')\n",
    "else:\n",
    "    print('The condition evaluted to False')\n"
   ]
  },
  {
   "cell_type": "markdown",
   "id": "b2dd3f90",
   "metadata": {},
   "source": [
    "## Iteration with while loops"
   ]
  },
  {
   "cell_type": "markdown",
   "id": "7e866e80",
   "metadata": {},
   "source": [
    "This feature is often referred to as iteration on looping, and there are two ways to do this in Python: using while loops and for loops.\n",
    "\n",
    "while loops have the following syntax:\n",
    "\n",
    "while condition:\n",
    "    statement(s)\n",
    "Statements in the code block under while are executed repeatedly as long as the condition evaluates to True. Generally, one of the statements under while makes some change to a variable that causes the condition to evaluate to False after a certain number of iterations.\n",
    "\n",
    "Let's try to calculate the factorial of 100 using a while loop. The factorial of a number n is the product (multiplication) of all the numbers from 1 to n, i.e., 1*2*3*...*(n-2)*(n-1)*n."
   ]
  },
  {
   "cell_type": "code",
   "execution_count": 12,
   "id": "7be78195",
   "metadata": {},
   "outputs": [
    {
     "name": "stdout",
     "output_type": "stream",
     "text": [
      "Enter the number : 34\n"
     ]
    }
   ],
   "source": [
    "n=int(input(\"Enter the number : \"))"
   ]
  },
  {
   "cell_type": "code",
   "execution_count": 13,
   "id": "53c3b863",
   "metadata": {},
   "outputs": [
    {
     "name": "stdout",
     "output_type": "stream",
     "text": [
      "The factorial of 100 is: 295232799039604140847618609643520000000\n"
     ]
    }
   ],
   "source": [
    "i,result=1 ,1\n",
    "while i <= n :\n",
    "    \n",
    "    result = result*i\n",
    "    i += 1\n",
    "    \n",
    "print('The factorial of 100 is: {}'.format(result))"
   ]
  },
  {
   "attachments": {
    "image-2.png": {
     "image/png": "[encoded data removed]"
    }
   },
   "cell_type": "markdown",
   "id": "f217ebae",
   "metadata": {},
   "source": [
    "![image-2.png](attachment:image-2.png)"
   ]
  },
  {
   "cell_type": "code",
   "execution_count": 9,
   "id": "0199952e",
   "metadata": {},
   "outputs": [
    {
     "name": "stdout",
     "output_type": "stream",
     "text": [
      "enter the maximum star in middle :5\n"
     ]
    }
   ],
   "source": [
    "max=int(input(\"enter the maximum star in middle :\"))"
   ]
  },
  {
   "cell_type": "code",
   "execution_count": 27,
   "id": "7185827c",
   "metadata": {},
   "outputs": [
    {
     "name": "stdout",
     "output_type": "stream",
     "text": [
      "*\n",
      "**\n",
      "***\n",
      "****\n",
      "*****\n",
      "****\n",
      "***\n",
      "**\n",
      "*\n",
      "\n",
      "\n"
     ]
    }
   ],
   "source": [
    "line = \"*\"\n",
    "i=1\n",
    "\n",
    "while i <= max :\n",
    "    print(line)\n",
    "    line +='*'\n",
    "    i +=1\n",
    "line = line[:-1]    \n",
    "while i >= 1 :\n",
    "    line = line[:-1]\n",
    "    i =i- 1\n",
    "    print(line)\n",
    "    \n",
    "    "
   ]
  },
  {
   "cell_type": "code",
   "execution_count": 32,
   "id": "73c9ae3f",
   "metadata": {},
   "outputs": [
    {
     "name": "stdout",
     "output_type": "stream",
     "text": [
      "     *\n",
      "    **\n",
      "   ***\n",
      "  ****\n",
      " *****\n",
      "  ****\n",
      "   ***\n",
      "    **\n",
      "     *\n",
      "      \n",
      "       \n"
     ]
    }
   ],
   "source": [
    "line = \"*\"\n",
    "space1=max\n",
    "i=1\n",
    "\n",
    "while i <= max :\n",
    "    space= \" \"\n",
    "    space=space*space1\n",
    "    print(space+line)\n",
    "    space1 =space1-1\n",
    "    line +='*'\n",
    "    i +=1\n",
    "line = line[:-1] \n",
    "space2=2\n",
    "while i >= 1 :\n",
    "    line = line[:-1]\n",
    "    i =i- 1\n",
    "    space= \" \"\n",
    "    space=space*space2\n",
    "    space2=space2+1\n",
    "    print(space+line)"
   ]
  },
  {
   "cell_type": "code",
   "execution_count": 36,
   "id": "7bc102dd",
   "metadata": {},
   "outputs": [
    {
     "name": "stdout",
     "output_type": "stream",
     "text": [
      "     *\n",
      "    ***\n",
      "   *****\n",
      "  *******\n",
      " *********\n",
      "  *******\n",
      "   *****\n",
      "    ***\n",
      "     *\n",
      "      \n",
      "       \n"
     ]
    }
   ],
   "source": [
    "line = \"*\"\n",
    "space1=max\n",
    "i=1\n",
    "\n",
    "while i <= max :\n",
    "    space= \" \"\n",
    "    space=space*space1\n",
    "    print(space+line)\n",
    "    space1 =space1-1\n",
    "    line +='**'\n",
    "    i +=1\n",
    "line = line[:-2] \n",
    "space2=2\n",
    "while i >= 1 :\n",
    "    line = line[:-2]\n",
    "    i =i- 1\n",
    "    space= \" \"\n",
    "    space=space*space2\n",
    "    space2=space2+1\n",
    "    print(space+line)"
   ]
  },
  {
   "cell_type": "code",
   "execution_count": 33,
   "id": "e5165510",
   "metadata": {},
   "outputs": [
    {
     "name": "stdout",
     "output_type": "stream",
     "text": [
      "Magic number 42 reached! Stopping execution..\n",
      "i: 42\n",
      "result: 1405006117752879898543142606244511569936384000000000\n"
     ]
    }
   ],
   "source": [
    "i = 1\n",
    "result = 1\n",
    "\n",
    "while i <= 100:\n",
    "    result *= i\n",
    "    if i == 42:\n",
    "        print('Magic number 42 reached! Stopping execution..')\n",
    "        break\n",
    "    i += 1\n",
    "    \n",
    "print('i:', i)\n",
    "print('result:', result)"
   ]
  },
  {
   "cell_type": "code",
   "execution_count": 37,
   "id": "fa70ea1f",
   "metadata": {},
   "outputs": [
    {
     "name": "stdout",
     "output_type": "stream",
     "text": [
      "Skipping 2\n",
      "Multiplying with 3\n",
      "Skipping 4\n",
      "Multiplying with 5\n",
      "Skipping 6\n",
      "Multiplying with 7\n",
      "Skipping 8\n",
      "Multiplying with 9\n",
      "Skipping 10\n",
      "Multiplying with 11\n",
      "Skipping 12\n",
      "Multiplying with 13\n",
      "Skipping 14\n",
      "Multiplying with 15\n",
      "Skipping 16\n",
      "Multiplying with 17\n",
      "Skipping 18\n",
      "Multiplying with 19\n",
      "Skipping 20\n",
      "i: 20\n",
      "result: 654729075\n"
     ]
    }
   ],
   "source": [
    "i = 1\n",
    "result = 1\n",
    "\n",
    "while i < 20:\n",
    "    i += 1\n",
    "    if i % 2 == 0:\n",
    "        print('Skipping {}'.format(i))\n",
    "        continue\n",
    "    print('Multiplying with {}'.format(i))\n",
    "    result = result * i\n",
    "    \n",
    "print('i:', i)\n",
    "print('result:', result)"
   ]
  },
  {
   "cell_type": "markdown",
   "id": "b4e4c039",
   "metadata": {},
   "source": [
    "For loop"
   ]
  },
  {
   "cell_type": "code",
   "execution_count": 45,
   "id": "bf4c04bb",
   "metadata": {},
   "outputs": [
    {
     "name": "stdout",
     "output_type": "stream",
     "text": [
      "monday\n",
      "tuesday\n",
      "thursday\n",
      "sunday\n",
      "saturday\n",
      "friday\n",
      "wednesday\n"
     ]
    },
    {
     "data": {
      "text/plain": [
       "set"
      ]
     },
     "execution_count": 45,
     "metadata": {},
     "output_type": "execute_result"
    }
   ],
   "source": [
    "# Looping with set\n",
    "days={'sunday','monday','tuesday','wednesday','thursday','friday','saturday'}\n",
    "\n",
    "for day in days :\n",
    "    print(day)\n"
   ]
  },
  {
   "cell_type": "code",
   "execution_count": 42,
   "id": "57d37bf3",
   "metadata": {},
   "outputs": [
    {
     "name": "stdout",
     "output_type": "stream",
     "text": [
      "m\n",
      "o\n",
      "n\n",
      "d\n",
      "a\n",
      "y\n"
     ]
    }
   ],
   "source": [
    "# looping with string\n",
    "for char in 'monday' :\n",
    "    print(char)"
   ]
  },
  {
   "cell_type": "code",
   "execution_count": 43,
   "id": "f69d1e86",
   "metadata": {},
   "outputs": [
    {
     "name": "stdout",
     "output_type": "stream",
     "text": [
      "Here's a fruit: Apple\n",
      "Here's a fruit: Banana\n",
      "Here's a fruit: Guava\n"
     ]
    }
   ],
   "source": [
    "# Looping over a tuple\n",
    "for fruit in ['Apple', 'Banana', 'Guava']:\n",
    "    print(\"Here's a fruit:\", fruit)"
   ]
  },
  {
   "cell_type": "code",
   "execution_count": 54,
   "id": "af2e63b0",
   "metadata": {},
   "outputs": [
    {
     "name": "stdout",
     "output_type": "stream",
     "text": [
      "name:shalini\n",
      "age:35\n",
      "married:True\n",
      "address:D10 gokulum\n",
      "sex:Female\n"
     ]
    }
   ],
   "source": [
    "#looping with dictionary\n",
    "person={'name' : 'shalini', 'age' : '35', 'married' : 'True' , 'address' : 'D10 gokulum' , 'sex' : 'Female'}\n",
    "for val in person :\n",
    "    print(val + \":\" + person[val])"
   ]
  },
  {
   "cell_type": "code",
   "execution_count": 55,
   "id": "41a687af",
   "metadata": {},
   "outputs": [
    {
     "name": "stdout",
     "output_type": "stream",
     "text": [
      "shalini\n",
      "35\n",
      "True\n",
      "D10 gokulum\n",
      "Female\n"
     ]
    }
   ],
   "source": [
    "for value in person.values():\n",
    "    print(value)"
   ]
  },
  {
   "cell_type": "code",
   "execution_count": 57,
   "id": "a370d1b4",
   "metadata": {},
   "outputs": [
    {
     "name": "stdout",
     "output_type": "stream",
     "text": [
      "('name', 'shalini')\n",
      "('age', '35')\n",
      "('married', 'True')\n",
      "('address', 'D10 gokulum')\n",
      "('sex', 'Female')\n"
     ]
    }
   ],
   "source": [
    "for value in person.items():\n",
    "    print(value)"
   ]
  },
  {
   "cell_type": "code",
   "execution_count": 58,
   "id": "17fc66d4",
   "metadata": {},
   "outputs": [
    {
     "name": "stdout",
     "output_type": "stream",
     "text": [
      "Key: name , Value: shalini\n",
      "Key: age , Value: 35\n",
      "Key: married , Value: True\n",
      "Key: address , Value: D10 gokulum\n",
      "Key: sex , Value: Female\n"
     ]
    }
   ],
   "source": [
    "for key, value in person.items():\n",
    "    print(\"Key:\", key, \",\", \"Value:\", value)"
   ]
  },
  {
   "cell_type": "code",
   "execution_count": 60,
   "id": "74dff1a5",
   "metadata": {},
   "outputs": [
    {
     "name": "stdout",
     "output_type": "stream",
     "text": [
      "0\n",
      "1\n",
      "2\n",
      "3\n",
      "4\n",
      "5\n",
      "6\n"
     ]
    }
   ],
   "source": [
    "for i in range(7) :\n",
    "    print(i)"
   ]
  },
  {
   "cell_type": "code",
   "execution_count": 63,
   "id": "6945704a",
   "metadata": {},
   "outputs": [
    {
     "name": "stdout",
     "output_type": "stream",
     "text": [
      "3\n",
      "4\n",
      "5\n",
      "6\n",
      "7\n",
      "8\n"
     ]
    }
   ],
   "source": [
    "for i in range(3 ,9) :\n",
    "    print(i)"
   ]
  },
  {
   "cell_type": "code",
   "execution_count": 65,
   "id": "88cf2c2b",
   "metadata": {},
   "outputs": [
    {
     "name": "stdout",
     "output_type": "stream",
     "text": [
      "3\n",
      "7\n",
      "11\n"
     ]
    }
   ],
   "source": [
    "for i in range(3 , 14 ,4) :\n",
    "    print(i)"
   ]
  },
  {
   "cell_type": "code",
   "execution_count": 68,
   "id": "008ef859",
   "metadata": {},
   "outputs": [
    {
     "name": "stdout",
     "output_type": "stream",
     "text": [
      "sunday\n",
      "monday\n",
      "tuesday\n",
      "wednesday\n",
      "thursday\n",
      "friday\n",
      "saturday\n"
     ]
    }
   ],
   "source": [
    "a_list=['sunday','monday','tuesday','wednesday','thursday','friday','saturday']\n",
    "for i in range(len(a_list)) :\n",
    "    print(a_list[i])"
   ]
  },
  {
   "cell_type": "markdown",
   "id": "ecf359c0",
   "metadata": {},
   "source": [
    "Another way to achieve the same result is by using the enumerate function with a_list as an input, which returns a tuple containing the index and the corresponding element."
   ]
  },
  {
   "cell_type": "code",
   "execution_count": 69,
   "id": "2c3cac8f",
   "metadata": {},
   "outputs": [
    {
     "name": "stdout",
     "output_type": "stream",
     "text": [
      "The value at position 0 is sunday.\n",
      "The value at position 1 is monday.\n",
      "The value at position 2 is tuesday.\n",
      "The value at position 3 is wednesday.\n",
      "The value at position 4 is thursday.\n",
      "The value at position 5 is friday.\n",
      "The value at position 6 is saturday.\n"
     ]
    }
   ],
   "source": [
    "for i, val in enumerate(a_list):\n",
    "    print('The value at position {} is {}.'.format(i, val))"
   ]
  },
  {
   "cell_type": "code",
   "execution_count": 72,
   "id": "3e511a0b",
   "metadata": {},
   "outputs": [
    {
     "name": "stdout",
     "output_type": "stream",
     "text": [
      "Today is sunday\n",
      "Today is monday\n",
      "Today is tuesday\n",
      "I do not work beyond wednesday\n"
     ]
    }
   ],
   "source": [
    "for i in range(len(a_list)) :\n",
    "    if a_list[i]=='wednesday' :\n",
    "        print(\"I do not work beyond wednesday\")\n",
    "        break\n",
    "    else :\n",
    "        print(\"Today is {}\".format(a_list[i]))"
   ]
  },
  {
   "cell_type": "code",
   "execution_count": 73,
   "id": "16bae8ad",
   "metadata": {},
   "outputs": [
    {
     "name": "stdout",
     "output_type": "stream",
     "text": [
      "Today is sunday\n",
      "Today is monday\n",
      "Today is tuesday\n",
      "I do not work beyond wednesday\n",
      "Today is thursday\n",
      "Today is friday\n",
      "Today is saturday\n"
     ]
    }
   ],
   "source": [
    "for i in range(len(a_list)) :\n",
    "    if a_list[i]=='wednesday' :\n",
    "        print(\"I do not work beyond wednesday\")\n",
    "        continue\n",
    "    else :\n",
    "        print(\"Today is {}\".format(a_list[i]))"
   ]
  },
  {
   "cell_type": "markdown",
   "id": "d9aba82b",
   "metadata": {},
   "source": [
    "Like if statements, for loops cannot be empty, so you can use a pass statement if you don't want to execute any statements inside the loop."
   ]
  },
  {
   "cell_type": "code",
   "execution_count": 74,
   "id": "4e4e7c53",
   "metadata": {},
   "outputs": [],
   "source": [
    "for i in range(len(a_list)) :\n",
    "    pass"
   ]
  },
  {
   "cell_type": "markdown",
   "id": "ab8833a6",
   "metadata": {},
   "source": [
    "##### Nested for  and while loop"
   ]
  },
  {
   "cell_type": "code",
   "execution_count": 79,
   "id": "aca55c1c",
   "metadata": {},
   "outputs": [
    {
     "name": "stdout",
     "output_type": "stream",
     "text": [
      "key :name        value :shalini\n",
      "key :age        value :34\n",
      "key :married        value :True\n",
      "key :sex        value :Female\n",
      "key :name        value :sriram\n",
      "key :age        value :41\n",
      "key :married        value :True\n",
      "key :sex        value :male\n"
     ]
    }
   ],
   "source": [
    "person=[{'name':'shalini','age':'34','married':'True','sex' :'Female'},{'name':'sriram','age':'41','married':'True','sex' :'male'}]\n",
    "for per in person :\n",
    "    for key in per :\n",
    "        print(\"key :\" + key +  \"        value :\" +per[key] )"
   ]
  },
  {
   "cell_type": "code",
   "execution_count": 80,
   "id": "7f5962b3",
   "metadata": {},
   "outputs": [
    {
     "name": "stdout",
     "output_type": "stream",
     "text": [
      "Monday apple\n",
      "Monday banana\n",
      "Monday guava\n",
      "Tuesday apple\n",
      "Tuesday banana\n",
      "Tuesday guava\n",
      "Wednesday apple\n",
      "Wednesday banana\n",
      "Wednesday guava\n"
     ]
    }
   ],
   "source": [
    "days = ['Monday', 'Tuesday', 'Wednesday']\n",
    "fruits = ['apple', 'banana', 'guava']\n",
    "\n",
    "for day in days:\n",
    "    for fruit in fruits:\n",
    "        print(day, fruit)"
   ]
  }
 ],
 "metadata": {
  "kernelspec": {
   "display_name": "Python 3",
   "language": "python",
   "name": "python3"
  },
  "language_info": {
   "codemirror_mode": {
    "name": "ipython",
    "version": 3
   },
   "file_extension": ".py",
   "mimetype": "text/x-python",
   "name": "python",
   "nbconvert_exporter": "python",
   "pygments_lexer": "ipython3",
   "version": "3.8.8"
  }
 },
 "nbformat": 4,
 "nbformat_minor": 5
}
