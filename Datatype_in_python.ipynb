{
 "cells": [
  {
   "cell_type": "markdown",
   "id": "f6749041",
   "metadata": {},
   "source": [
    "## Deep dive into Data Type "
   ]
  },
  {
   "cell_type": "markdown",
   "id": "fcc9f75c",
   "metadata": {},
   "source": [
    "Any language, datatype plays vital role in all programming language. There is no expection in python.\n",
    "Let us see some of the important data type\n",
    "1. int\n",
    "2. float\n",
    "3. string\n",
    "4. bollean\n",
    "5. List\n",
    "6. tuple\n",
    "7. set\n",
    "8. Dictionary\n"
   ]
  },
  {
   "cell_type": "markdown",
   "id": "5da36b5a",
   "metadata": {},
   "source": [
    "Let us first see the mixture of operation of int, float, boolean,string"
   ]
  },
  {
   "cell_type": "code",
   "execution_count": null,
   "id": "3af79678",
   "metadata": {},
   "outputs": [],
   "source": [
    "num=1"
   ]
  },
  {
   "cell_type": "code",
   "execution_count": null,
   "id": "992cdb67",
   "metadata": {},
   "outputs": [],
   "source": [
    "type(num)"
   ]
  },
  {
   "cell_type": "markdown",
   "id": "16c7854f",
   "metadata": {},
   "source": [
    "It gives the what the data type of num.\n"
   ]
  },
  {
   "cell_type": "code",
   "execution_count": null,
   "id": "aaacacf2",
   "metadata": {},
   "outputs": [],
   "source": [
    "num +=num"
   ]
  },
  {
   "cell_type": "code",
   "execution_count": null,
   "id": "37b70efe",
   "metadata": {},
   "outputs": [],
   "source": [
    "num"
   ]
  },
  {
   "cell_type": "code",
   "execution_count": null,
   "id": "3dab67ae",
   "metadata": {},
   "outputs": [],
   "source": [
    "sub =5"
   ]
  },
  {
   "cell_type": "code",
   "execution_count": null,
   "id": "d5dea449",
   "metadata": {},
   "outputs": [],
   "source": [
    "sub -=1"
   ]
  },
  {
   "cell_type": "code",
   "execution_count": null,
   "id": "8a51c821",
   "metadata": {},
   "outputs": [],
   "source": [
    "sub"
   ]
  },
  {
   "cell_type": "code",
   "execution_count": null,
   "id": "5f865ca1",
   "metadata": {},
   "outputs": [],
   "source": [
    "#casting to int  from int, float, string\n",
    "x = int(1)   # x will be 1\n",
    "y = int(2.8) # y will be 2\n",
    "z = int(\"3\") # z will be 3\n",
    "print(x)\n",
    "print(y)\n",
    "print(z)\n"
   ]
  },
  {
   "cell_type": "code",
   "execution_count": null,
   "id": "db4418de",
   "metadata": {},
   "outputs": [],
   "source": [
    "r=0.09"
   ]
  },
  {
   "cell_type": "code",
   "execution_count": null,
   "id": "3233587a",
   "metadata": {},
   "outputs": [],
   "source": [
    "type(r)"
   ]
  },
  {
   "cell_type": "code",
   "execution_count": null,
   "id": "3f9d7b20",
   "metadata": {},
   "outputs": [],
   "source": [
    "# convert float to int vale\n",
    "int(r)\n",
    "pi=3.145677\n",
    "type(pi)"
   ]
  },
  {
   "cell_type": "code",
   "execution_count": null,
   "id": "c35d2838",
   "metadata": {},
   "outputs": [],
   "source": [
    "int(pi)"
   ]
  },
  {
   "cell_type": "code",
   "execution_count": null,
   "id": "6940a622",
   "metadata": {},
   "outputs": [],
   "source": [
    "type(10//3)"
   ]
  },
  {
   "cell_type": "code",
   "execution_count": null,
   "id": "6356237f",
   "metadata": {},
   "outputs": [],
   "source": [
    "type(10/3)"
   ]
  },
  {
   "cell_type": "code",
   "execution_count": null,
   "id": "f4668ec1",
   "metadata": {},
   "outputs": [],
   "source": [
    "# Casting to float from int,float, string\n",
    "x = float(1)     # x will be 1.0\n",
    "y = float(2.8)   # y will be 2.8\n",
    "z = float(\"3\")   # z will be 3.0\n",
    "w = float(\"4.2\") # w will be 4.2\n",
    "print(x)\n",
    "print(y)\n",
    "print(z)\n",
    "print(w)"
   ]
  },
  {
   "cell_type": "markdown",
   "id": "92d7696a",
   "metadata": {},
   "source": [
    "As per coding standard , we need to use the lower case letter as variable\n"
   ]
  },
  {
   "cell_type": "markdown",
   "id": "6c65d6a7",
   "metadata": {},
   "source": [
    "### Boolean"
   ]
  },
  {
   "cell_type": "code",
   "execution_count": null,
   "id": "f40fef2e",
   "metadata": {},
   "outputs": [],
   "source": [
    "y=True"
   ]
  },
  {
   "cell_type": "code",
   "execution_count": null,
   "id": "c1f5e43c",
   "metadata": {},
   "outputs": [],
   "source": [
    "type(y)"
   ]
  },
  {
   "cell_type": "code",
   "execution_count": null,
   "id": "4ef328bb",
   "metadata": {},
   "outputs": [],
   "source": [
    "# assign the boolean value with comparsion of two value\n",
    "cost_of_ice_bag = 1.25\n",
    "is_ice_bag_expensive = cost_of_ice_bag >= 10"
   ]
  },
  {
   "cell_type": "code",
   "execution_count": null,
   "id": "d3307858",
   "metadata": {},
   "outputs": [],
   "source": [
    "is_ice_bag_expensive"
   ]
  },
  {
   "cell_type": "markdown",
   "id": "1482b371",
   "metadata": {},
   "source": [
    "Python are case  sensitive"
   ]
  },
  {
   "cell_type": "code",
   "execution_count": null,
   "id": "f70d3192",
   "metadata": {},
   "outputs": [],
   "source": [
    "type(Y)"
   ]
  },
  {
   "attachments": {
    "image.png": {
     "image/png": "[encoded data removed]"
    }
   },
   "cell_type": "markdown",
   "id": "e0b38c17",
   "metadata": {},
   "source": [
    "![image.png](attachment:image.png)\n",
    "\n",
    "\n",
    "\n",
    "Variable names can be short (`a`, `x`, `y`, etc.) or descriptive ( `my_favorite_color`, `profit_margin`, `the_3_musketeers`, etc.). However, you must follow these rules while naming Python variables:\n",
    "\n",
    "* A variable's name must start with a letter or the underscore character `_`. It cannot begin with a number.\n",
    "* A variable name can only contain lowercase (small) or uppercase (capital) letters, digits, or underscores (`a`-`z`, `A`-`Z`, `0`-`9`, and `_`).\n",
    "* Variable names are case-sensitive, i.e., `a_variable`, `A_Variable`, and `A_VARIABLE` are all different variables.\n",
    "\n",
    "above are some valid variable names"
   ]
  },
  {
   "cell_type": "markdown",
   "id": "7d0a5683",
   "metadata": {},
   "source": [
    "Booleans are automatically converted to `int`s when used in arithmetic operations. `True` is converted to `1` and `False` is converted to `0`."
   ]
  },
  {
   "cell_type": "code",
   "execution_count": null,
   "id": "bb32c9ed",
   "metadata": {},
   "outputs": [],
   "source": [
    "5 + False"
   ]
  },
  {
   "cell_type": "code",
   "execution_count": null,
   "id": "6ad1a742",
   "metadata": {},
   "outputs": [],
   "source": [
    "3 + True"
   ]
  },
  {
   "cell_type": "markdown",
   "id": "59e30015",
   "metadata": {},
   "source": [
    "Any value in Python can be converted to a Boolean using the `bool` function. \n",
    "\n",
    "Only the following values evaluate to `False` (they are often called **flasy** values):\n",
    "\n",
    "1. The value `False` itself\n",
    "2. The integer `0`\n",
    "3. The float `0.0`\n",
    "4. The empty value `None`\n",
    "5. The empty text `\"\"`\n",
    "6. The empty list `[]`\n",
    "7. The empty tuple `()`\n",
    "8. The empty dictionary `{}`\n",
    "9. The empty set `set()`\n",
    "10. The empty range `range(0)`\n",
    "\n",
    "Everything else evaluates to `True` (a value that evaluates to `True` is often called a *truthy* value)."
   ]
  },
  {
   "cell_type": "code",
   "execution_count": null,
   "id": "de32e910",
   "metadata": {},
   "outputs": [],
   "source": [
    "bool(False)"
   ]
  },
  {
   "cell_type": "code",
   "execution_count": null,
   "id": "724e7cbd",
   "metadata": {},
   "outputs": [],
   "source": [
    "bool(0)"
   ]
  },
  {
   "cell_type": "code",
   "execution_count": null,
   "id": "4384f223",
   "metadata": {},
   "outputs": [],
   "source": [
    "bool([])"
   ]
  },
  {
   "cell_type": "code",
   "execution_count": null,
   "id": "228f8e9e",
   "metadata": {},
   "outputs": [],
   "source": [
    "bool({})"
   ]
  },
  {
   "cell_type": "code",
   "execution_count": null,
   "id": "73779079",
   "metadata": {},
   "outputs": [],
   "source": [
    "bool(())"
   ]
  },
  {
   "cell_type": "code",
   "execution_count": null,
   "id": "c6a833c3",
   "metadata": {},
   "outputs": [],
   "source": [
    "bool(set())"
   ]
  },
  {
   "cell_type": "code",
   "execution_count": null,
   "id": "1ed9fd5e",
   "metadata": {},
   "outputs": [],
   "source": [
    "bool(range(0))"
   ]
  },
  {
   "cell_type": "code",
   "execution_count": null,
   "id": "93281d51",
   "metadata": {},
   "outputs": [],
   "source": [
    "bool()"
   ]
  },
  {
   "cell_type": "code",
   "execution_count": null,
   "id": "46bc9d21",
   "metadata": {},
   "outputs": [],
   "source": [
    "bool(0.0)"
   ]
  },
  {
   "cell_type": "code",
   "execution_count": null,
   "id": "7c00044a",
   "metadata": {},
   "outputs": [],
   "source": [
    "bool(range(0))"
   ]
  },
  {
   "cell_type": "code",
   "execution_count": null,
   "id": "f5bce7cc",
   "metadata": {},
   "outputs": [],
   "source": [
    "bool(True), bool(1), bool(2.0), bool(\"hello\"), bool([1,2]), bool((2,3)), bool(range(10))"
   ]
  },
  {
   "cell_type": "markdown",
   "id": "7f0ae5a4",
   "metadata": {},
   "source": [
    "### None"
   ]
  },
  {
   "cell_type": "code",
   "execution_count": null,
   "id": "b9b391f2",
   "metadata": {},
   "outputs": [],
   "source": [
    "Nothing=None"
   ]
  },
  {
   "cell_type": "code",
   "execution_count": null,
   "id": "33770644",
   "metadata": {},
   "outputs": [],
   "source": [
    "type(Nothing)"
   ]
  },
  {
   "cell_type": "markdown",
   "id": "2295612b",
   "metadata": {},
   "source": [
    "### String"
   ]
  },
  {
   "cell_type": "code",
   "execution_count": null,
   "id": "c2103cb2",
   "metadata": {},
   "outputs": [],
   "source": [
    "name='shalini'"
   ]
  },
  {
   "cell_type": "code",
   "execution_count": null,
   "id": "08e92ec3",
   "metadata": {},
   "outputs": [],
   "source": [
    "new=name.upper()"
   ]
  },
  {
   "cell_type": "code",
   "execution_count": null,
   "id": "eab1d198",
   "metadata": {},
   "outputs": [],
   "source": [
    "name.capitalize()"
   ]
  },
  {
   "cell_type": "code",
   "execution_count": null,
   "id": "cd239d26",
   "metadata": {},
   "outputs": [],
   "source": [
    "new"
   ]
  },
  {
   "cell_type": "code",
   "execution_count": null,
   "id": "118ed667",
   "metadata": {},
   "outputs": [],
   "source": [
    "# casting to string from int, float, string\n",
    "x = str(\"s1\") # x will be 's1'\n",
    "y = str(2)    # y will be '2'\n",
    "z = str(3.0)  # z will be '3.0'\n",
    "print(x)\n",
    "print(y)\n",
    "print(z)"
   ]
  },
  {
   "cell_type": "code",
   "execution_count": null,
   "id": "43591785",
   "metadata": {},
   "outputs": [],
   "source": [
    "new.lower()"
   ]
  },
  {
   "cell_type": "code",
   "execution_count": null,
   "id": "9c77c00c",
   "metadata": {},
   "outputs": [],
   "source": [
    "#concentrate two string\n",
    "name+new"
   ]
  },
  {
   "cell_type": "code",
   "execution_count": null,
   "id": "7fcdb7b2",
   "metadata": {},
   "outputs": [],
   "source": [
    "long_string=\"                   python is great programming language.             it is  used in web development, data science, frnt end and back end development\""
   ]
  },
  {
   "cell_type": "code",
   "execution_count": null,
   "id": "4bf86522",
   "metadata": {},
   "outputs": [],
   "source": [
    "# to remove space in the front\n",
    "long_string.strip()"
   ]
  },
  {
   "cell_type": "code",
   "execution_count": null,
   "id": "c69c0547",
   "metadata": {},
   "outputs": [],
   "source": [
    "# Assignining more than a variable by adding commas\n",
    "color, color1, color2=\"blue\" ,\"green\", \"yellow\""
   ]
  },
  {
   "cell_type": "code",
   "execution_count": null,
   "id": "47298cdf",
   "metadata": {},
   "outputs": [],
   "source": [
    "print(color)\n",
    "print(color1)\n",
    "print(color2)"
   ]
  },
  {
   "cell_type": "code",
   "execution_count": null,
   "id": "938daee6",
   "metadata": {},
   "outputs": [],
   "source": [
    "print(color)"
   ]
  },
  {
   "cell_type": "code",
   "execution_count": null,
   "id": "b1b5ab82",
   "metadata": {},
   "outputs": [],
   "source": [
    "color4 = color5 = color6 = \"magenta\""
   ]
  },
  {
   "cell_type": "code",
   "execution_count": null,
   "id": "493cb398",
   "metadata": {},
   "outputs": [],
   "source": [
    "print(color4)"
   ]
  },
  {
   "cell_type": "code",
   "execution_count": null,
   "id": "c2c86b38",
   "metadata": {},
   "outputs": [],
   "source": [
    "color5"
   ]
  },
  {
   "cell_type": "code",
   "execution_count": null,
   "id": "fb24d938",
   "metadata": {},
   "outputs": [],
   "source": [
    "print(color5)"
   ]
  },
  {
   "cell_type": "code",
   "execution_count": null,
   "id": "5818861e",
   "metadata": {},
   "outputs": [],
   "source": [
    "#get the character of the string with index\n",
    "color5[1]"
   ]
  },
  {
   "cell_type": "code",
   "execution_count": null,
   "id": "415a21d9",
   "metadata": {},
   "outputs": [],
   "source": [
    "# To check a part of string in main string\n",
    "'mag' in color5"
   ]
  },
  {
   "cell_type": "code",
   "execution_count": null,
   "id": "5c181d63",
   "metadata": {},
   "outputs": [],
   "source": [
    "'any' in color5"
   ]
  },
  {
   "cell_type": "code",
   "execution_count": null,
   "id": "2af1df91",
   "metadata": {},
   "outputs": [],
   "source": [
    "today='sunday'\n",
    "day='day'"
   ]
  },
  {
   "cell_type": "code",
   "execution_count": null,
   "id": "40ef3d0d",
   "metadata": {},
   "outputs": [],
   "source": [
    "day in today"
   ]
  },
  {
   "cell_type": "code",
   "execution_count": null,
   "id": "d51b9e7d",
   "metadata": {},
   "outputs": [],
   "source": [
    "# replace part of string with other\n",
    "another_day = today.replace(\"sun\", \"Satur\")"
   ]
  },
  {
   "cell_type": "code",
   "execution_count": null,
   "id": "b97a10cf",
   "metadata": {},
   "outputs": [],
   "source": [
    "another_day"
   ]
  },
  {
   "cell_type": "code",
   "execution_count": null,
   "id": "205d9696",
   "metadata": {},
   "outputs": [],
   "source": [
    "\"Sun,Mon,Tue,Wed,Thu,Fri,Sat\".split(\",\")"
   ]
  },
  {
   "cell_type": "markdown",
   "id": "c901c660",
   "metadata": {},
   "source": [
    "To use a double quote within a string written with double quotes, *escape* the inner quotes by prefixing them with the `\\` character."
   ]
  },
  {
   "cell_type": "code",
   "execution_count": null,
   "id": "99253b1c",
   "metadata": {},
   "outputs": [],
   "source": [
    "another_pun = \"The first time I got a universal remote control, I thought to myself \\\"This changes everything\\\".\""
   ]
  },
  {
   "cell_type": "code",
   "execution_count": null,
   "id": "47dc2e2b",
   "metadata": {},
   "outputs": [],
   "source": [
    "another_pun"
   ]
  },
  {
   "cell_type": "markdown",
   "id": "5273acff",
   "metadata": {},
   "source": [
    "Strings created using single or double quotes must begin and end on the same line. To create multiline strings, use three single quotes `'''` or three double quotes `\"\"\"` to begin and end the string. Line breaks are represented using the newline character `\\n`."
   ]
  },
  {
   "cell_type": "code",
   "execution_count": null,
   "id": "86eebad1",
   "metadata": {},
   "outputs": [],
   "source": [
    "yet_another_pun = '''Son: \"Dad, can you tell me what a solar eclipse is?\" \n",
    "Dad: \"No sun.\"'''"
   ]
  },
  {
   "cell_type": "code",
   "execution_count": null,
   "id": "80baa50d",
   "metadata": {},
   "outputs": [],
   "source": [
    "print(yet_another_pun)"
   ]
  },
  {
   "cell_type": "code",
   "execution_count": null,
   "id": "4c4dbb7c",
   "metadata": {},
   "outputs": [],
   "source": [
    "yet_another_pun"
   ]
  },
  {
   "cell_type": "code",
   "execution_count": null,
   "id": "469a96e3",
   "metadata": {},
   "outputs": [],
   "source": [
    "#get length of the string\n",
    "len(yet_another_pun)"
   ]
  },
  {
   "cell_type": "code",
   "execution_count": null,
   "id": "a91663ce",
   "metadata": {},
   "outputs": [],
   "source": [
    "# Let us see when it is converted to list\n",
    "list(yet_another_pun)"
   ]
  },
  {
   "cell_type": "code",
   "execution_count": null,
   "id": "ea7f00ac",
   "metadata": {},
   "outputs": [],
   "source": [
    "# Input variables\n",
    "cost_of_ice_bag = 1.25\n",
    "profit_margin = .2\n",
    "number_of_bags = 500\n",
    "\n",
    "# Template for output message\n",
    "output_template = \"\"\"If a grocery store sells ice bags at $ {} per bag, with a profit margin of {} %, \n",
    "then the total profit it makes by selling {} ice bags is $ {}.\"\"\"\n",
    "\n",
    "print(output_template)"
   ]
  },
  {
   "cell_type": "code",
   "execution_count": null,
   "id": "4833fe51",
   "metadata": {},
   "outputs": [],
   "source": [
    "total_profit=profit_margin*number_of_bags\n",
    "output_message=output_template.format(cost_of_ice_bag, profit_margin,number_of_bags, total_profit,)\n",
    "print(output_message)"
   ]
  },
  {
   "cell_type": "code",
   "execution_count": null,
   "id": "e8cab744",
   "metadata": {},
   "outputs": [],
   "source": [
    "\"If a grocery store sells ice bags at $ \" + cost_of_ice_bag + \", with a profit margin of \" + profit_margin"
   ]
  },
  {
   "attachments": {
    "image.png": {
     "image/png": "[encoded data removed]"
    }
   },
   "cell_type": "markdown",
   "id": "7b8a0643",
   "metadata": {},
   "source": [
    "![image.png](attachment:image.png)"
   ]
  },
  {
   "cell_type": "code",
   "execution_count": null,
   "id": "9c4f8eac",
   "metadata": {},
   "outputs": [],
   "source": [
    "\"If a grocery store sells ice bags at $ \" + str(cost_of_ice_bag) + \", with a profit margin of \" + str(profit_margin)"
   ]
  },
  {
   "cell_type": "markdown",
   "id": "8a8f58ad",
   "metadata": {},
   "source": [
    "### Next List"
   ]
  },
  {
   "cell_type": "code",
   "execution_count": null,
   "id": "84366976",
   "metadata": {},
   "outputs": [],
   "source": [
    "#create a list\n",
    "fruits=['grapes','orange','apple','manago','watermelon']\n",
    "fruits1=['pineapple','banana','muskmelon','banana']\n",
    "fruit0=[]\n",
    "print(fruit0)"
   ]
  },
  {
   "cell_type": "code",
   "execution_count": null,
   "id": "0ddc43ec",
   "metadata": {},
   "outputs": [],
   "source": [
    "# merge two list\n",
    "fruit3=fruits+fruits1"
   ]
  },
  {
   "cell_type": "code",
   "execution_count": null,
   "id": "249a97ab",
   "metadata": {},
   "outputs": [],
   "source": [
    "fruits"
   ]
  },
  {
   "cell_type": "code",
   "execution_count": null,
   "id": "eb191938",
   "metadata": {},
   "outputs": [],
   "source": [
    "fruits1"
   ]
  },
  {
   "cell_type": "code",
   "execution_count": null,
   "id": "fb5f6de6",
   "metadata": {},
   "outputs": [],
   "source": [
    "fruit3"
   ]
  },
  {
   "cell_type": "code",
   "execution_count": null,
   "id": "47cfb0a6",
   "metadata": {},
   "outputs": [],
   "source": [
    "# add list as one item in other list\n",
    "fruit4=['guava',fruit3]"
   ]
  },
  {
   "cell_type": "code",
   "execution_count": null,
   "id": "b2aae19f",
   "metadata": {},
   "outputs": [],
   "source": [
    "#see fruit3 list in fruit4\n",
    "fruit4"
   ]
  },
  {
   "cell_type": "markdown",
   "id": "8617675d",
   "metadata": {},
   "source": [
    "Note that the range 2:5 includes the element at the start index 2 but does not include the element at the end index 5. So, the result has 3 values (index 2, 3, and 4)."
   ]
  },
  {
   "cell_type": "code",
   "execution_count": null,
   "id": "d46a8b35",
   "metadata": {},
   "outputs": [],
   "source": [
    "# get part of item in list\n",
    "fruit3[2:5]"
   ]
  },
  {
   "cell_type": "code",
   "execution_count": null,
   "id": "a3aba405",
   "metadata": {},
   "outputs": [],
   "source": [
    "# if end range given is outbound also, it will not show error.It will display upto last item\n",
    "fruit3[2:10]"
   ]
  },
  {
   "cell_type": "code",
   "execution_count": null,
   "id": "29a6b28c",
   "metadata": {},
   "outputs": [],
   "source": [
    "#if we are giving negative value\n",
    "fruit3[-1,-3]"
   ]
  },
  {
   "attachments": {
    "image.png": {
     "image/png": "[encoded data removed]"
    }
   },
   "cell_type": "markdown",
   "id": "dc9e2e2c",
   "metadata": {},
   "source": [
    "![image.png](attachment:image.png)"
   ]
  },
  {
   "cell_type": "code",
   "execution_count": null,
   "id": "e893cddf",
   "metadata": {},
   "outputs": [],
   "source": [
    "# if we are giving end value first and start value second\n",
    "fruit3[10,2]"
   ]
  },
  {
   "attachments": {
    "image.png": {
     "image/png": "[encoded data removed]"
    }
   },
   "cell_type": "markdown",
   "id": "e5a37295",
   "metadata": {},
   "source": [
    "![image.png](attachment:image.png)"
   ]
  },
  {
   "cell_type": "code",
   "execution_count": null,
   "id": "365216ab",
   "metadata": {},
   "outputs": [],
   "source": [
    "# no starting range given, it will take 0 as start index\n",
    "fruit3[:6]"
   ]
  },
  {
   "cell_type": "code",
   "execution_count": null,
   "id": "304f98b0",
   "metadata": {},
   "outputs": [],
   "source": [
    "# no ending range given, it will take last  as end index\n",
    "fruit3[2:]"
   ]
  },
  {
   "cell_type": "code",
   "execution_count": null,
   "id": "22548a26",
   "metadata": {},
   "outputs": [],
   "source": [
    "#copying one list to other\n",
    "more_fruits_copy = fruit3.copy()"
   ]
  },
  {
   "cell_type": "code",
   "execution_count": null,
   "id": "aa88eeb6",
   "metadata": {},
   "outputs": [],
   "source": [
    "more_fruits_copy"
   ]
  },
  {
   "cell_type": "code",
   "execution_count": null,
   "id": "3e2fe862",
   "metadata": {},
   "outputs": [],
   "source": [
    "# search by negative value, it will get from last item\n",
    "more_fruits_copy[-1]"
   ]
  },
  {
   "cell_type": "code",
   "execution_count": null,
   "id": "f02f32ac",
   "metadata": {},
   "outputs": [],
   "source": [
    "more_fruits_copy[-2]"
   ]
  },
  {
   "cell_type": "code",
   "execution_count": null,
   "id": "717a1a19",
   "metadata": {},
   "outputs": [],
   "source": [
    "more_fruits_copy"
   ]
  },
  {
   "cell_type": "code",
   "execution_count": null,
   "id": "0c7e7735",
   "metadata": {},
   "outputs": [],
   "source": [
    "#add item in the end\n",
    "fruit3.append(\"kiwi\")"
   ]
  },
  {
   "cell_type": "code",
   "execution_count": null,
   "id": "030aaa6a",
   "metadata": {},
   "outputs": [],
   "source": [
    "fruit3\n"
   ]
  },
  {
   "cell_type": "code",
   "execution_count": null,
   "id": "69ac01c0",
   "metadata": {},
   "outputs": [],
   "source": [
    "#Reverse the order of elements in a list\n",
    "fruit3.reverse()"
   ]
  },
  {
   "cell_type": "code",
   "execution_count": null,
   "id": "daa42192",
   "metadata": {},
   "outputs": [],
   "source": [
    "fruit3"
   ]
  },
  {
   "cell_type": "code",
   "execution_count": null,
   "id": "53bc0757",
   "metadata": {},
   "outputs": [],
   "source": [
    "#Sort a list of strings in alphabetical order\n",
    "fruit3.sort()"
   ]
  },
  {
   "cell_type": "code",
   "execution_count": null,
   "id": "2788f7f7",
   "metadata": {},
   "outputs": [],
   "source": [
    "fruit3"
   ]
  },
  {
   "cell_type": "code",
   "execution_count": null,
   "id": "ce24cf4b",
   "metadata": {},
   "outputs": [],
   "source": [
    "\n",
    "num=[2,7,2,3,1,9,5,7]\n",
    "num\n"
   ]
  },
  {
   "cell_type": "code",
   "execution_count": null,
   "id": "e5c1e42e",
   "metadata": {},
   "outputs": [],
   "source": [
    "#Sort a list of numbers in decreasing order\n",
    "num.sort()\n",
    "print(num)"
   ]
  },
  {
   "cell_type": "code",
   "execution_count": null,
   "id": "dbff710c",
   "metadata": {},
   "outputs": [],
   "source": [
    "#remove item with value\n",
    "fruit3.remove('banana')"
   ]
  },
  {
   "cell_type": "code",
   "execution_count": null,
   "id": "0695631f",
   "metadata": {},
   "outputs": [],
   "source": [
    "fruit3"
   ]
  },
  {
   "cell_type": "code",
   "execution_count": 2,
   "id": "392deb5c",
   "metadata": {},
   "outputs": [
    {
     "ename": "NameError",
     "evalue": "name 'fruit3' is not defined",
     "output_type": "error",
     "traceback": [
      "\u001b[1;31m---------------------------------------------------------------------------\u001b[0m",
      "\u001b[1;31mNameError\u001b[0m                                 Traceback (most recent call last)",
      "\u001b[1;32m<ipython-input-2-2f5666b2ae6d>\u001b[0m in \u001b[0;36m<module>\u001b[1;34m\u001b[0m\n\u001b[0;32m      1\u001b[0m \u001b[1;31m# remove value at the last\u001b[0m\u001b[1;33m\u001b[0m\u001b[1;33m\u001b[0m\u001b[1;33m\u001b[0m\u001b[0m\n\u001b[1;32m----> 2\u001b[1;33m \u001b[0mfruit3\u001b[0m\u001b[1;33m.\u001b[0m\u001b[0mpop\u001b[0m\u001b[1;33m(\u001b[0m\u001b[1;33m)\u001b[0m\u001b[1;33m\u001b[0m\u001b[1;33m\u001b[0m\u001b[0m\n\u001b[0m",
      "\u001b[1;31mNameError\u001b[0m: name 'fruit3' is not defined"
     ]
    }
   ],
   "source": [
    "# remove value at the last\n",
    "fruit3.pop()"
   ]
  },
  {
   "cell_type": "code",
   "execution_count": null,
   "id": "22bcde1b",
   "metadata": {},
   "outputs": [],
   "source": [
    "fruit3"
   ]
  },
  {
   "cell_type": "code",
   "execution_count": null,
   "id": "66087fbe",
   "metadata": {},
   "outputs": [],
   "source": [
    "#remove value with index\n",
    "fruit3.pop(3)"
   ]
  },
  {
   "cell_type": "code",
   "execution_count": null,
   "id": "e0f3c169",
   "metadata": {},
   "outputs": [],
   "source": [
    "fruit3"
   ]
  },
  {
   "cell_type": "markdown",
   "id": "dcf0f428",
   "metadata": {},
   "source": [
    "### Tuple\n",
    "\n",
    "A tuple is an ordered collection of values, similar to a list. However, it is not possible to add, remove, or modify values in a tuple. A tuple is created by enclosing values within parentheses ( and ), separated by commas.\n",
    "\n",
    "Any data structure that cannot be modified after creation is called immutable. You can think of tuples as immutable lists."
   ]
  },
  {
   "cell_type": "code",
   "execution_count": null,
   "id": "4e25237c",
   "metadata": {},
   "outputs": [],
   "source": [
    "fruits = ('apple', 'cherry', 'dates')"
   ]
  },
  {
   "cell_type": "code",
   "execution_count": null,
   "id": "12ae450c",
   "metadata": {},
   "outputs": [],
   "source": [
    "len(fruits)"
   ]
  },
  {
   "cell_type": "code",
   "execution_count": null,
   "id": "d2df9837",
   "metadata": {},
   "outputs": [],
   "source": [
    "fruits[1]"
   ]
  },
  {
   "cell_type": "code",
   "execution_count": null,
   "id": "2971b4aa",
   "metadata": {},
   "outputs": [],
   "source": [
    "fruits[-1]"
   ]
  },
  {
   "cell_type": "code",
   "execution_count": null,
   "id": "e5ba709d",
   "metadata": {},
   "outputs": [],
   "source": [
    "len(fruits)"
   ]
  },
  {
   "cell_type": "code",
   "execution_count": null,
   "id": "48bc58f0",
   "metadata": {},
   "outputs": [],
   "source": [
    "'dates' in fruits"
   ]
  },
  {
   "cell_type": "code",
   "execution_count": null,
   "id": "33bd2a48",
   "metadata": {},
   "outputs": [],
   "source": [
    "fruits[0] = 'avocado'"
   ]
  },
  {
   "attachments": {
    "image.png": {
     "image/png": "[encoded data removed]"
    }
   },
   "cell_type": "markdown",
   "id": "4375dc4d",
   "metadata": {},
   "source": [
    "![image.png](attachment:image.png)"
   ]
  },
  {
   "cell_type": "markdown",
   "id": "d9cd626b",
   "metadata": {},
   "source": [
    "We cannot able to add , remove,pop in Tuple"
   ]
  },
  {
   "cell_type": "code",
   "execution_count": null,
   "id": "ec2f29e6",
   "metadata": {},
   "outputs": [],
   "source": [
    "another_single_element_tuple = (4,)"
   ]
  },
  {
   "cell_type": "code",
   "execution_count": null,
   "id": "cab83cdd",
   "metadata": {},
   "outputs": [],
   "source": [
    "another_single_element_tuple"
   ]
  },
  {
   "cell_type": "code",
   "execution_count": null,
   "id": "743c3a4b",
   "metadata": {},
   "outputs": [],
   "source": [
    "single= 4 ,"
   ]
  },
  {
   "cell_type": "code",
   "execution_count": null,
   "id": "af447be5",
   "metadata": {},
   "outputs": [],
   "source": [
    "single"
   ]
  },
  {
   "cell_type": "code",
   "execution_count": null,
   "id": "ba6bd7ca",
   "metadata": {},
   "outputs": [],
   "source": [
    "# Assign multiple variable in tuple\n",
    "point = (3, 4)"
   ]
  },
  {
   "cell_type": "code",
   "execution_count": null,
   "id": "edd2394e",
   "metadata": {},
   "outputs": [],
   "source": [
    "point_x , point_y=point"
   ]
  },
  {
   "cell_type": "code",
   "execution_count": null,
   "id": "49ac99e6",
   "metadata": {},
   "outputs": [],
   "source": [
    "point_x"
   ]
  },
  {
   "cell_type": "markdown",
   "id": "a51e7068",
   "metadata": {},
   "source": [
    "You can convert a list into a tuple using the `tuple` function, and vice versa using the `list` function"
   ]
  },
  {
   "cell_type": "code",
   "execution_count": null,
   "id": "db823ead",
   "metadata": {},
   "outputs": [],
   "source": [
    "tuple(fruit3)"
   ]
  },
  {
   "cell_type": "code",
   "execution_count": null,
   "id": "fd561cad",
   "metadata": {},
   "outputs": [],
   "source": [
    "list(point)"
   ]
  },
  {
   "cell_type": "code",
   "execution_count": null,
   "id": "ae2e0c37",
   "metadata": {},
   "outputs": [],
   "source": [
    "# get the number of occurring of items\n",
    "\n",
    "tuple(fruit3).count('apple')"
   ]
  },
  {
   "cell_type": "code",
   "execution_count": null,
   "id": "46e578a0",
   "metadata": {},
   "outputs": [],
   "source": [
    "# get the index of value\n",
    "tuple(fruit3).index('apple')"
   ]
  },
  {
   "cell_type": "markdown",
   "id": "0a45f1ea",
   "metadata": {},
   "source": [
    "### set\n",
    "Sets are used to store multiple items in a single variable.\n",
    "\n",
    "A set is a collection which is both unordered,Unchangeable,Duplicates Not Allowed and unindexed.\n",
    "\n",
    "\n",
    "Unordered means that the items in a set do not have a defined order.\n",
    "\n",
    "Sets are written with curly brackets.\n",
    "\n"
   ]
  },
  {
   "cell_type": "code",
   "execution_count": 6,
   "id": "32eea3cd",
   "metadata": {},
   "outputs": [],
   "source": [
    "myset = {\"apple\", \"banana\", \"cherry\"}"
   ]
  },
  {
   "cell_type": "code",
   "execution_count": 7,
   "id": "a496d9eb",
   "metadata": {},
   "outputs": [
    {
     "data": {
      "text/plain": [
       "{'apple', 'banana', 'cherry'}"
      ]
     },
     "execution_count": 7,
     "metadata": {},
     "output_type": "execute_result"
    }
   ],
   "source": [
    "myset"
   ]
  },
  {
   "cell_type": "code",
   "execution_count": 8,
   "id": "84ec7a97",
   "metadata": {},
   "outputs": [
    {
     "data": {
      "text/plain": [
       "set"
      ]
     },
     "execution_count": 8,
     "metadata": {},
     "output_type": "execute_result"
    }
   ],
   "source": [
    "type(myset)"
   ]
  },
  {
   "cell_type": "code",
   "execution_count": 9,
   "id": "87531f07",
   "metadata": {},
   "outputs": [
    {
     "data": {
      "text/plain": [
       "3"
      ]
     },
     "execution_count": 9,
     "metadata": {},
     "output_type": "execute_result"
    }
   ],
   "source": [
    "len(myset)"
   ]
  },
  {
   "cell_type": "code",
   "execution_count": 10,
   "id": "ae9fd6be",
   "metadata": {},
   "outputs": [
    {
     "name": "stdout",
     "output_type": "stream",
     "text": [
      "{'banana', 'cherry', 'apple'}\n"
     ]
    }
   ],
   "source": [
    "# constructors\n",
    "thisset = set((\"apple\", \"banana\", \"cherry\")) # note the double round-brackets\n",
    "print(thisset)"
   ]
  },
  {
   "cell_type": "code",
   "execution_count": 11,
   "id": "1763551b",
   "metadata": {},
   "outputs": [
    {
     "name": "stdout",
     "output_type": "stream",
     "text": [
      "True\n"
     ]
    }
   ],
   "source": [
    "# search the item value\n",
    "print(\"banana\" in thisset)"
   ]
  },
  {
   "cell_type": "code",
   "execution_count": 12,
   "id": "dd6458de",
   "metadata": {},
   "outputs": [
    {
     "name": "stdout",
     "output_type": "stream",
     "text": [
      "{'banana', 'cherry', 'apple', 'orange'}\n"
     ]
    }
   ],
   "source": [
    "# add Items\n",
    "thisset.add(\"orange\")\n",
    "\n",
    "print(thisset)"
   ]
  },
  {
   "cell_type": "code",
   "execution_count": 21,
   "id": "6cc83b8a",
   "metadata": {},
   "outputs": [
    {
     "name": "stdout",
     "output_type": "stream",
     "text": [
      "{'orange', 'cherry', 'o', 'a', 'n', 'papaya', 'mango', 'banana', 'pineapple', 'm', 'apple', 'g'}\n"
     ]
    }
   ],
   "source": [
    "# update with set\n",
    "tropical = {\"pineapple\", \"mango\", \"papaya\"}\n",
    "\n",
    "thisset.update(tropical)\n",
    "\n",
    "print(thisset)"
   ]
  },
  {
   "cell_type": "code",
   "execution_count": 22,
   "id": "4ab11520",
   "metadata": {},
   "outputs": [],
   "source": [
    "# update with string\n",
    "thisset.update(\"mango\")"
   ]
  },
  {
   "cell_type": "code",
   "execution_count": 23,
   "id": "1e41b87b",
   "metadata": {},
   "outputs": [
    {
     "name": "stdout",
     "output_type": "stream",
     "text": [
      "{'orange', 'cherry', 'o', 'a', 'n', 'papaya', 'mango', 'banana', 'pineapple', 'm', 'apple', 'g'}\n"
     ]
    }
   ],
   "source": [
    "print(thisset)\n"
   ]
  },
  {
   "cell_type": "code",
   "execution_count": 24,
   "id": "b381ad44",
   "metadata": {},
   "outputs": [
    {
     "name": "stdout",
     "output_type": "stream",
     "text": [
      "{'orange', 'cherry', 'o', 'a', 'n', 'mango', 'banana', 'pineapple', 'm', 'apple', 'g'}\n"
     ]
    }
   ],
   "source": [
    "# Remove the item\n",
    "thisset.remove(\"papaya\")\n",
    "\n",
    "print(thisset)"
   ]
  },
  {
   "cell_type": "markdown",
   "id": "a181ed77",
   "metadata": {},
   "source": [
    "#### Joins in set\n"
   ]
  },
  {
   "cell_type": "code",
   "execution_count": 25,
   "id": "17d9f70b",
   "metadata": {},
   "outputs": [
    {
     "name": "stdout",
     "output_type": "stream",
     "text": [
      "{'apple'}\n"
     ]
    }
   ],
   "source": [
    "# Keep ONLY the Duplicates and update existing set\n",
    "x = {\"apple\", \"banana\", \"cherry\"}\n",
    "y = {\"google\", \"microsoft\", \"apple\"}\n",
    "\n",
    "x.intersection_update(y)\n",
    "\n",
    "print(x)"
   ]
  },
  {
   "cell_type": "code",
   "execution_count": 26,
   "id": "034dba61",
   "metadata": {},
   "outputs": [
    {
     "name": "stdout",
     "output_type": "stream",
     "text": [
      "{'apple'}\n"
     ]
    }
   ],
   "source": [
    "# Keep ONLY the Duplicates and update new set\n",
    "x = {\"apple\", \"banana\", \"cherry\"}\n",
    "y = {\"google\", \"microsoft\", \"apple\"}\n",
    "\n",
    "z = x.intersection(y)\n",
    "\n",
    "print(z)"
   ]
  },
  {
   "cell_type": "code",
   "execution_count": 27,
   "id": "1a984084",
   "metadata": {},
   "outputs": [
    {
     "name": "stdout",
     "output_type": "stream",
     "text": [
      "{'google', 'banana', 'cherry', 'microsoft'}\n"
     ]
    }
   ],
   "source": [
    "# Keep All, But NOT the Duplicates and update existing set\n",
    "x = {\"apple\", \"banana\", \"cherry\"}\n",
    "y = {\"google\", \"microsoft\", \"apple\"}\n",
    "\n",
    "x.symmetric_difference_update(y)\n",
    "\n",
    "print(x)"
   ]
  },
  {
   "cell_type": "code",
   "execution_count": 28,
   "id": "d32ab0f5",
   "metadata": {},
   "outputs": [
    {
     "name": "stdout",
     "output_type": "stream",
     "text": [
      "{'banana', 'microsoft', 'google', 'cherry'}\n"
     ]
    }
   ],
   "source": [
    "# Keep All, But NOT the Duplicates and update new set\n",
    "\n",
    "x = {\"apple\", \"banana\", \"cherry\"}\n",
    "y = {\"google\", \"microsoft\", \"apple\"}\n",
    "\n",
    "z = x.symmetric_difference(y)\n",
    "\n",
    "print(z)"
   ]
  },
  {
   "cell_type": "markdown",
   "id": "827b0ce2",
   "metadata": {},
   "source": [
    "Some of other set methods\n",
    "\n",
    "\n",
    "1.add()---->\tAdds an element to the set\n",
    "\n",
    "2.clear()---->\tRemoves all the elements from the set\n",
    "\n",
    "3.copy()--->\tReturns a copy of the set\n",
    "\n",
    "4.difference()--->\tReturns a set containing the difference between two or more sets\n",
    "\n",
    "5.difference_update()--->\tRemoves the items in this set that are also included in another, specified set\n",
    "\n",
    "6.discard()---->\tRemove the specified item\n",
    "\n",
    "7.intersection()---->\tReturns a set, that is the intersection of two other sets\n",
    "\n",
    "8.intersection_update()---->\tRemoves the items in this set that are not present in other, specified set(s)\n",
    "\n",
    "9.isdisjoint()---->\tReturns whether two sets have a intersection or not\n",
    "\n",
    "10.issubset()---->\tReturns whether another set contains this set or not\n",
    "\n",
    "11.issuperset()--->\tReturns whether this set contains another set or not\n",
    "\n",
    "12.pop()--->\tRemoves an element from the set\n",
    "\n",
    "13.remove()---->\tRemoves the specified element\n",
    "\n",
    "14.symmetric_difference()---->\tReturns a set with the symmetric differences of two sets\n",
    "\n",
    "15.symmetric_difference_update()----->\tinserts the symmetric differences from this set and another\n",
    "\n",
    "16.union()\t------>Return a set containing the union of sets\n",
    "\n",
    "17.update()----->\tUpdate the set with the union of this set and others\n",
    "\n",
    "\n",
    "These function are more helpful, statistical predictions."
   ]
  },
  {
   "cell_type": "markdown",
   "id": "51724216",
   "metadata": {},
   "source": [
    "### Dictionary\n",
    "\n",
    "\n",
    "\n",
    "A dictionary is an unordered collection of items. Each item stored in a dictionary has a key and value. You can use a key to retrieve the corresponding value from the dictionary.  Dictionaries have the type `dict`.\n",
    "\n",
    "Dictionaries are often used to store many pieces of information e.g. details about a person, in a single variable. Dictionaries are created by enclosing key-value pairs within braces or curly brackets `{` and `}`."
   ]
  },
  {
   "cell_type": "code",
   "execution_count": 29,
   "id": "5769f2a4",
   "metadata": {},
   "outputs": [],
   "source": [
    "person1 = {\n",
    "    'name': 'John Doe',\n",
    "    'sex': 'Male',\n",
    "    'age': 32,\n",
    "    'married': True\n",
    "}"
   ]
  },
  {
   "cell_type": "code",
   "execution_count": 33,
   "id": "e654917c",
   "metadata": {},
   "outputs": [
    {
     "data": {
      "text/plain": [
       "{'name': 'John Doe', 'sex': 'Male', 'age': 32, 'married': True}"
      ]
     },
     "execution_count": 33,
     "metadata": {},
     "output_type": "execute_result"
    }
   ],
   "source": [
    "person1"
   ]
  },
  {
   "cell_type": "code",
   "execution_count": 35,
   "id": "0f075075",
   "metadata": {},
   "outputs": [
    {
     "data": {
      "text/plain": [
       "'John Doe'"
      ]
     },
     "execution_count": 35,
     "metadata": {},
     "output_type": "execute_result"
    }
   ],
   "source": [
    "person1['name']"
   ]
  },
  {
   "cell_type": "code",
   "execution_count": 45,
   "id": "ea16c357",
   "metadata": {},
   "outputs": [],
   "source": [
    "person2=dict(name= 'Shalini Raman',\n",
    "    sex= 'Male',\n",
    "    age= 32,\n",
    "    married= True\n",
    "             )"
   ]
  },
  {
   "cell_type": "code",
   "execution_count": 46,
   "id": "fee75975",
   "metadata": {},
   "outputs": [
    {
     "data": {
      "text/plain": [
       "{'name': 'Shalini Raman', 'sex': 'Male', 'age': 32, 'married': True}"
      ]
     },
     "execution_count": 46,
     "metadata": {},
     "output_type": "execute_result"
    }
   ],
   "source": [
    "person2"
   ]
  },
  {
   "cell_type": "code",
   "execution_count": 47,
   "id": "a2f5dce8",
   "metadata": {},
   "outputs": [
    {
     "ename": "NameError",
     "evalue": "name 'address' is not defined",
     "output_type": "error",
     "traceback": [
      "\u001b[1;31m---------------------------------------------------------------------------\u001b[0m",
      "\u001b[1;31mNameError\u001b[0m                                 Traceback (most recent call last)",
      "\u001b[1;32m<ipython-input-47-956dc5da9ac9>\u001b[0m in \u001b[0;36m<module>\u001b[1;34m\u001b[0m\n\u001b[1;32m----> 1\u001b[1;33m \u001b[0mperson2\u001b[0m\u001b[1;33m[\u001b[0m\u001b[0maddress\u001b[0m\u001b[1;33m]\u001b[0m\u001b[1;33m\u001b[0m\u001b[1;33m\u001b[0m\u001b[0m\n\u001b[0m",
      "\u001b[1;31mNameError\u001b[0m: name 'address' is not defined"
     ]
    }
   ],
   "source": [
    "person2[address]"
   ]
  },
  {
   "attachments": {
    "image.png": {
     "image/png": "[encoded data removed]"
    }
   },
   "cell_type": "markdown",
   "id": "88ca11e0",
   "metadata": {},
   "source": [
    "![image.png](attachment:image.png)"
   ]
  },
  {
   "cell_type": "code",
   "execution_count": 49,
   "id": "397d6ffc",
   "metadata": {},
   "outputs": [
    {
     "data": {
      "text/plain": [
       "'Shalini Raman'"
      ]
     },
     "execution_count": 49,
     "metadata": {},
     "output_type": "execute_result"
    }
   ],
   "source": [
    "#You can also use the get method to access the value associated with a key.\n",
    "person2.get('name')"
   ]
  },
  {
   "cell_type": "code",
   "execution_count": 51,
   "id": "4bc7fa91",
   "metadata": {},
   "outputs": [
    {
     "data": {
      "text/plain": [
       "True"
      ]
     },
     "execution_count": 51,
     "metadata": {},
     "output_type": "execute_result"
    }
   ],
   "source": [
    "#You can check whether a key is present in a dictionary using the in operator.\n",
    "'name' in person1"
   ]
  },
  {
   "cell_type": "code",
   "execution_count": 52,
   "id": "54ccfd22",
   "metadata": {},
   "outputs": [
    {
     "data": {
      "text/plain": [
       "True"
      ]
     },
     "execution_count": 52,
     "metadata": {},
     "output_type": "execute_result"
    }
   ],
   "source": [
    "person2['married']"
   ]
  },
  {
   "cell_type": "code",
   "execution_count": 54,
   "id": "a3795824",
   "metadata": {},
   "outputs": [],
   "source": [
    "# add a address\n",
    "person1['address'] = '1, Penny Lane'"
   ]
  },
  {
   "cell_type": "code",
   "execution_count": 55,
   "id": "2043915f",
   "metadata": {},
   "outputs": [
    {
     "data": {
      "text/plain": [
       "{'name': 'John Doe',\n",
       " 'sex': 'Male',\n",
       " 'age': 32,\n",
       " 'married': True,\n",
       " 'address': '1, Penny Lane'}"
      ]
     },
     "execution_count": 55,
     "metadata": {},
     "output_type": "execute_result"
    }
   ],
   "source": [
    "person1"
   ]
  },
  {
   "cell_type": "code",
   "execution_count": 56,
   "id": "ac160394",
   "metadata": {},
   "outputs": [
    {
     "data": {
      "text/plain": [
       "'1, Penny Lane'"
      ]
     },
     "execution_count": 56,
     "metadata": {},
     "output_type": "execute_result"
    }
   ],
   "source": [
    "# remove item\n",
    "person1.pop('address')"
   ]
  },
  {
   "cell_type": "code",
   "execution_count": 57,
   "id": "c28c7739",
   "metadata": {},
   "outputs": [
    {
     "data": {
      "text/plain": [
       "{'name': 'John Doe', 'sex': 'Male', 'age': 32, 'married': True}"
      ]
     },
     "execution_count": 57,
     "metadata": {},
     "output_type": "execute_result"
    }
   ],
   "source": [
    "person1"
   ]
  },
  {
   "cell_type": "code",
   "execution_count": 58,
   "id": "a27fa644",
   "metadata": {},
   "outputs": [
    {
     "data": {
      "text/plain": [
       "dict_keys(['name', 'sex', 'age', 'married'])"
      ]
     },
     "execution_count": 58,
     "metadata": {},
     "output_type": "execute_result"
    }
   ],
   "source": [
    "person1.keys()"
   ]
  },
  {
   "cell_type": "code",
   "execution_count": 60,
   "id": "02840089",
   "metadata": {},
   "outputs": [
    {
     "data": {
      "text/plain": [
       "dict_values(['John Doe', 'Male', 32, True])"
      ]
     },
     "execution_count": 60,
     "metadata": {},
     "output_type": "execute_result"
    }
   ],
   "source": [
    "person1.values()"
   ]
  },
  {
   "cell_type": "code",
   "execution_count": 61,
   "id": "f6ae73b2",
   "metadata": {},
   "outputs": [
    {
     "data": {
      "text/plain": [
       "dict_items([('name', 'John Doe'), ('sex', 'Male'), ('age', 32), ('married', True)])"
      ]
     },
     "execution_count": 61,
     "metadata": {},
     "output_type": "execute_result"
    }
   ],
   "source": [
    "person1.items()"
   ]
  },
  {
   "cell_type": "code",
   "execution_count": 70,
   "id": "7a6b5f51",
   "metadata": {},
   "outputs": [
    {
     "data": {
      "text/plain": [
       "'name'"
      ]
     },
     "execution_count": 70,
     "metadata": {},
     "output_type": "execute_result"
    }
   ],
   "source": [
    "list(person1)[0]"
   ]
  },
  {
   "cell_type": "code",
   "execution_count": 71,
   "id": "0c99ec62",
   "metadata": {},
   "outputs": [
    {
     "data": {
      "text/plain": [
       "'John Doe'"
      ]
     },
     "execution_count": 71,
     "metadata": {},
     "output_type": "execute_result"
    }
   ],
   "source": [
    "list(person1.values())[0]"
   ]
  },
  {
   "cell_type": "code",
   "execution_count": 72,
   "id": "7933c4fd",
   "metadata": {},
   "outputs": [
    {
     "data": {
      "text/plain": [
       "('name', 'John Doe')"
      ]
     },
     "execution_count": 72,
     "metadata": {},
     "output_type": "execute_result"
    }
   ],
   "source": [
    "list(person1.items())[0]"
   ]
  },
  {
   "cell_type": "code",
   "execution_count": 75,
   "id": "514be079",
   "metadata": {},
   "outputs": [
    {
     "data": {
      "text/plain": [
       "['Sun,Mon,Tue,Wed,Thu,Fri,Sat']"
      ]
     },
     "execution_count": 75,
     "metadata": {},
     "output_type": "execute_result"
    }
   ],
   "source": [
    "\"Sun,Mon,Tue,Wed,Thu,Fri,Sat\".split()"
   ]
  },
  {
   "cell_type": "code",
   "execution_count": null,
   "id": "fa9db0a8",
   "metadata": {},
   "outputs": [],
   "source": []
  }
 ],
 "metadata": {
  "kernelspec": {
   "display_name": "Python 3",
   "language": "python",
   "name": "python3"
  },
  "language_info": {
   "codemirror_mode": {
    "name": "ipython",
    "version": 3
   },
   "file_extension": ".py",
   "mimetype": "text/x-python",
   "name": "python",
   "nbconvert_exporter": "python",
   "pygments_lexer": "ipython3",
   "version": "3.8.8"
  }
 },
 "nbformat": 4,
 "nbformat_minor": 5
}
